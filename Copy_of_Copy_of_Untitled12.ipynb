{
  "nbformat": 4,
  "nbformat_minor": 0,
  "metadata": {
    "colab": {
      "name": "Copy of Copy of Untitled12.ipynb",
      "version": "0.3.2",
      "provenance": [],
      "collapsed_sections": [],
      "include_colab_link": true
    },
    "kernelspec": {
      "name": "python3",
      "display_name": "Python 3"
    },
    "accelerator": "GPU"
  },
  "cells": [
    {
      "cell_type": "markdown",
      "metadata": {
        "id": "view-in-github",
        "colab_type": "text"
      },
      "source": [
        "<a href=\"https://colab.research.google.com/github/MehrdadJannesar/CNN_AdaBoost/blob/master/Copy_of_Copy_of_Untitled12.ipynb\" target=\"_parent\"><img src=\"https://colab.research.google.com/assets/colab-badge.svg\" alt=\"Open In Colab\"/></a>"
      ]
    },
    {
      "cell_type": "code",
      "metadata": {
        "id": "jmGxAO72aR64",
        "colab_type": "code",
        "colab": {}
      },
      "source": [
        "#Load dataset\n",
        "from keras.datasets import cifar10\n",
        "import keras\n",
        "(train_images, train_labels),(test_images, test_labels) = cifar10.load_data()"
      ],
      "execution_count": 0,
      "outputs": []
    },
    {
      "cell_type": "code",
      "metadata": {
        "id": "dCSjbMB_ao6Q",
        "colab_type": "code",
        "outputId": "46ed1495-1b62-4dd0-eda9-0a0641fc8305",
        "colab": {
          "base_uri": "https://localhost:8080/",
          "height": 67
        }
      },
      "source": [
        "#Dataset's information\n",
        "print(\"train_images dimention: \" , train_images.ndim)\n",
        "print(\"train_images shape: \", train_images.shape)\n",
        "print(\"train_image type: \", train_images.dtype)"
      ],
      "execution_count": 105,
      "outputs": [
        {
          "output_type": "stream",
          "text": [
            "train_images dimention:  4\n",
            "train_images shape:  (50000, 32, 32, 3)\n",
            "train_image type:  uint8\n"
          ],
          "name": "stdout"
        }
      ]
    },
    {
      "cell_type": "code",
      "metadata": {
        "id": "WmaAg0u9auqi",
        "colab_type": "code",
        "colab": {}
      },
      "source": [
        "#Optimazation and categorical dataset\n",
        "X_train = train_images.astype('float32')\n",
        "X_test = test_images.astype('float32')\n",
        "\n",
        "\n",
        "X_train /= 255\n",
        "X_test /= 255\n",
        "\n",
        "\n",
        "N_classes = 10\n",
        "cifar_classes = [\"airplane\", \"automobile\", \"bird\", \"cat\", \"deer\", \n",
        "                   \"dog\", \"frog\", \"horse\", \"ship\", \"truck\"]\n",
        "\n",
        "Y_train = keras.utils.to_categorical(train_labels,N_classes)\n",
        "Y_test = keras.utils.to_categorical(test_labels,N_classes)"
      ],
      "execution_count": 0,
      "outputs": []
    },
    {
      "cell_type": "code",
      "metadata": {
        "id": "n7tuq9ZAavJF",
        "colab_type": "code",
        "colab": {}
      },
      "source": [
        "from keras.models import Model\n",
        "from keras.layers import Dense,Input,Flatten\n",
        "from keras.applications.resnet50 import ResNet50"
      ],
      "execution_count": 0,
      "outputs": []
    },
    {
      "cell_type": "code",
      "metadata": {
        "id": "mRQTPDqZ0CfB",
        "colab_type": "code",
        "outputId": "f395c5ed-0480-44bd-9e16-f0d1b65b8a2b",
        "colab": {
          "base_uri": "https://localhost:8080/",
          "height": 33
        }
      },
      "source": [
        "#Connect to google drive\n",
        "from google.colab import drive\n",
        "drive.mount('/content/gdrive')"
      ],
      "execution_count": 108,
      "outputs": [
        {
          "output_type": "stream",
          "text": [
            "Drive already mounted at /content/gdrive; to attempt to forcibly remount, call drive.mount(\"/content/gdrive\", force_remount=True).\n"
          ],
          "name": "stdout"
        }
      ]
    },
    {
      "cell_type": "code",
      "metadata": {
        "id": "mMQITZ0Ba9Fc",
        "colab_type": "code",
        "colab": {}
      },
      "source": [
        "#Create model\n",
        "input_layer = Input((32, 32, 3))\n",
        "resnet = ResNet50(include_top = False, pooling = 'avg'\n",
        "                  , weights = '/content/gdrive/My Drive/Data/Data/resnet50_weights_tf_dim_ordering_tf_kernels_notop.h5')(input_layer)\n",
        "\n",
        "dense = Dense(N_classes, activation = 'softmax')(resnet)\n",
        "\n",
        "myModel = Model(input_layer, dense)\n"
      ],
      "execution_count": 0,
      "outputs": []
    },
    {
      "cell_type": "code",
      "metadata": {
        "id": "falPtPQwbiOl",
        "colab_type": "code",
        "outputId": "03b50116-4238-49f3-fce8-b045a487aead",
        "colab": {
          "base_uri": "https://localhost:8080/",
          "height": 234
        }
      },
      "source": [
        "#Summary model\n",
        "myModel.summary()"
      ],
      "execution_count": 110,
      "outputs": [
        {
          "output_type": "stream",
          "text": [
            "_________________________________________________________________\n",
            "Layer (type)                 Output Shape              Param #   \n",
            "=================================================================\n",
            "input_3 (InputLayer)         (None, 32, 32, 3)         0         \n",
            "_________________________________________________________________\n",
            "resnet50 (Model)             (None, 2048)              23587712  \n",
            "_________________________________________________________________\n",
            "dense_20 (Dense)             (None, 10)                20490     \n",
            "=================================================================\n",
            "Total params: 23,608,202\n",
            "Trainable params: 23,555,082\n",
            "Non-trainable params: 53,120\n",
            "_________________________________________________________________\n"
          ],
          "name": "stdout"
        }
      ]
    },
    {
      "cell_type": "code",
      "metadata": {
        "id": "2bQsnGnubi4k",
        "colab_type": "code",
        "colab": {}
      },
      "source": [
        "#Initial optimizer\n",
        "import keras\n",
        "sgd = keras.optimizers.SGD(lr = 0.01, decay = 1e-6, momentum = 0.9, nesterov = True)\n",
        "myModel.compile(optimizer = sgd, loss = keras.losses.categorical_crossentropy, metrics = ['accuracy'])"
      ],
      "execution_count": 0,
      "outputs": []
    },
    {
      "cell_type": "code",
      "metadata": {
        "id": "XeFUYywCdszO",
        "colab_type": "code",
        "colab": {}
      },
      "source": [
        "#CallBacks\n",
        "#Save model\n",
        "\n",
        "myModel.save('/content/gdrive/My Drive/Data/Data/model{epoch}_func_api.h5')\n",
        "myModel.save_weights('/content/gdrive/My Drive/Data/Data/model_weights_func_api.h5')\n",
        "\n",
        "from keras import callbacks\n",
        "\n",
        "\n",
        "model_checkpoint = callbacks.ModelCheckpoint('/content/gdrive/My Drive/Data/Data/model_func_api.h5')\n",
        "model_log = callbacks.CSVLogger('/content/gdrive/My Drive/Data/Data/model_func_api.log')\n",
        "model_tensor = callbacks.TensorBoard('/content/gdrive/My Drive/Data/Data/Tensorboard/run2/_func_api ')\n",
        "callbacks= [model_checkpoint, model_log, model_tensor]"
      ],
      "execution_count": 0,
      "outputs": []
    },
    {
      "cell_type": "code",
      "metadata": {
        "id": "avwhKTY6ztji",
        "colab_type": "code",
        "colab": {}
      },
      "source": [
        "#Load model\n",
        "\n",
        "# from keras.models import load_model\n",
        "\n",
        "# model_load = load_model('/content/gdrive/My Drive/Data/Data/model{epoch}.h5')\n"
      ],
      "execution_count": 0,
      "outputs": []
    },
    {
      "cell_type": "code",
      "metadata": {
        "id": "fWh5jZ0ocAs0",
        "colab_type": "code",
        "outputId": "6a6f3012-6a22-47c8-8475-acb9ef0011f9",
        "colab": {
          "base_uri": "https://localhost:8080/",
          "height": 1000
        }
      },
      "source": [
        "#Learning network\n",
        "import datetime\n",
        "\n",
        "start = datetime.datetime.now()\n",
        "\n",
        "network_history = myModel.fit(X_train, Y_train, batch_size=128, epochs=50 ,validation_split=0.2\n",
        "                             ,callbacks=callbacks)\n",
        "\n",
        "end = datetime.datetime.now()\n",
        "\n",
        "print('time compile is : ', str(end - start))"
      ],
      "execution_count": 113,
      "outputs": [
        {
          "output_type": "stream",
          "text": [
            "Train on 40000 samples, validate on 10000 samples\n",
            "Epoch 1/50\n",
            "40000/40000 [==============================] - 35s 866us/step - loss: 1.4898 - acc: 0.5246 - val_loss: 1.4553 - val_acc: 0.5345\n",
            "Epoch 2/50\n",
            "40000/40000 [==============================] - 29s 735us/step - loss: 1.5752 - acc: 0.4694 - val_loss: 3.0558 - val_acc: 0.1940\n",
            "Epoch 3/50\n",
            "40000/40000 [==============================] - 30s 743us/step - loss: 1.8124 - acc: 0.3730 - val_loss: 12.3485 - val_acc: 0.1078\n",
            "Epoch 4/50\n",
            "40000/40000 [==============================] - 30s 746us/step - loss: 1.5182 - acc: 0.4515 - val_loss: 1.4560 - val_acc: 0.4865\n",
            "Epoch 5/50\n",
            "40000/40000 [==============================] - 30s 752us/step - loss: 1.3884 - acc: 0.5061 - val_loss: 1.3821 - val_acc: 0.5140\n",
            "Epoch 6/50\n",
            "40000/40000 [==============================] - 30s 751us/step - loss: 1.2437 - acc: 0.5538 - val_loss: 1.3705 - val_acc: 0.5153\n",
            "Epoch 7/50\n",
            "40000/40000 [==============================] - 30s 749us/step - loss: 1.1232 - acc: 0.5971 - val_loss: 1.2150 - val_acc: 0.5632\n",
            "Epoch 8/50\n",
            "40000/40000 [==============================] - 30s 757us/step - loss: 1.0097 - acc: 0.6404 - val_loss: 1.2019 - val_acc: 0.5827\n",
            "Epoch 9/50\n",
            "40000/40000 [==============================] - 30s 751us/step - loss: 0.9060 - acc: 0.6777 - val_loss: 1.2064 - val_acc: 0.5901\n",
            "Epoch 10/50\n",
            "40000/40000 [==============================] - 30s 752us/step - loss: 0.8103 - acc: 0.7095 - val_loss: 1.4667 - val_acc: 0.5248\n",
            "Epoch 11/50\n",
            "40000/40000 [==============================] - 30s 761us/step - loss: 0.7267 - acc: 0.7408 - val_loss: 1.2579 - val_acc: 0.5970\n",
            "Epoch 12/50\n",
            "40000/40000 [==============================] - 30s 755us/step - loss: 0.6337 - acc: 0.7712 - val_loss: 1.0940 - val_acc: 0.6487\n",
            "Epoch 13/50\n",
            "40000/40000 [==============================] - 30s 755us/step - loss: 0.5578 - acc: 0.8007 - val_loss: 1.0952 - val_acc: 0.6532\n",
            "Epoch 14/50\n",
            "40000/40000 [==============================] - 30s 753us/step - loss: 0.4646 - acc: 0.8327 - val_loss: 1.5469 - val_acc: 0.5725\n",
            "Epoch 15/50\n",
            "40000/40000 [==============================] - 30s 755us/step - loss: 0.4016 - acc: 0.8593 - val_loss: 1.1648 - val_acc: 0.6514\n",
            "Epoch 16/50\n",
            "40000/40000 [==============================] - 30s 759us/step - loss: 0.3442 - acc: 0.8800 - val_loss: 1.2401 - val_acc: 0.6605\n",
            "Epoch 17/50\n",
            "40000/40000 [==============================] - 31s 766us/step - loss: 0.2834 - acc: 0.9009 - val_loss: 1.3504 - val_acc: 0.6561\n",
            "Epoch 18/50\n",
            "40000/40000 [==============================] - 30s 756us/step - loss: 0.2419 - acc: 0.9147 - val_loss: 1.5556 - val_acc: 0.6224\n",
            "Epoch 19/50\n",
            "40000/40000 [==============================] - 30s 754us/step - loss: 0.1996 - acc: 0.9325 - val_loss: 1.3930 - val_acc: 0.6613\n",
            "Epoch 20/50\n",
            "40000/40000 [==============================] - 30s 754us/step - loss: 0.1577 - acc: 0.9448 - val_loss: 1.5421 - val_acc: 0.6545\n",
            "Epoch 21/50\n",
            "40000/40000 [==============================] - 30s 760us/step - loss: 0.1235 - acc: 0.9574 - val_loss: 1.8589 - val_acc: 0.6427\n",
            "Epoch 22/50\n",
            "40000/40000 [==============================] - 30s 762us/step - loss: 0.1218 - acc: 0.9582 - val_loss: 1.7287 - val_acc: 0.6445\n",
            "Epoch 23/50\n",
            "40000/40000 [==============================] - 30s 759us/step - loss: 0.1074 - acc: 0.9633 - val_loss: 1.8650 - val_acc: 0.6299\n",
            "Epoch 24/50\n",
            "40000/40000 [==============================] - 30s 757us/step - loss: 0.1123 - acc: 0.9621 - val_loss: 1.7952 - val_acc: 0.6327\n",
            "Epoch 25/50\n",
            "40000/40000 [==============================] - 30s 757us/step - loss: 0.0789 - acc: 0.9733 - val_loss: 2.1815 - val_acc: 0.6029\n",
            "Epoch 26/50\n",
            "40000/40000 [==============================] - 30s 757us/step - loss: 0.0868 - acc: 0.9722 - val_loss: 1.7078 - val_acc: 0.6620\n",
            "Epoch 27/50\n",
            "40000/40000 [==============================] - 30s 759us/step - loss: 0.0639 - acc: 0.9791 - val_loss: 1.8223 - val_acc: 0.6597\n",
            "Epoch 28/50\n",
            "40000/40000 [==============================] - 31s 763us/step - loss: 0.0546 - acc: 0.9819 - val_loss: 1.9086 - val_acc: 0.6530\n",
            "Epoch 29/50\n",
            "40000/40000 [==============================] - 30s 755us/step - loss: 0.0827 - acc: 0.9735 - val_loss: 1.9661 - val_acc: 0.6383\n",
            "Epoch 30/50\n",
            "40000/40000 [==============================] - 30s 760us/step - loss: 0.0633 - acc: 0.9790 - val_loss: 1.7717 - val_acc: 0.6665\n",
            "Epoch 31/50\n",
            "40000/40000 [==============================] - 30s 756us/step - loss: 0.0389 - acc: 0.9878 - val_loss: 1.9373 - val_acc: 0.6579\n",
            "Epoch 32/50\n",
            "40000/40000 [==============================] - 30s 758us/step - loss: 0.0329 - acc: 0.9894 - val_loss: 1.8066 - val_acc: 0.6840\n",
            "Epoch 33/50\n",
            "40000/40000 [==============================] - 30s 757us/step - loss: 0.0630 - acc: 0.9790 - val_loss: 1.6926 - val_acc: 0.6878\n",
            "Epoch 34/50\n",
            "40000/40000 [==============================] - 30s 761us/step - loss: 0.0507 - acc: 0.9837 - val_loss: 1.8289 - val_acc: 0.6685\n",
            "Epoch 35/50\n",
            "40000/40000 [==============================] - 30s 758us/step - loss: 0.0354 - acc: 0.9881 - val_loss: 1.7369 - val_acc: 0.6926\n",
            "Epoch 36/50\n",
            "40000/40000 [==============================] - 30s 761us/step - loss: 0.0239 - acc: 0.9926 - val_loss: 1.8451 - val_acc: 0.6899\n",
            "Epoch 37/50\n",
            "40000/40000 [==============================] - 30s 757us/step - loss: 0.0221 - acc: 0.9926 - val_loss: 1.9818 - val_acc: 0.6711\n",
            "Epoch 38/50\n",
            "40000/40000 [==============================] - 30s 755us/step - loss: 0.0166 - acc: 0.9954 - val_loss: 1.8868 - val_acc: 0.6939\n",
            "Epoch 39/50\n",
            "40000/40000 [==============================] - 30s 762us/step - loss: 0.0264 - acc: 0.9913 - val_loss: 1.9365 - val_acc: 0.6815\n",
            "Epoch 40/50\n",
            "40000/40000 [==============================] - 30s 760us/step - loss: 0.0205 - acc: 0.9936 - val_loss: 2.1176 - val_acc: 0.6694\n",
            "Epoch 41/50\n",
            "40000/40000 [==============================] - 30s 755us/step - loss: 0.0212 - acc: 0.9932 - val_loss: 2.1738 - val_acc: 0.6581\n",
            "Epoch 42/50\n",
            "40000/40000 [==============================] - 30s 756us/step - loss: 0.0255 - acc: 0.9916 - val_loss: 1.9008 - val_acc: 0.6955\n",
            "Epoch 43/50\n",
            "40000/40000 [==============================] - 30s 756us/step - loss: 0.0150 - acc: 0.9950 - val_loss: 2.0110 - val_acc: 0.6854\n",
            "Epoch 44/50\n",
            "40000/40000 [==============================] - 30s 757us/step - loss: 0.0169 - acc: 0.9947 - val_loss: 1.9105 - val_acc: 0.6978\n",
            "Epoch 45/50\n",
            "40000/40000 [==============================] - 30s 762us/step - loss: 0.0214 - acc: 0.9932 - val_loss: 1.8854 - val_acc: 0.6989\n",
            "Epoch 46/50\n",
            "40000/40000 [==============================] - 30s 759us/step - loss: 0.0159 - acc: 0.9951 - val_loss: 1.8638 - val_acc: 0.7055\n",
            "Epoch 47/50\n",
            "40000/40000 [==============================] - 30s 757us/step - loss: 0.0134 - acc: 0.9962 - val_loss: 1.9255 - val_acc: 0.6948\n",
            "Epoch 48/50\n",
            "40000/40000 [==============================] - 30s 759us/step - loss: 0.0223 - acc: 0.9929 - val_loss: 1.8956 - val_acc: 0.6925\n",
            "Epoch 49/50\n",
            "40000/40000 [==============================] - 30s 754us/step - loss: 0.0159 - acc: 0.9950 - val_loss: 1.8140 - val_acc: 0.7054\n",
            "Epoch 50/50\n",
            "40000/40000 [==============================] - 30s 756us/step - loss: 0.0107 - acc: 0.9970 - val_loss: 1.9355 - val_acc: 0.7032\n",
            "time compile is :  0:27:47.248534\n"
          ],
          "name": "stdout"
        }
      ]
    },
    {
      "cell_type": "code",
      "metadata": {
        "id": "vOCDt6-mcVmE",
        "colab_type": "code",
        "colab": {
          "base_uri": "https://localhost:8080/",
          "height": 1000
        },
        "outputId": "ef033741-2ba3-499c-ed8d-4c6ea959cc59"
      },
      "source": [
        "input_ress = myModel.get_layer(index=1).inputs\n",
        "output_ress = myModel.get_layer(index=1).outputs\n",
        "ress_model = Model(inputs=input_ress,outputs=output_ress)\n",
        "\n",
        "ress_model.summary()"
      ],
      "execution_count": 116,
      "outputs": [
        {
          "output_type": "stream",
          "text": [
            "__________________________________________________________________________________________________\n",
            "Layer (type)                    Output Shape         Param #     Connected to                     \n",
            "==================================================================================================\n",
            "input_4 (InputLayer)            (None, None, None, 3 0                                            \n",
            "__________________________________________________________________________________________________\n",
            "conv1_pad (ZeroPadding2D)       (None, None, None, 3 0           input_4[0][0]                    \n",
            "__________________________________________________________________________________________________\n",
            "conv1 (Conv2D)                  (None, None, None, 6 9472        conv1_pad[0][0]                  \n",
            "__________________________________________________________________________________________________\n",
            "bn_conv1 (BatchNormalization)   (None, None, None, 6 256         conv1[0][0]                      \n",
            "__________________________________________________________________________________________________\n",
            "activation_50 (Activation)      (None, None, None, 6 0           bn_conv1[0][0]                   \n",
            "__________________________________________________________________________________________________\n",
            "pool1_pad (ZeroPadding2D)       (None, None, None, 6 0           activation_50[0][0]              \n",
            "__________________________________________________________________________________________________\n",
            "max_pooling2d_2 (MaxPooling2D)  (None, None, None, 6 0           pool1_pad[0][0]                  \n",
            "__________________________________________________________________________________________________\n",
            "res2a_branch2a (Conv2D)         (None, None, None, 6 4160        max_pooling2d_2[0][0]            \n",
            "__________________________________________________________________________________________________\n",
            "bn2a_branch2a (BatchNormalizati (None, None, None, 6 256         res2a_branch2a[0][0]             \n",
            "__________________________________________________________________________________________________\n",
            "activation_51 (Activation)      (None, None, None, 6 0           bn2a_branch2a[0][0]              \n",
            "__________________________________________________________________________________________________\n",
            "res2a_branch2b (Conv2D)         (None, None, None, 6 36928       activation_51[0][0]              \n",
            "__________________________________________________________________________________________________\n",
            "bn2a_branch2b (BatchNormalizati (None, None, None, 6 256         res2a_branch2b[0][0]             \n",
            "__________________________________________________________________________________________________\n",
            "activation_52 (Activation)      (None, None, None, 6 0           bn2a_branch2b[0][0]              \n",
            "__________________________________________________________________________________________________\n",
            "res2a_branch2c (Conv2D)         (None, None, None, 2 16640       activation_52[0][0]              \n",
            "__________________________________________________________________________________________________\n",
            "res2a_branch1 (Conv2D)          (None, None, None, 2 16640       max_pooling2d_2[0][0]            \n",
            "__________________________________________________________________________________________________\n",
            "bn2a_branch2c (BatchNormalizati (None, None, None, 2 1024        res2a_branch2c[0][0]             \n",
            "__________________________________________________________________________________________________\n",
            "bn2a_branch1 (BatchNormalizatio (None, None, None, 2 1024        res2a_branch1[0][0]              \n",
            "__________________________________________________________________________________________________\n",
            "add_17 (Add)                    (None, None, None, 2 0           bn2a_branch2c[0][0]              \n",
            "                                                                 bn2a_branch1[0][0]               \n",
            "__________________________________________________________________________________________________\n",
            "activation_53 (Activation)      (None, None, None, 2 0           add_17[0][0]                     \n",
            "__________________________________________________________________________________________________\n",
            "res2b_branch2a (Conv2D)         (None, None, None, 6 16448       activation_53[0][0]              \n",
            "__________________________________________________________________________________________________\n",
            "bn2b_branch2a (BatchNormalizati (None, None, None, 6 256         res2b_branch2a[0][0]             \n",
            "__________________________________________________________________________________________________\n",
            "activation_54 (Activation)      (None, None, None, 6 0           bn2b_branch2a[0][0]              \n",
            "__________________________________________________________________________________________________\n",
            "res2b_branch2b (Conv2D)         (None, None, None, 6 36928       activation_54[0][0]              \n",
            "__________________________________________________________________________________________________\n",
            "bn2b_branch2b (BatchNormalizati (None, None, None, 6 256         res2b_branch2b[0][0]             \n",
            "__________________________________________________________________________________________________\n",
            "activation_55 (Activation)      (None, None, None, 6 0           bn2b_branch2b[0][0]              \n",
            "__________________________________________________________________________________________________\n",
            "res2b_branch2c (Conv2D)         (None, None, None, 2 16640       activation_55[0][0]              \n",
            "__________________________________________________________________________________________________\n",
            "bn2b_branch2c (BatchNormalizati (None, None, None, 2 1024        res2b_branch2c[0][0]             \n",
            "__________________________________________________________________________________________________\n",
            "add_18 (Add)                    (None, None, None, 2 0           bn2b_branch2c[0][0]              \n",
            "                                                                 activation_53[0][0]              \n",
            "__________________________________________________________________________________________________\n",
            "activation_56 (Activation)      (None, None, None, 2 0           add_18[0][0]                     \n",
            "__________________________________________________________________________________________________\n",
            "res2c_branch2a (Conv2D)         (None, None, None, 6 16448       activation_56[0][0]              \n",
            "__________________________________________________________________________________________________\n",
            "bn2c_branch2a (BatchNormalizati (None, None, None, 6 256         res2c_branch2a[0][0]             \n",
            "__________________________________________________________________________________________________\n",
            "activation_57 (Activation)      (None, None, None, 6 0           bn2c_branch2a[0][0]              \n",
            "__________________________________________________________________________________________________\n",
            "res2c_branch2b (Conv2D)         (None, None, None, 6 36928       activation_57[0][0]              \n",
            "__________________________________________________________________________________________________\n",
            "bn2c_branch2b (BatchNormalizati (None, None, None, 6 256         res2c_branch2b[0][0]             \n",
            "__________________________________________________________________________________________________\n",
            "activation_58 (Activation)      (None, None, None, 6 0           bn2c_branch2b[0][0]              \n",
            "__________________________________________________________________________________________________\n",
            "res2c_branch2c (Conv2D)         (None, None, None, 2 16640       activation_58[0][0]              \n",
            "__________________________________________________________________________________________________\n",
            "bn2c_branch2c (BatchNormalizati (None, None, None, 2 1024        res2c_branch2c[0][0]             \n",
            "__________________________________________________________________________________________________\n",
            "add_19 (Add)                    (None, None, None, 2 0           bn2c_branch2c[0][0]              \n",
            "                                                                 activation_56[0][0]              \n",
            "__________________________________________________________________________________________________\n",
            "activation_59 (Activation)      (None, None, None, 2 0           add_19[0][0]                     \n",
            "__________________________________________________________________________________________________\n",
            "res3a_branch2a (Conv2D)         (None, None, None, 1 32896       activation_59[0][0]              \n",
            "__________________________________________________________________________________________________\n",
            "bn3a_branch2a (BatchNormalizati (None, None, None, 1 512         res3a_branch2a[0][0]             \n",
            "__________________________________________________________________________________________________\n",
            "activation_60 (Activation)      (None, None, None, 1 0           bn3a_branch2a[0][0]              \n",
            "__________________________________________________________________________________________________\n",
            "res3a_branch2b (Conv2D)         (None, None, None, 1 147584      activation_60[0][0]              \n",
            "__________________________________________________________________________________________________\n",
            "bn3a_branch2b (BatchNormalizati (None, None, None, 1 512         res3a_branch2b[0][0]             \n",
            "__________________________________________________________________________________________________\n",
            "activation_61 (Activation)      (None, None, None, 1 0           bn3a_branch2b[0][0]              \n",
            "__________________________________________________________________________________________________\n",
            "res3a_branch2c (Conv2D)         (None, None, None, 5 66048       activation_61[0][0]              \n",
            "__________________________________________________________________________________________________\n",
            "res3a_branch1 (Conv2D)          (None, None, None, 5 131584      activation_59[0][0]              \n",
            "__________________________________________________________________________________________________\n",
            "bn3a_branch2c (BatchNormalizati (None, None, None, 5 2048        res3a_branch2c[0][0]             \n",
            "__________________________________________________________________________________________________\n",
            "bn3a_branch1 (BatchNormalizatio (None, None, None, 5 2048        res3a_branch1[0][0]              \n",
            "__________________________________________________________________________________________________\n",
            "add_20 (Add)                    (None, None, None, 5 0           bn3a_branch2c[0][0]              \n",
            "                                                                 bn3a_branch1[0][0]               \n",
            "__________________________________________________________________________________________________\n",
            "activation_62 (Activation)      (None, None, None, 5 0           add_20[0][0]                     \n",
            "__________________________________________________________________________________________________\n",
            "res3b_branch2a (Conv2D)         (None, None, None, 1 65664       activation_62[0][0]              \n",
            "__________________________________________________________________________________________________\n",
            "bn3b_branch2a (BatchNormalizati (None, None, None, 1 512         res3b_branch2a[0][0]             \n",
            "__________________________________________________________________________________________________\n",
            "activation_63 (Activation)      (None, None, None, 1 0           bn3b_branch2a[0][0]              \n",
            "__________________________________________________________________________________________________\n",
            "res3b_branch2b (Conv2D)         (None, None, None, 1 147584      activation_63[0][0]              \n",
            "__________________________________________________________________________________________________\n",
            "bn3b_branch2b (BatchNormalizati (None, None, None, 1 512         res3b_branch2b[0][0]             \n",
            "__________________________________________________________________________________________________\n",
            "activation_64 (Activation)      (None, None, None, 1 0           bn3b_branch2b[0][0]              \n",
            "__________________________________________________________________________________________________\n",
            "res3b_branch2c (Conv2D)         (None, None, None, 5 66048       activation_64[0][0]              \n",
            "__________________________________________________________________________________________________\n",
            "bn3b_branch2c (BatchNormalizati (None, None, None, 5 2048        res3b_branch2c[0][0]             \n",
            "__________________________________________________________________________________________________\n",
            "add_21 (Add)                    (None, None, None, 5 0           bn3b_branch2c[0][0]              \n",
            "                                                                 activation_62[0][0]              \n",
            "__________________________________________________________________________________________________\n",
            "activation_65 (Activation)      (None, None, None, 5 0           add_21[0][0]                     \n",
            "__________________________________________________________________________________________________\n",
            "res3c_branch2a (Conv2D)         (None, None, None, 1 65664       activation_65[0][0]              \n",
            "__________________________________________________________________________________________________\n",
            "bn3c_branch2a (BatchNormalizati (None, None, None, 1 512         res3c_branch2a[0][0]             \n",
            "__________________________________________________________________________________________________\n",
            "activation_66 (Activation)      (None, None, None, 1 0           bn3c_branch2a[0][0]              \n",
            "__________________________________________________________________________________________________\n",
            "res3c_branch2b (Conv2D)         (None, None, None, 1 147584      activation_66[0][0]              \n",
            "__________________________________________________________________________________________________\n",
            "bn3c_branch2b (BatchNormalizati (None, None, None, 1 512         res3c_branch2b[0][0]             \n",
            "__________________________________________________________________________________________________\n",
            "activation_67 (Activation)      (None, None, None, 1 0           bn3c_branch2b[0][0]              \n",
            "__________________________________________________________________________________________________\n",
            "res3c_branch2c (Conv2D)         (None, None, None, 5 66048       activation_67[0][0]              \n",
            "__________________________________________________________________________________________________\n",
            "bn3c_branch2c (BatchNormalizati (None, None, None, 5 2048        res3c_branch2c[0][0]             \n",
            "__________________________________________________________________________________________________\n",
            "add_22 (Add)                    (None, None, None, 5 0           bn3c_branch2c[0][0]              \n",
            "                                                                 activation_65[0][0]              \n",
            "__________________________________________________________________________________________________\n",
            "activation_68 (Activation)      (None, None, None, 5 0           add_22[0][0]                     \n",
            "__________________________________________________________________________________________________\n",
            "res3d_branch2a (Conv2D)         (None, None, None, 1 65664       activation_68[0][0]              \n",
            "__________________________________________________________________________________________________\n",
            "bn3d_branch2a (BatchNormalizati (None, None, None, 1 512         res3d_branch2a[0][0]             \n",
            "__________________________________________________________________________________________________\n",
            "activation_69 (Activation)      (None, None, None, 1 0           bn3d_branch2a[0][0]              \n",
            "__________________________________________________________________________________________________\n",
            "res3d_branch2b (Conv2D)         (None, None, None, 1 147584      activation_69[0][0]              \n",
            "__________________________________________________________________________________________________\n",
            "bn3d_branch2b (BatchNormalizati (None, None, None, 1 512         res3d_branch2b[0][0]             \n",
            "__________________________________________________________________________________________________\n",
            "activation_70 (Activation)      (None, None, None, 1 0           bn3d_branch2b[0][0]              \n",
            "__________________________________________________________________________________________________\n",
            "res3d_branch2c (Conv2D)         (None, None, None, 5 66048       activation_70[0][0]              \n",
            "__________________________________________________________________________________________________\n",
            "bn3d_branch2c (BatchNormalizati (None, None, None, 5 2048        res3d_branch2c[0][0]             \n",
            "__________________________________________________________________________________________________\n",
            "add_23 (Add)                    (None, None, None, 5 0           bn3d_branch2c[0][0]              \n",
            "                                                                 activation_68[0][0]              \n",
            "__________________________________________________________________________________________________\n",
            "activation_71 (Activation)      (None, None, None, 5 0           add_23[0][0]                     \n",
            "__________________________________________________________________________________________________\n",
            "res4a_branch2a (Conv2D)         (None, None, None, 2 131328      activation_71[0][0]              \n",
            "__________________________________________________________________________________________________\n",
            "bn4a_branch2a (BatchNormalizati (None, None, None, 2 1024        res4a_branch2a[0][0]             \n",
            "__________________________________________________________________________________________________\n",
            "activation_72 (Activation)      (None, None, None, 2 0           bn4a_branch2a[0][0]              \n",
            "__________________________________________________________________________________________________\n",
            "res4a_branch2b (Conv2D)         (None, None, None, 2 590080      activation_72[0][0]              \n",
            "__________________________________________________________________________________________________\n",
            "bn4a_branch2b (BatchNormalizati (None, None, None, 2 1024        res4a_branch2b[0][0]             \n",
            "__________________________________________________________________________________________________\n",
            "activation_73 (Activation)      (None, None, None, 2 0           bn4a_branch2b[0][0]              \n",
            "__________________________________________________________________________________________________\n",
            "res4a_branch2c (Conv2D)         (None, None, None, 1 263168      activation_73[0][0]              \n",
            "__________________________________________________________________________________________________\n",
            "res4a_branch1 (Conv2D)          (None, None, None, 1 525312      activation_71[0][0]              \n",
            "__________________________________________________________________________________________________\n",
            "bn4a_branch2c (BatchNormalizati (None, None, None, 1 4096        res4a_branch2c[0][0]             \n",
            "__________________________________________________________________________________________________\n",
            "bn4a_branch1 (BatchNormalizatio (None, None, None, 1 4096        res4a_branch1[0][0]              \n",
            "__________________________________________________________________________________________________\n",
            "add_24 (Add)                    (None, None, None, 1 0           bn4a_branch2c[0][0]              \n",
            "                                                                 bn4a_branch1[0][0]               \n",
            "__________________________________________________________________________________________________\n",
            "activation_74 (Activation)      (None, None, None, 1 0           add_24[0][0]                     \n",
            "__________________________________________________________________________________________________\n",
            "res4b_branch2a (Conv2D)         (None, None, None, 2 262400      activation_74[0][0]              \n",
            "__________________________________________________________________________________________________\n",
            "bn4b_branch2a (BatchNormalizati (None, None, None, 2 1024        res4b_branch2a[0][0]             \n",
            "__________________________________________________________________________________________________\n",
            "activation_75 (Activation)      (None, None, None, 2 0           bn4b_branch2a[0][0]              \n",
            "__________________________________________________________________________________________________\n",
            "res4b_branch2b (Conv2D)         (None, None, None, 2 590080      activation_75[0][0]              \n",
            "__________________________________________________________________________________________________\n",
            "bn4b_branch2b (BatchNormalizati (None, None, None, 2 1024        res4b_branch2b[0][0]             \n",
            "__________________________________________________________________________________________________\n",
            "activation_76 (Activation)      (None, None, None, 2 0           bn4b_branch2b[0][0]              \n",
            "__________________________________________________________________________________________________\n",
            "res4b_branch2c (Conv2D)         (None, None, None, 1 263168      activation_76[0][0]              \n",
            "__________________________________________________________________________________________________\n",
            "bn4b_branch2c (BatchNormalizati (None, None, None, 1 4096        res4b_branch2c[0][0]             \n",
            "__________________________________________________________________________________________________\n",
            "add_25 (Add)                    (None, None, None, 1 0           bn4b_branch2c[0][0]              \n",
            "                                                                 activation_74[0][0]              \n",
            "__________________________________________________________________________________________________\n",
            "activation_77 (Activation)      (None, None, None, 1 0           add_25[0][0]                     \n",
            "__________________________________________________________________________________________________\n",
            "res4c_branch2a (Conv2D)         (None, None, None, 2 262400      activation_77[0][0]              \n",
            "__________________________________________________________________________________________________\n",
            "bn4c_branch2a (BatchNormalizati (None, None, None, 2 1024        res4c_branch2a[0][0]             \n",
            "__________________________________________________________________________________________________\n",
            "activation_78 (Activation)      (None, None, None, 2 0           bn4c_branch2a[0][0]              \n",
            "__________________________________________________________________________________________________\n",
            "res4c_branch2b (Conv2D)         (None, None, None, 2 590080      activation_78[0][0]              \n",
            "__________________________________________________________________________________________________\n",
            "bn4c_branch2b (BatchNormalizati (None, None, None, 2 1024        res4c_branch2b[0][0]             \n",
            "__________________________________________________________________________________________________\n",
            "activation_79 (Activation)      (None, None, None, 2 0           bn4c_branch2b[0][0]              \n",
            "__________________________________________________________________________________________________\n",
            "res4c_branch2c (Conv2D)         (None, None, None, 1 263168      activation_79[0][0]              \n",
            "__________________________________________________________________________________________________\n",
            "bn4c_branch2c (BatchNormalizati (None, None, None, 1 4096        res4c_branch2c[0][0]             \n",
            "__________________________________________________________________________________________________\n",
            "add_26 (Add)                    (None, None, None, 1 0           bn4c_branch2c[0][0]              \n",
            "                                                                 activation_77[0][0]              \n",
            "__________________________________________________________________________________________________\n",
            "activation_80 (Activation)      (None, None, None, 1 0           add_26[0][0]                     \n",
            "__________________________________________________________________________________________________\n",
            "res4d_branch2a (Conv2D)         (None, None, None, 2 262400      activation_80[0][0]              \n",
            "__________________________________________________________________________________________________\n",
            "bn4d_branch2a (BatchNormalizati (None, None, None, 2 1024        res4d_branch2a[0][0]             \n",
            "__________________________________________________________________________________________________\n",
            "activation_81 (Activation)      (None, None, None, 2 0           bn4d_branch2a[0][0]              \n",
            "__________________________________________________________________________________________________\n",
            "res4d_branch2b (Conv2D)         (None, None, None, 2 590080      activation_81[0][0]              \n",
            "__________________________________________________________________________________________________\n",
            "bn4d_branch2b (BatchNormalizati (None, None, None, 2 1024        res4d_branch2b[0][0]             \n",
            "__________________________________________________________________________________________________\n",
            "activation_82 (Activation)      (None, None, None, 2 0           bn4d_branch2b[0][0]              \n",
            "__________________________________________________________________________________________________\n",
            "res4d_branch2c (Conv2D)         (None, None, None, 1 263168      activation_82[0][0]              \n",
            "__________________________________________________________________________________________________\n",
            "bn4d_branch2c (BatchNormalizati (None, None, None, 1 4096        res4d_branch2c[0][0]             \n",
            "__________________________________________________________________________________________________\n",
            "add_27 (Add)                    (None, None, None, 1 0           bn4d_branch2c[0][0]              \n",
            "                                                                 activation_80[0][0]              \n",
            "__________________________________________________________________________________________________\n",
            "activation_83 (Activation)      (None, None, None, 1 0           add_27[0][0]                     \n",
            "__________________________________________________________________________________________________\n",
            "res4e_branch2a (Conv2D)         (None, None, None, 2 262400      activation_83[0][0]              \n",
            "__________________________________________________________________________________________________\n",
            "bn4e_branch2a (BatchNormalizati (None, None, None, 2 1024        res4e_branch2a[0][0]             \n",
            "__________________________________________________________________________________________________\n",
            "activation_84 (Activation)      (None, None, None, 2 0           bn4e_branch2a[0][0]              \n",
            "__________________________________________________________________________________________________\n",
            "res4e_branch2b (Conv2D)         (None, None, None, 2 590080      activation_84[0][0]              \n",
            "__________________________________________________________________________________________________\n",
            "bn4e_branch2b (BatchNormalizati (None, None, None, 2 1024        res4e_branch2b[0][0]             \n",
            "__________________________________________________________________________________________________\n",
            "activation_85 (Activation)      (None, None, None, 2 0           bn4e_branch2b[0][0]              \n",
            "__________________________________________________________________________________________________\n",
            "res4e_branch2c (Conv2D)         (None, None, None, 1 263168      activation_85[0][0]              \n",
            "__________________________________________________________________________________________________\n",
            "bn4e_branch2c (BatchNormalizati (None, None, None, 1 4096        res4e_branch2c[0][0]             \n",
            "__________________________________________________________________________________________________\n",
            "add_28 (Add)                    (None, None, None, 1 0           bn4e_branch2c[0][0]              \n",
            "                                                                 activation_83[0][0]              \n",
            "__________________________________________________________________________________________________\n",
            "activation_86 (Activation)      (None, None, None, 1 0           add_28[0][0]                     \n",
            "__________________________________________________________________________________________________\n",
            "res4f_branch2a (Conv2D)         (None, None, None, 2 262400      activation_86[0][0]              \n",
            "__________________________________________________________________________________________________\n",
            "bn4f_branch2a (BatchNormalizati (None, None, None, 2 1024        res4f_branch2a[0][0]             \n",
            "__________________________________________________________________________________________________\n",
            "activation_87 (Activation)      (None, None, None, 2 0           bn4f_branch2a[0][0]              \n",
            "__________________________________________________________________________________________________\n",
            "res4f_branch2b (Conv2D)         (None, None, None, 2 590080      activation_87[0][0]              \n",
            "__________________________________________________________________________________________________\n",
            "bn4f_branch2b (BatchNormalizati (None, None, None, 2 1024        res4f_branch2b[0][0]             \n",
            "__________________________________________________________________________________________________\n",
            "activation_88 (Activation)      (None, None, None, 2 0           bn4f_branch2b[0][0]              \n",
            "__________________________________________________________________________________________________\n",
            "res4f_branch2c (Conv2D)         (None, None, None, 1 263168      activation_88[0][0]              \n",
            "__________________________________________________________________________________________________\n",
            "bn4f_branch2c (BatchNormalizati (None, None, None, 1 4096        res4f_branch2c[0][0]             \n",
            "__________________________________________________________________________________________________\n",
            "add_29 (Add)                    (None, None, None, 1 0           bn4f_branch2c[0][0]              \n",
            "                                                                 activation_86[0][0]              \n",
            "__________________________________________________________________________________________________\n",
            "activation_89 (Activation)      (None, None, None, 1 0           add_29[0][0]                     \n",
            "__________________________________________________________________________________________________\n",
            "res5a_branch2a (Conv2D)         (None, None, None, 5 524800      activation_89[0][0]              \n",
            "__________________________________________________________________________________________________\n",
            "bn5a_branch2a (BatchNormalizati (None, None, None, 5 2048        res5a_branch2a[0][0]             \n",
            "__________________________________________________________________________________________________\n",
            "activation_90 (Activation)      (None, None, None, 5 0           bn5a_branch2a[0][0]              \n",
            "__________________________________________________________________________________________________\n",
            "res5a_branch2b (Conv2D)         (None, None, None, 5 2359808     activation_90[0][0]              \n",
            "__________________________________________________________________________________________________\n",
            "bn5a_branch2b (BatchNormalizati (None, None, None, 5 2048        res5a_branch2b[0][0]             \n",
            "__________________________________________________________________________________________________\n",
            "activation_91 (Activation)      (None, None, None, 5 0           bn5a_branch2b[0][0]              \n",
            "__________________________________________________________________________________________________\n",
            "res5a_branch2c (Conv2D)         (None, None, None, 2 1050624     activation_91[0][0]              \n",
            "__________________________________________________________________________________________________\n",
            "res5a_branch1 (Conv2D)          (None, None, None, 2 2099200     activation_89[0][0]              \n",
            "__________________________________________________________________________________________________\n",
            "bn5a_branch2c (BatchNormalizati (None, None, None, 2 8192        res5a_branch2c[0][0]             \n",
            "__________________________________________________________________________________________________\n",
            "bn5a_branch1 (BatchNormalizatio (None, None, None, 2 8192        res5a_branch1[0][0]              \n",
            "__________________________________________________________________________________________________\n",
            "add_30 (Add)                    (None, None, None, 2 0           bn5a_branch2c[0][0]              \n",
            "                                                                 bn5a_branch1[0][0]               \n",
            "__________________________________________________________________________________________________\n",
            "activation_92 (Activation)      (None, None, None, 2 0           add_30[0][0]                     \n",
            "__________________________________________________________________________________________________\n",
            "res5b_branch2a (Conv2D)         (None, None, None, 5 1049088     activation_92[0][0]              \n",
            "__________________________________________________________________________________________________\n",
            "bn5b_branch2a (BatchNormalizati (None, None, None, 5 2048        res5b_branch2a[0][0]             \n",
            "__________________________________________________________________________________________________\n",
            "activation_93 (Activation)      (None, None, None, 5 0           bn5b_branch2a[0][0]              \n",
            "__________________________________________________________________________________________________\n",
            "res5b_branch2b (Conv2D)         (None, None, None, 5 2359808     activation_93[0][0]              \n",
            "__________________________________________________________________________________________________\n",
            "bn5b_branch2b (BatchNormalizati (None, None, None, 5 2048        res5b_branch2b[0][0]             \n",
            "__________________________________________________________________________________________________\n",
            "activation_94 (Activation)      (None, None, None, 5 0           bn5b_branch2b[0][0]              \n",
            "__________________________________________________________________________________________________\n",
            "res5b_branch2c (Conv2D)         (None, None, None, 2 1050624     activation_94[0][0]              \n",
            "__________________________________________________________________________________________________\n",
            "bn5b_branch2c (BatchNormalizati (None, None, None, 2 8192        res5b_branch2c[0][0]             \n",
            "__________________________________________________________________________________________________\n",
            "add_31 (Add)                    (None, None, None, 2 0           bn5b_branch2c[0][0]              \n",
            "                                                                 activation_92[0][0]              \n",
            "__________________________________________________________________________________________________\n",
            "activation_95 (Activation)      (None, None, None, 2 0           add_31[0][0]                     \n",
            "__________________________________________________________________________________________________\n",
            "res5c_branch2a (Conv2D)         (None, None, None, 5 1049088     activation_95[0][0]              \n",
            "__________________________________________________________________________________________________\n",
            "bn5c_branch2a (BatchNormalizati (None, None, None, 5 2048        res5c_branch2a[0][0]             \n",
            "__________________________________________________________________________________________________\n",
            "activation_96 (Activation)      (None, None, None, 5 0           bn5c_branch2a[0][0]              \n",
            "__________________________________________________________________________________________________\n",
            "res5c_branch2b (Conv2D)         (None, None, None, 5 2359808     activation_96[0][0]              \n",
            "__________________________________________________________________________________________________\n",
            "bn5c_branch2b (BatchNormalizati (None, None, None, 5 2048        res5c_branch2b[0][0]             \n",
            "__________________________________________________________________________________________________\n",
            "activation_97 (Activation)      (None, None, None, 5 0           bn5c_branch2b[0][0]              \n",
            "__________________________________________________________________________________________________\n",
            "res5c_branch2c (Conv2D)         (None, None, None, 2 1050624     activation_97[0][0]              \n",
            "__________________________________________________________________________________________________\n",
            "bn5c_branch2c (BatchNormalizati (None, None, None, 2 8192        res5c_branch2c[0][0]             \n",
            "__________________________________________________________________________________________________\n",
            "add_32 (Add)                    (None, None, None, 2 0           bn5c_branch2c[0][0]              \n",
            "                                                                 activation_95[0][0]              \n",
            "__________________________________________________________________________________________________\n",
            "activation_98 (Activation)      (None, None, None, 2 0           add_32[0][0]                     \n",
            "__________________________________________________________________________________________________\n",
            "global_average_pooling2d_2 (Glo (None, 2048)         0           activation_98[0][0]              \n",
            "==================================================================================================\n",
            "Total params: 23,587,712\n",
            "Trainable params: 23,534,592\n",
            "Non-trainable params: 53,120\n",
            "__________________________________________________________________________________________________\n"
          ],
          "name": "stdout"
        }
      ]
    },
    {
      "cell_type": "code",
      "metadata": {
        "id": "uGx_D4rQcO4I",
        "colab_type": "code",
        "outputId": "639e1b84-1c37-47d2-965d-86c68db72da6",
        "colab": {
          "base_uri": "https://localhost:8080/",
          "height": 284
        }
      },
      "source": [
        "#Predict network\n",
        "test_loss, test_acc = myModel.evaluate(X_test, Y_test)\n",
        "test_prediction = myModel.predict(X_test)\n",
        "\n",
        "\n",
        "print(\"test_loss: \",test_loss)\n",
        "print(\"test_acc: \",test_acc)\n",
        "print(\"test_prediction\", test_prediction)"
      ],
      "execution_count": 114,
      "outputs": [
        {
          "output_type": "stream",
          "text": [
            "10000/10000 [==============================] - 4s 395us/step\n",
            "test_loss:  1.9680618893623352\n",
            "test_acc:  0.6961\n",
            "test_prediction [[3.4040205e-08 1.6354777e-07 9.5380104e-10 ... 1.6873090e-08\n",
            "  9.6661051e-07 1.0102168e-06]\n",
            " [1.2266155e-07 3.7930761e-07 2.2784805e-11 ... 3.8310423e-12\n",
            "  9.9999952e-01 1.3964484e-08]\n",
            " [8.8844541e-07 6.7502365e-10 2.2170652e-09 ... 2.0003104e-06\n",
            "  9.9991274e-01 8.4349929e-05]\n",
            " ...\n",
            " [6.8143829e-10 1.2649939e-11 5.7527867e-09 ... 7.8252897e-09\n",
            "  1.0659274e-10 1.1147771e-10]\n",
            " [9.7360826e-01 7.8385938e-03 1.1258654e-05 ... 5.5821547e-05\n",
            "  1.0079679e-05 2.4307610e-07]\n",
            " [2.0746176e-09 4.5231867e-09 1.7049033e-06 ... 9.9848986e-01\n",
            "  9.1992669e-10 2.7769145e-08]]\n"
          ],
          "name": "stdout"
        }
      ]
    },
    {
      "cell_type": "code",
      "metadata": {
        "id": "LIMwzVUmO-E9",
        "colab_type": "code",
        "colab": {}
      },
      "source": [
        "import numpy as np\n",
        "\n",
        "#Adaboost_Layer_1\n",
        "input_ress = myModel.get_layer(index=1).inputs\n",
        "output_ress = myModel.get_layer('resnet50').get_layer('add_29').output\n",
        "dens_adaboostLayer_1 = Dense(N_classes,activation='softmax')(output_ress)\n",
        "adaboostLayer_1 = Model(inputs=input_ress,outputs=dens_adaboostLayer_1)\n",
        "predict_adaLayer_1 = adaboostLayer_1.predict(X_test)\n",
        "predict_test_uniq_1 = np.argmax(predict_adaLayer_1, axis=1)\n",
        "predict_test_uniq_1 = predict_test_uniq_1[:,0,:]\n",
        "\n",
        "#Adaboost_Layer_2\n",
        "input_ress = myModel.get_layer(index=1).inputs\n",
        "output_ress = myModel.get_layer('resnet50').get_layer('add_30').output\n",
        "dens_adaboostLayer_2 = Dense(N_classes,activation='softmax')(output_ress)\n",
        "adaboostLayer_2 = Model(inputs=input_ress,outputs=dens_adaboostLayer_2)\n",
        "predict_adaLayer_2 = adaboostLayer_2.predict(X_test)\n",
        "predict_test_uniq_2 = np.argmax(predict_adaLayer_2, axis=1)\n",
        "predict_test_uniq_2 = predict_test_uniq_2[:,0,:]\n",
        "\n",
        "#Adaboost_Layer_3\n",
        "input_ress = myModel.get_layer(index=1).inputs\n",
        "output_ress = myModel.get_layer('resnet50').get_layer('add_31').output\n",
        "densadaboostLayer_3 = Dense(N_classes,activation='softmax')(output_ress)\n",
        "adaboostLayer_3 = Model(inputs=input_ress,outputs=densadaboostLayer_3)\n",
        "predict_adaLayer_3 = adaboostLayer_3.predict(X_test)\n",
        "predict_test_uniq_3 = np.argmax(predict_adaLayer_3, axis=1)\n",
        "predict_test_uniq_3 = predict_test_uniq_3[:,0,:]\n",
        "\n",
        "#Adaboost_Layer_4\n",
        "input_ress = myModel.get_layer(index=1).inputs\n",
        "output_ress = myModel.get_layer('resnet50').get_layer('add_32').output\n",
        "dens_adaboostLayer_4 = Dense(N_classes,activation='softmax')(output_ress)\n",
        "adaboostLayer_4 = Model(inputs=input_ress,outputs=dens_adaboostLayer_4)\n",
        "predict_adaLayer_4 = adaboostLayer_4.predict(X_test)\n",
        "predict_test_uniq_4 = np.argmax(predict_adaLayer_4, axis=1)\n",
        "predict_test_uniq_4 = predict_test_uniq_4[:,0,:]"
      ],
      "execution_count": 0,
      "outputs": []
    },
    {
      "cell_type": "code",
      "metadata": {
        "id": "xzPnuBtwSyzm",
        "colab_type": "code",
        "outputId": "d4862df4-99c1-4a50-c4e3-e3a19f83d331",
        "colab": {
          "base_uri": "https://localhost:8080/",
          "height": 204
        }
      },
      "source": [
        "#Ensembel method (AdaBoost)\n",
        "from sklearn.ensemble import AdaBoostClassifier\n",
        "\n",
        "ada_boost_predict_1 = AdaBoostClassifier()\n",
        "ada_boost_predict_2 = AdaBoostClassifier()\n",
        "ada_boost_predict_3 = AdaBoostClassifier()\n",
        "ada_boost_predict_4 = AdaBoostClassifier()\n",
        "\n",
        "ada_boost_predict_1.fit(predict_test_uniq_1, test_labels)\n",
        "ada_boost_predict_2.fit(predict_test_uniq_2, test_labels)\n",
        "ada_boost_predict_3.fit(predict_test_uniq_3, test_labels)\n",
        "ada_boost_predict_4.fit(predict_test_uniq_4, test_labels)"
      ],
      "execution_count": 140,
      "outputs": [
        {
          "output_type": "stream",
          "text": [
            "/usr/local/lib/python3.6/dist-packages/sklearn/utils/validation.py:724: DataConversionWarning: A column-vector y was passed when a 1d array was expected. Please change the shape of y to (n_samples, ), for example using ravel().\n",
            "  y = column_or_1d(y, warn=True)\n",
            "/usr/local/lib/python3.6/dist-packages/sklearn/utils/validation.py:724: DataConversionWarning: A column-vector y was passed when a 1d array was expected. Please change the shape of y to (n_samples, ), for example using ravel().\n",
            "  y = column_or_1d(y, warn=True)\n",
            "/usr/local/lib/python3.6/dist-packages/sklearn/utils/validation.py:724: DataConversionWarning: A column-vector y was passed when a 1d array was expected. Please change the shape of y to (n_samples, ), for example using ravel().\n",
            "  y = column_or_1d(y, warn=True)\n",
            "/usr/local/lib/python3.6/dist-packages/sklearn/utils/validation.py:724: DataConversionWarning: A column-vector y was passed when a 1d array was expected. Please change the shape of y to (n_samples, ), for example using ravel().\n",
            "  y = column_or_1d(y, warn=True)\n"
          ],
          "name": "stderr"
        },
        {
          "output_type": "execute_result",
          "data": {
            "text/plain": [
              "AdaBoostClassifier(algorithm='SAMME.R', base_estimator=None, learning_rate=1.0,\n",
              "                   n_estimators=50, random_state=None)"
            ]
          },
          "metadata": {
            "tags": []
          },
          "execution_count": 140
        }
      ]
    },
    {
      "cell_type": "code",
      "metadata": {
        "id": "rTSfnLH-ctm6",
        "colab_type": "code",
        "colab": {}
      },
      "source": [
        "#Feature Adaboost\n",
        "feature_predict_1 = ada_boost_predict_1.feature_importances_  \n",
        "feature_predict_2 = ada_boost_predict_2.feature_importances_  \n",
        "feature_predict_3 = ada_boost_predict_3.feature_importances_  \n",
        "feature_predict_4 = ada_boost_predict_4.feature_importances_  "
      ],
      "execution_count": 0,
      "outputs": []
    },
    {
      "cell_type": "code",
      "metadata": {
        "id": "A3SYaCuHgA2H",
        "colab_type": "code",
        "colab": {}
      },
      "source": [
        "#Predict Adaboost\n",
        "ada_predict_1 = ada_boost_predict_1.predict(predict_test_uniq_1)\n",
        "ada_predict_2 = ada_boost_predict_2.predict(predict_test_uniq_2)\n",
        "ada_predict_3 = ada_boost_predict_3.predict(predict_test_uniq_3)\n",
        "ada_predict_4 = ada_boost_predict_4.predict(predict_test_uniq_4)"
      ],
      "execution_count": 0,
      "outputs": []
    },
    {
      "cell_type": "code",
      "metadata": {
        "id": "Zl3b2jwM4m4x",
        "colab_type": "code",
        "outputId": "47bb8ae4-2439-468c-b02d-3fad795cc219",
        "colab": {
          "base_uri": "https://localhost:8080/",
          "height": 84
        }
      },
      "source": [
        "#Score Adaboost\n",
        "ada_predict_1_score = ada_boost_predict_1.score(predict_test_uniq_1, test_labels)\n",
        "ada_predict_2_score = ada_boost_predict_2.score(predict_test_uniq_2, test_labels)\n",
        "ada_predict_3_score = ada_boost_predict_3.score(predict_test_uniq_3, test_labels)\n",
        "ada_predict_4_score = ada_boost_predict_4.score(predict_test_uniq_4, test_labels)\n",
        "\n",
        "print(\"ada_predict_1_score: \",ada_predict_1_score)\n",
        "print(\"ada_predict_2_score: \",ada_predict_2_score)\n",
        "print(\"ada_predict_3_score: \",ada_predict_3_score)\n",
        "print(\"ada_predict_4_score: \",ada_predict_4_score)"
      ],
      "execution_count": 144,
      "outputs": [
        {
          "output_type": "stream",
          "text": [
            "ada_predict_1_score:  0.2925\n",
            "ada_predict_2_score:  0.1\n",
            "ada_predict_3_score:  0.1\n",
            "ada_predict_4_score:  0.1\n"
          ],
          "name": "stdout"
        }
      ]
    },
    {
      "cell_type": "code",
      "metadata": {
        "id": "QvZ2FDZHoMkV",
        "colab_type": "code",
        "colab": {}
      },
      "source": [
        "#Multi-class AdaBoosted\n",
        "\n",
        "from sklearn.metrics import accuracy_score\n",
        "\n",
        "real_test_errors = []\n",
        "discrete_test_errors = []\n",
        "#predict_test_uniq_1, test_labels\n",
        "for real_test_predict, discrete_train_predict in zip(\n",
        "        ada_boost_predict_1.staged_predict(predict_test_uniq_1), ada_boost_predict_2.staged_predict(predict_test_uniq_2)):\n",
        "    real_test_errors.append(\n",
        "        1. - accuracy_score(real_test_predict, test_labels))\n",
        "    discrete_test_errors.append(\n",
        "        1. - accuracy_score(discrete_train_predict, test_labels))\n",
        "\n",
        "    \n",
        "    \n",
        "    \n",
        "n_trees_discrete = len(ada_boost_predict_2)\n",
        "n_trees_real = len(ada_boost_predict_1)\n",
        "\n",
        "# Boosting might terminate early, but the following arrays are always\n",
        "# n_estimators long. We crop them to the actual number of trees here:\n",
        "discrete_estimator_errors = ada_boost_predict_2.estimator_errors_[:n_trees_discrete]\n",
        "real_estimator_errors = ada_boost_predict_1.estimator_errors_[:n_trees_real]\n",
        "discrete_estimator_weights = ada_boost_predict_2.estimator_weights_[:n_trees_discrete]"
      ],
      "execution_count": 0,
      "outputs": []
    },
    {
      "cell_type": "code",
      "metadata": {
        "id": "h-DY_yQAzDgK",
        "colab_type": "code",
        "colab": {}
      },
      "source": [
        "real_test_errors_2 = []\n",
        "discrete_test_errors_2 = []\n",
        "#predict_test_uniq_1, test_labels\n",
        "for real_test_predict, discrete_train_predict in zip(\n",
        "        ada_boost_predict_3.staged_predict(predict_test_uniq_3), ada_boost_predict_4.staged_predict(predict_test_uniq_4)):\n",
        "    real_test_errors_2.append(\n",
        "        1. - accuracy_score(real_test_predict, test_labels))\n",
        "    discrete_test_errors_2.append(\n",
        "        1. - accuracy_score(discrete_train_predict, test_labels))\n",
        "\n",
        "    \n",
        "    \n",
        "    \n",
        "n_trees_discrete_2 = len(ada_boost_predict_4)\n",
        "n_trees_real_2 = len(ada_boost_predict_3)\n",
        "\n",
        "# Boosting might terminate early, but the following arrays are always\n",
        "# n_estimators long. We crop them to the actual number of trees here:\n",
        "discrete_estimator_errors_2 = ada_boost_predict_4.estimator_errors_[:n_trees_discrete_2]\n",
        "real_estimator_errors_2 = ada_boost_predict_3.estimator_errors_[:n_trees_real_2]\n",
        "discrete_estimator_weights_2 = ada_boost_predict_4.estimator_weights_[:n_trees_discrete_2]"
      ],
      "execution_count": 0,
      "outputs": []
    },
    {
      "cell_type": "code",
      "metadata": {
        "id": "6Wkcw1ZNyupq",
        "colab_type": "code",
        "colab": {
          "base_uri": "https://localhost:8080/",
          "height": 84
        },
        "outputId": "58f32d84-6501-4141-b9d5-f3bd019c8d23"
      },
      "source": [
        "discrete_estimator_errors_2"
      ],
      "execution_count": 185,
      "outputs": [
        {
          "output_type": "execute_result",
          "data": {
            "text/plain": [
              "array([0.9, 0.9, 0.9, 0.9, 0.9, 0.9, 0.9, 0.9, 0.9, 0.9, 0.9, 0.9, 0.9,\n",
              "       0.9, 0.9, 0.9, 0.9, 0.9, 0.9, 0.9, 0.9, 0.9, 0.9, 0.9, 0.9, 0.9,\n",
              "       0.9, 0.9, 0.9, 0.9, 0.9, 0.9, 0.9, 0.9, 0.9, 0.9, 0.9, 0.9, 0.9,\n",
              "       0.9, 0.9, 0.9, 0.9, 0.9, 0.9, 0.9, 0.9, 0.9, 0.9, 0.9])"
            ]
          },
          "metadata": {
            "tags": []
          },
          "execution_count": 185
        }
      ]
    },
    {
      "cell_type": "code",
      "metadata": {
        "id": "6IdKB6iVlVuB",
        "colab_type": "code",
        "colab": {}
      },
      "source": [
        ""
      ],
      "execution_count": 0,
      "outputs": []
    }
  ]
}