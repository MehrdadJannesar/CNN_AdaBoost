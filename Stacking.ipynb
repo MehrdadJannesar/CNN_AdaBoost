{
  "nbformat": 4,
  "nbformat_minor": 0,
  "metadata": {
    "colab": {
      "name": "Copy of Stacking.ipynb",
      "provenance": [],
      "collapsed_sections": [],
      "include_colab_link": true
    },
    "kernelspec": {
      "name": "python3",
      "display_name": "Python 3"
    },
    "accelerator": "GPU"
  },
  "cells": [
    {
      "cell_type": "markdown",
      "metadata": {
        "id": "view-in-github",
        "colab_type": "text"
      },
      "source": [
        "<a href=\"https://colab.research.google.com/github/MehrdadJannesar/CNN_AdaBoost/blob/master/Stacking.ipynb\" target=\"_parent\"><img src=\"https://colab.research.google.com/assets/colab-badge.svg\" alt=\"Open In Colab\"/></a>"
      ]
    },
    {
      "cell_type": "code",
      "metadata": {
        "id": "bvgnalaGsEsw",
        "colab_type": "code",
        "colab": {}
      },
      "source": [
        "from keras.datasets import imdb\n",
        "from sklearn.model_selection import train_test_split\n",
        "from keras.preprocessing import sequence\n",
        "from keras.layers import Embedding,Dropout,Conv1D,GlobalMaxPooling1D,Dense,Activation,LSTM,Bidirectional,GRU\n",
        "from keras import backend as K \n",
        "from keras.models import Model\n",
        "import numpy as np"
      ],
      "execution_count": 0,
      "outputs": []
    },
    {
      "cell_type": "code",
      "metadata": {
        "id": "-KvQm0eqsHpi",
        "colab_type": "code",
        "colab": {}
      },
      "source": [
        "top_words = 5000\n",
        "(X_train, y_train), (X_test, y_test) = imdb.load_data(num_words=top_words)\n"
      ],
      "execution_count": 0,
      "outputs": []
    },
    {
      "cell_type": "code",
      "metadata": {
        "id": "9JS4Hb3usLax",
        "colab_type": "code",
        "colab": {}
      },
      "source": [
        "max_review_length = 500\n",
        "X_train = sequence.pad_sequences(X_train, maxlen=max_review_length)\n",
        "X_test = sequence.pad_sequences(X_test, maxlen=max_review_length)"
      ],
      "execution_count": 0,
      "outputs": []
    },
    {
      "cell_type": "code",
      "metadata": {
        "id": "KjYlR8aysQPJ",
        "colab_type": "code",
        "outputId": "204b41da-52d0-42b1-963f-1214a6eb806e",
        "colab": {
          "base_uri": "https://localhost:8080/",
          "height": 432
        }
      },
      "source": [
        "import tensorflow as tf\n",
        "from sklearn.model_selection import KFold\n",
        "from keras.models import Sequential\n",
        "from keras.layers import Embedding,Dropout,Conv1D,GlobalMaxPooling1D,Dense,Activation,LSTM\n",
        "max_features = 5000\n",
        "embedding_dims = 50\n",
        "maxlen = 500\n",
        "\n",
        "max_features = 5000\n",
        "maxlen = 500\n",
        "batch_size = 32\n",
        "embedding_dims = 50\n",
        "filters = 250\n",
        "kernel_size = 3\n",
        "hidden_dims = 250\n",
        "epochs = 2\n",
        "embedding_vecor_length = 32\n",
        "units = 128\n",
        "\n",
        "def fit_model_text_CNN(optimizer='adam'):\n",
        "  model_text_CNN = Sequential()\n",
        "\n",
        "\n",
        "  model_text_CNN.add(Embedding(max_features,\n",
        "                      embedding_dims,\n",
        "                      input_length=maxlen))\n",
        "  model_text_CNN.add(Dropout(0.2))\n",
        "\n",
        "  model_text_CNN.add(Conv1D(filters,\n",
        "                  kernel_size,\n",
        "                  padding='SAME',\n",
        "                  activation='relu',\n",
        "                  strides=1))\n",
        "  model_text_CNN.add(GlobalMaxPooling1D())\n",
        "\n",
        "  model_text_CNN.add(Dense(hidden_dims))\n",
        "  model_text_CNN.add(Dropout(0.2))\n",
        "  model_text_CNN.add(Activation('relu'))\n",
        "\n",
        "  model_text_CNN.add(Dense(1))\n",
        "  model_text_CNN.add(Activation('sigmoid'))\n",
        "\n",
        "  model_text_CNN.compile(loss='binary_crossentropy',\n",
        "                optimizer='adam',\n",
        "                metrics=['accuracy'])\n",
        "\n",
        "  return model_text_CNN\n",
        "n_split=3\n",
        "pred_ls_model_1 = np.array([])\n",
        "Y_target = np.array([])\n",
        "i = 0\n",
        "model=fit_model_text_CNN()\n",
        "for train_index,test_index in KFold(n_split).split(X_train):\n",
        "\n",
        "\n",
        "    x_train, x_test, Y_train, Y_test = X_train[train_index], X_test[test_index], y_train[train_index], y_test[test_index]\n",
        "    Y_target = np.append(Y_test_target,Y_train)\n",
        "    model.fit(x_train, Y_train,epochs=3)\n",
        "    print(model.predict(x_test).shape)\n",
        "    pred_ls_model_1 = np.append(pred_ls_model_1,model.predict(x_test))\n",
        "    print('Model Predict {} : {}'.format(i,pred_ls_model_1[i]))\n",
        "    i = i + 1\n",
        "\n",
        "p1 = model.predict(X_test)"
      ],
      "execution_count": 203,
      "outputs": [
        {
          "output_type": "stream",
          "text": [
            "Epoch 1/3\n",
            "16666/16666 [==============================] - 5s 313us/step - loss: 0.4496 - acc: 0.7670\n",
            "Epoch 2/3\n",
            "16666/16666 [==============================] - 3s 194us/step - loss: 0.2437 - acc: 0.9018\n",
            "Epoch 3/3\n",
            "16666/16666 [==============================] - 3s 197us/step - loss: 0.1589 - acc: 0.9406\n",
            "(8334, 1)\n",
            "Model Predict 0 : 0.007653027772903442\n",
            "Epoch 1/3\n",
            "16667/16667 [==============================] - 3s 200us/step - loss: 0.2019 - acc: 0.9233\n",
            "Epoch 2/3\n",
            "16667/16667 [==============================] - 3s 198us/step - loss: 0.1223 - acc: 0.9561\n",
            "Epoch 3/3\n",
            "16667/16667 [==============================] - 3s 191us/step - loss: 0.0730 - acc: 0.9745\n",
            "(8333, 1)\n",
            "Model Predict 1 : 0.986315131187439\n",
            "Epoch 1/3\n",
            "16667/16667 [==============================] - 3s 193us/step - loss: 0.1207 - acc: 0.9555\n",
            "Epoch 2/3\n",
            "16667/16667 [==============================] - 3s 192us/step - loss: 0.0635 - acc: 0.9777\n",
            "Epoch 3/3\n",
            "16667/16667 [==============================] - 3s 189us/step - loss: 0.0379 - acc: 0.9872\n",
            "(8333, 1)\n",
            "Model Predict 2 : 0.9905455112457275\n"
          ],
          "name": "stdout"
        }
      ]
    },
    {
      "cell_type": "markdown",
      "metadata": {
        "id": "BKsye3G1vcos",
        "colab_type": "text"
      },
      "source": [
        "![alt text](https://camo.githubusercontent.com/a802017ecb2ebd2aeeaa601a81ca921a1979fdd4/68747470733a2f2f69302e77702e636f6d2f616e64726f69646b742e636f6d2f77702d636f6e74656e742f75706c6f6164732f323031392f30382f6b2d666f6c642d76616c69646174696f6e2e706e673f726573697a653d3736382532433230312673736c3d31)\n",
        "\n",
        "ref:https://androidkt.com/k-fold-cross-validation-with-tensorflow-keras/"
      ]
    },
    {
      "cell_type": "code",
      "metadata": {
        "id": "xvPKGSc4Elxd",
        "colab_type": "code",
        "outputId": "bd5b313c-a145-4919-f620-c2e705020f5c",
        "colab": {
          "base_uri": "https://localhost:8080/",
          "height": 380
        }
      },
      "source": [
        "import keras\n",
        "\n",
        "def fit_model_L(optimizer='adam'):\n",
        "  model_L = Sequential()\n",
        "  model_L.add(Embedding(top_words, embedding_vecor_length, input_length=max_review_length))\n",
        "  model_L.add(LSTM(100))\n",
        "  model_L.add(Dense(1, activation='sigmoid'))\n",
        "  model_L.compile(loss='binary_crossentropy', optimizer='adam', metrics=['accuracy'])\n",
        "\n",
        "  return model_L\n",
        "\n",
        "n_split=3\n",
        "pred_ls_model_2 = np.array([])\n",
        "i = 0\n",
        "model=fit_model_L()\n",
        "for train_index,test_index in KFold(n_split).split(X_train):\n",
        "\n",
        "\n",
        "    x_train, x_test, Y_train, Y_test = X_train[train_index], X_test[test_index], y_train[train_index], y_test[test_index]\n",
        "    \n",
        "    model.fit(x_train, Y_train,epochs=3,batch_size=128)\n",
        "    pred_ls_model_2 = np.append(pred_ls_model_2,model.predict(x_test))\n",
        "    print('Model Predict {} : {}'.format(i,pred_ls_model_2[i]))\n",
        "    i = i + 1\n",
        "\n",
        "p2 = model.predict(X_test)"
      ],
      "execution_count": 204,
      "outputs": [
        {
          "output_type": "stream",
          "text": [
            "Epoch 1/3\n",
            "16666/16666 [==============================] - 95s 6ms/step - loss: 0.5885 - acc: 0.6628\n",
            "Epoch 2/3\n",
            "16666/16666 [==============================] - 93s 6ms/step - loss: 0.3262 - acc: 0.8669\n",
            "Epoch 3/3\n",
            "16666/16666 [==============================] - 92s 6ms/step - loss: 0.2563 - acc: 0.9005\n",
            "Model Predict 0 : 0.15494313836097717\n",
            "Epoch 1/3\n",
            "16667/16667 [==============================] - 93s 6ms/step - loss: 0.2827 - acc: 0.8867\n",
            "Epoch 2/3\n",
            "16667/16667 [==============================] - 93s 6ms/step - loss: 0.2221 - acc: 0.9152\n",
            "Epoch 3/3\n",
            "16667/16667 [==============================] - 93s 6ms/step - loss: 0.1966 - acc: 0.9277\n",
            "Model Predict 1 : 0.9268264770507812\n",
            "Epoch 1/3\n",
            "16667/16667 [==============================] - 93s 6ms/step - loss: 0.2260 - acc: 0.9150\n",
            "Epoch 2/3\n",
            "16667/16667 [==============================] - 93s 6ms/step - loss: 0.1894 - acc: 0.9318\n",
            "Epoch 3/3\n",
            "16667/16667 [==============================] - 93s 6ms/step - loss: 0.1775 - acc: 0.9374\n",
            "Model Predict 2 : 0.8952087759971619\n"
          ],
          "name": "stdout"
        }
      ]
    },
    {
      "cell_type": "markdown",
      "metadata": {
        "id": "Qwmk-5cJvSyh",
        "colab_type": "text"
      },
      "source": [
        "![alt text](https://camo.githubusercontent.com/a802017ecb2ebd2aeeaa601a81ca921a1979fdd4/68747470733a2f2f69302e77702e636f6d2f616e64726f69646b742e636f6d2f77702d636f6e74656e742f75706c6f6164732f323031392f30382f6b2d666f6c642d76616c69646174696f6e2e706e673f726573697a653d3736382532433230312673736c3d31)\n",
        "\n",
        "ref:https://androidkt.com/k-fold-cross-validation-with-tensorflow-keras/"
      ]
    },
    {
      "cell_type": "code",
      "metadata": {
        "colab_type": "code",
        "id": "AMSfgfDeNACe",
        "colab": {}
      },
      "source": [
        "import numpy as np\n",
        "\n",
        "concatenate_train = np.concatenate([pred_ls_model_1,pred_ls_model_2])"
      ],
      "execution_count": 0,
      "outputs": []
    },
    {
      "cell_type": "code",
      "metadata": {
        "colab_type": "code",
        "outputId": "45fc8cab-c5b9-4847-b4a4-69090bbbd3a0",
        "id": "Cfs5Ti61M_kI",
        "colab": {
          "base_uri": "https://localhost:8080/",
          "height": 72
        }
      },
      "source": [
        "from sklearn.linear_model import LogisticRegression\n",
        "lr = LogisticRegression()\n",
        "\n",
        "\n",
        "lr_model = lr1.fit(concatenate_train.reshape(-1,1),Y_test_target)"
      ],
      "execution_count": 206,
      "outputs": [
        {
          "output_type": "stream",
          "text": [
            "/usr/local/lib/python3.6/dist-packages/sklearn/linear_model/logistic.py:432: FutureWarning: Default solver will be changed to 'lbfgs' in 0.22. Specify a solver to silence this warning.\n",
            "  FutureWarning)\n"
          ],
          "name": "stderr"
        }
      ]
    },
    {
      "cell_type": "code",
      "metadata": {
        "id": "_2WaZNPgSbw9",
        "colab_type": "code",
        "colab": {}
      },
      "source": [
        "final_predict_1 = lr_model.predict(p1)\n",
        "final_predict_2 = lr_model.predict(p2)"
      ],
      "execution_count": 0,
      "outputs": []
    },
    {
      "cell_type": "code",
      "metadata": {
        "id": "hM9Ib5nMQroB",
        "colab_type": "code",
        "colab": {
          "base_uri": "https://localhost:8080/",
          "height": 345
        },
        "outputId": "fc0937cf-417f-4e53-a9d7-b123134fba33"
      },
      "source": [
        "from sklearn.metrics import classification_report\n",
        "print(classification_report(y_test,final_predict_1))\n",
        "print(\"=\"*25)\n",
        "print(classification_report(y_test,final_predict_2))"
      ],
      "execution_count": 208,
      "outputs": [
        {
          "output_type": "stream",
          "text": [
            "              precision    recall  f1-score   support\n",
            "\n",
            "           0       0.84      0.92      0.88     12500\n",
            "           1       0.91      0.83      0.87     12500\n",
            "\n",
            "    accuracy                           0.87     25000\n",
            "   macro avg       0.88      0.87      0.87     25000\n",
            "weighted avg       0.88      0.87      0.87     25000\n",
            "\n",
            "=========================\n",
            "              precision    recall  f1-score   support\n",
            "\n",
            "           0       0.67      0.90      0.77     12500\n",
            "           1       0.85      0.55      0.67     12500\n",
            "\n",
            "    accuracy                           0.73     25000\n",
            "   macro avg       0.76      0.73      0.72     25000\n",
            "weighted avg       0.76      0.73      0.72     25000\n",
            "\n"
          ],
          "name": "stdout"
        }
      ]
    },
    {
      "cell_type": "code",
      "metadata": {
        "id": "G22TlOw3lkXa",
        "colab_type": "code",
        "colab": {}
      },
      "source": [
        ""
      ],
      "execution_count": 0,
      "outputs": []
    }
  ]
}