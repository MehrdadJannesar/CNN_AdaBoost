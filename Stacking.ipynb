{
  "nbformat": 4,
  "nbformat_minor": 0,
  "metadata": {
    "colab": {
      "name": "Copy of Stacking.ipynb",
      "provenance": [],
      "collapsed_sections": [],
      "include_colab_link": true
    },
    "kernelspec": {
      "name": "python3",
      "display_name": "Python 3"
    },
    "accelerator": "GPU"
  },
  "cells": [
    {
      "cell_type": "markdown",
      "metadata": {
        "id": "view-in-github",
        "colab_type": "text"
      },
      "source": [
        "<a href=\"https://colab.research.google.com/github/MehrdadJannesar/CNN_AdaBoost/blob/master/Stacking.ipynb\" target=\"_parent\"><img src=\"https://colab.research.google.com/assets/colab-badge.svg\" alt=\"Open In Colab\"/></a>"
      ]
    },
    {
      "cell_type": "code",
      "metadata": {
        "id": "bvgnalaGsEsw",
        "colab_type": "code",
        "colab": {}
      },
      "source": [
        "from keras.datasets import imdb\n",
        "from sklearn.model_selection import train_test_split\n",
        "from keras.preprocessing import sequence\n",
        "from keras.layers import Embedding,Dropout,Conv1D,GlobalMaxPooling1D,Dense,Activation,LSTM,Bidirectional,GRU\n",
        "from keras import backend as K \n",
        "from keras.models import Model\n",
        "import numpy as np"
      ],
      "execution_count": 0,
      "outputs": []
    },
    {
      "cell_type": "code",
      "metadata": {
        "id": "-KvQm0eqsHpi",
        "colab_type": "code",
        "colab": {}
      },
      "source": [
        "top_words = 5000\n",
        "(X_train, y_train), (X_test, y_test) = imdb.load_data(num_words=top_words)\n"
      ],
      "execution_count": 0,
      "outputs": []
    },
    {
      "cell_type": "code",
      "metadata": {
        "id": "9JS4Hb3usLax",
        "colab_type": "code",
        "colab": {}
      },
      "source": [
        "max_review_length = 500\n",
        "X_train = sequence.pad_sequences(X_train, maxlen=max_review_length)\n",
        "X_test = sequence.pad_sequences(X_test, maxlen=max_review_length)"
      ],
      "execution_count": 0,
      "outputs": []
    },
    {
      "cell_type": "code",
      "metadata": {
        "id": "KjYlR8aysQPJ",
        "colab_type": "code",
        "outputId": "4c009663-fcfc-40cf-e845-fdcd75ea264c",
        "colab": {
          "base_uri": "https://localhost:8080/",
          "height": 432
        }
      },
      "source": [
        "import tensorflow as tf\n",
        "from sklearn.model_selection import KFold\n",
        "from keras.models import Sequential\n",
        "from keras.layers import Embedding,Dropout,Conv1D,GlobalMaxPooling1D,Dense,Activation,LSTM\n",
        "max_features = 5000\n",
        "embedding_dims = 50\n",
        "maxlen = 500\n",
        "\n",
        "max_features = 5000\n",
        "maxlen = 500\n",
        "batch_size = 32\n",
        "embedding_dims = 50\n",
        "filters = 250\n",
        "kernel_size = 3\n",
        "hidden_dims = 250\n",
        "epochs = 2\n",
        "embedding_vecor_length = 32\n",
        "units = 128\n",
        "\n",
        "def fit_model_text_CNN(optimizer='adam'):\n",
        "  model_text_CNN = Sequential()\n",
        "\n",
        "\n",
        "  model_text_CNN.add(Embedding(max_features,\n",
        "                      embedding_dims,\n",
        "                      input_length=maxlen))\n",
        "  model_text_CNN.add(Dropout(0.2))\n",
        "\n",
        "  model_text_CNN.add(Conv1D(filters,\n",
        "                  kernel_size,\n",
        "                  padding='SAME',\n",
        "                  activation='relu',\n",
        "                  strides=1))\n",
        "  model_text_CNN.add(GlobalMaxPooling1D())\n",
        "\n",
        "  model_text_CNN.add(Dense(hidden_dims))\n",
        "  model_text_CNN.add(Dropout(0.2))\n",
        "  model_text_CNN.add(Activation('relu'))\n",
        "\n",
        "  model_text_CNN.add(Dense(1))\n",
        "  model_text_CNN.add(Activation('sigmoid'))\n",
        "\n",
        "  model_text_CNN.compile(loss='binary_crossentropy',\n",
        "                optimizer='adam',\n",
        "                metrics=['accuracy'])\n",
        "\n",
        "  return model_text_CNN\n",
        "n_split=3\n",
        "pred_ls_model_1 = np.array([])\n",
        "Y_target = np.array([])\n",
        "i = 0\n",
        "model=fit_model_text_CNN()\n",
        "for train_index,test_index in KFold(n_split).split(X_train):\n",
        "\n",
        "\n",
        "    x_train, x_test, Y_train, Y_test = X_train[train_index], X_test[test_index], y_train[train_index], y_test[test_index]\n",
        "    Y_target = np.append(Y_test_target,Y_train)\n",
        "    model.fit(x_train, Y_train,epochs=3)\n",
        "    print(model.predict(x_test).shape)\n",
        "    pred_ls_model_1 = np.append(pred_ls_model_1,model.predict(x_test))\n",
        "    print('Model Predict {} : {}'.format(i,pred_ls_model_1[i]))\n",
        "    i = i + 1\n",
        "\n",
        "p1 = model.predict(X_test)"
      ],
      "execution_count": 194,
      "outputs": [
        {
          "output_type": "stream",
          "text": [
            "Epoch 1/3\n",
            "16666/16666 [==============================] - 5s 297us/step - loss: 0.4519 - acc: 0.7656\n",
            "Epoch 2/3\n",
            "16666/16666 [==============================] - 3s 191us/step - loss: 0.2445 - acc: 0.9005\n",
            "Epoch 3/3\n",
            "16666/16666 [==============================] - 3s 191us/step - loss: 0.1682 - acc: 0.9351\n",
            "(8334, 1)\n",
            "Model Evaluate 0 : 0.010532587766647339\n",
            "Epoch 1/3\n",
            "16667/16667 [==============================] - 3s 190us/step - loss: 0.2050 - acc: 0.9224\n",
            "Epoch 2/3\n",
            "16667/16667 [==============================] - 3s 189us/step - loss: 0.1269 - acc: 0.9544\n",
            "Epoch 3/3\n",
            "16667/16667 [==============================] - 3s 194us/step - loss: 0.0732 - acc: 0.9759\n",
            "(8333, 1)\n",
            "Model Evaluate 1 : 0.9941011667251587\n",
            "Epoch 1/3\n",
            "16667/16667 [==============================] - 3s 191us/step - loss: 0.1194 - acc: 0.9568\n",
            "Epoch 2/3\n",
            "16667/16667 [==============================] - 3s 195us/step - loss: 0.0617 - acc: 0.9789\n",
            "Epoch 3/3\n",
            "16667/16667 [==============================] - 3s 193us/step - loss: 0.0389 - acc: 0.9861\n",
            "(8333, 1)\n",
            "Model Evaluate 2 : 0.9584038257598877\n"
          ],
          "name": "stdout"
        }
      ]
    },
    {
      "cell_type": "markdown",
      "metadata": {
        "id": "BKsye3G1vcos",
        "colab_type": "text"
      },
      "source": [
        "![alt text](https://camo.githubusercontent.com/a802017ecb2ebd2aeeaa601a81ca921a1979fdd4/68747470733a2f2f69302e77702e636f6d2f616e64726f69646b742e636f6d2f77702d636f6e74656e742f75706c6f6164732f323031392f30382f6b2d666f6c642d76616c69646174696f6e2e706e673f726573697a653d3736382532433230312673736c3d31)\n",
        "\n",
        "ref:https://androidkt.com/k-fold-cross-validation-with-tensorflow-keras/"
      ]
    },
    {
      "cell_type": "code",
      "metadata": {
        "id": "xvPKGSc4Elxd",
        "colab_type": "code",
        "outputId": "161b2be7-01db-49c1-f225-e3f8f3eae77b",
        "colab": {
          "base_uri": "https://localhost:8080/",
          "height": 380
        }
      },
      "source": [
        "import keras\n",
        "\n",
        "def fit_model_L(optimizer='adam'):\n",
        "  model_L = Sequential()\n",
        "  model_L.add(Embedding(top_words, embedding_vecor_length, input_length=max_review_length))\n",
        "  model_L.add(LSTM(100))\n",
        "  model_L.add(Dense(1, activation='sigmoid'))\n",
        "  model_L.compile(loss='binary_crossentropy', optimizer='adam', metrics=['accuracy'])\n",
        "\n",
        "  return model_L\n",
        "\n",
        "n_split=3\n",
        "pred_ls_model_2 = np.array([])\n",
        "i = 0\n",
        "model=fit_model_L()\n",
        "for train_index,test_index in KFold(n_split).split(X_train):\n",
        "\n",
        "\n",
        "    x_train, x_test, Y_train, Y_test = X_train[train_index], X_test[test_index], y_train[train_index], y_test[test_index]\n",
        "    \n",
        "    model.fit(x_train, Y_train,epochs=3,batch_size=128)\n",
        "    pred_ls_model_2 = np.append(pred_ls_model_2,model.predict(x_test))\n",
        "    print('Model Predict {} : {}'.format(i,pred_ls_model_2[i]))\n",
        "    i = i + 1\n",
        "\n",
        "p2 = model.predict(X_test)"
      ],
      "execution_count": 195,
      "outputs": [
        {
          "output_type": "stream",
          "text": [
            "Epoch 1/3\n",
            "16666/16666 [==============================] - 95s 6ms/step - loss: 0.6127 - acc: 0.6641\n",
            "Epoch 2/3\n",
            "16666/16666 [==============================] - 94s 6ms/step - loss: 0.3422 - acc: 0.8553\n",
            "Epoch 3/3\n",
            "16666/16666 [==============================] - 93s 6ms/step - loss: 0.2659 - acc: 0.8955\n",
            "Model Evaluate 0 : 0.17447584867477417\n",
            "Epoch 1/3\n",
            "16667/16667 [==============================] - 94s 6ms/step - loss: 0.2653 - acc: 0.8965\n",
            "Epoch 2/3\n",
            "16667/16667 [==============================] - 93s 6ms/step - loss: 0.2455 - acc: 0.9044\n",
            "Epoch 3/3\n",
            "16667/16667 [==============================] - 94s 6ms/step - loss: 0.2047 - acc: 0.9244\n",
            "Model Evaluate 1 : 0.9454855918884277\n",
            "Epoch 1/3\n",
            "16667/16667 [==============================] - 94s 6ms/step - loss: 0.2377 - acc: 0.9084\n",
            "Epoch 2/3\n",
            "16667/16667 [==============================] - 94s 6ms/step - loss: 0.1871 - acc: 0.9314\n",
            "Epoch 3/3\n",
            "16667/16667 [==============================] - 93s 6ms/step - loss: 0.1601 - acc: 0.9423\n",
            "Model Evaluate 2 : 0.7110828757286072\n"
          ],
          "name": "stdout"
        }
      ]
    },
    {
      "cell_type": "markdown",
      "metadata": {
        "id": "Qwmk-5cJvSyh",
        "colab_type": "text"
      },
      "source": [
        "![alt text](https://camo.githubusercontent.com/a802017ecb2ebd2aeeaa601a81ca921a1979fdd4/68747470733a2f2f69302e77702e636f6d2f616e64726f69646b742e636f6d2f77702d636f6e74656e742f75706c6f6164732f323031392f30382f6b2d666f6c642d76616c69646174696f6e2e706e673f726573697a653d3736382532433230312673736c3d31)\n",
        "\n",
        "ref:https://androidkt.com/k-fold-cross-validation-with-tensorflow-keras/"
      ]
    },
    {
      "cell_type": "code",
      "metadata": {
        "colab_type": "code",
        "id": "AMSfgfDeNACe",
        "colab": {}
      },
      "source": [
        "import numpy as np\n",
        "\n",
        "concatenate_train = np.concatenate([pred_ls_model_1,pred_ls_model_2])"
      ],
      "execution_count": 0,
      "outputs": []
    },
    {
      "cell_type": "code",
      "metadata": {
        "colab_type": "code",
        "outputId": "eb78ff84-7629-456d-b5c9-72b3af73ae64",
        "id": "Cfs5Ti61M_kI",
        "colab": {
          "base_uri": "https://localhost:8080/",
          "height": 72
        }
      },
      "source": [
        "from sklearn.linear_model import LogisticRegression\n",
        "lr = LogisticRegression()\n",
        "\n",
        "\n",
        "lr_model = lr1.fit(concatenate_train.reshape(-1,1),Y_test_target)"
      ],
      "execution_count": 197,
      "outputs": [
        {
          "output_type": "stream",
          "text": [
            "/usr/local/lib/python3.6/dist-packages/sklearn/linear_model/logistic.py:432: FutureWarning: Default solver will be changed to 'lbfgs' in 0.22. Specify a solver to silence this warning.\n",
            "  FutureWarning)\n"
          ],
          "name": "stderr"
        }
      ]
    },
    {
      "cell_type": "code",
      "metadata": {
        "id": "_2WaZNPgSbw9",
        "colab_type": "code",
        "colab": {}
      },
      "source": [
        "final_predict_1 = lr_model.predict(p1)\n",
        "final_predict_2 = lr_model.predict(p2)"
      ],
      "execution_count": 0,
      "outputs": []
    },
    {
      "cell_type": "code",
      "metadata": {
        "id": "hM9Ib5nMQroB",
        "colab_type": "code",
        "colab": {
          "base_uri": "https://localhost:8080/",
          "height": 345
        },
        "outputId": "f587dce6-a241-4770-d201-8c60274db504"
      },
      "source": [
        "from sklearn.metrics import classification_report\n",
        "print(classification_report(y_test,final_predict_1))\n",
        "print(\"=\"*25)\n",
        "print(classification_report(y_test,final_predict_2))"
      ],
      "execution_count": 199,
      "outputs": [
        {
          "output_type": "stream",
          "text": [
            "              precision    recall  f1-score   support\n",
            "\n",
            "           0       0.89      0.88      0.89     12500\n",
            "           1       0.88      0.89      0.89     12500\n",
            "\n",
            "    accuracy                           0.89     25000\n",
            "   macro avg       0.89      0.89      0.89     25000\n",
            "weighted avg       0.89      0.89      0.89     25000\n",
            "\n",
            "=========================\n",
            "              precision    recall  f1-score   support\n",
            "\n",
            "           0       0.89      0.86      0.87     12500\n",
            "           1       0.86      0.89      0.88     12500\n",
            "\n",
            "    accuracy                           0.87     25000\n",
            "   macro avg       0.87      0.87      0.87     25000\n",
            "weighted avg       0.87      0.87      0.87     25000\n",
            "\n"
          ],
          "name": "stdout"
        }
      ]
    },
    {
      "cell_type": "code",
      "metadata": {
        "id": "G22TlOw3lkXa",
        "colab_type": "code",
        "colab": {}
      },
      "source": [
        ""
      ],
      "execution_count": 0,
      "outputs": []
    }
  ]
}