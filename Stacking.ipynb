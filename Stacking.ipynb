{
  "nbformat": 4,
  "nbformat_minor": 0,
  "metadata": {
    "colab": {
      "name": "Stacking.ipynb",
      "provenance": [],
      "collapsed_sections": [],
      "include_colab_link": true
    },
    "kernelspec": {
      "name": "python3",
      "display_name": "Python 3"
    },
    "accelerator": "GPU"
  },
  "cells": [
    {
      "cell_type": "markdown",
      "metadata": {
        "id": "view-in-github",
        "colab_type": "text"
      },
      "source": [
        "<a href=\"https://colab.research.google.com/github/MehrdadJannesar/CNN_AdaBoost/blob/master/Stacking.ipynb\" target=\"_parent\"><img src=\"https://colab.research.google.com/assets/colab-badge.svg\" alt=\"Open In Colab\"/></a>"
      ]
    },
    {
      "cell_type": "code",
      "metadata": {
        "id": "bvgnalaGsEsw",
        "colab_type": "code",
        "colab": {}
      },
      "source": [
        "from keras.datasets import imdb\n",
        "from sklearn.model_selection import train_test_split\n",
        "from keras.preprocessing import sequence\n",
        "from keras.layers import Embedding,Dropout,Conv1D,GlobalMaxPooling1D,Dense,Activation,LSTM,Bidirectional,GRU\n",
        "from keras import backend as K \n",
        "from keras.models import Model\n"
      ],
      "execution_count": 0,
      "outputs": []
    },
    {
      "cell_type": "code",
      "metadata": {
        "id": "-KvQm0eqsHpi",
        "colab_type": "code",
        "colab": {}
      },
      "source": [
        "top_words = 5000\n",
        "(X_train, y_train), (X_test, y_test) = imdb.load_data(num_words=top_words)\n"
      ],
      "execution_count": 0,
      "outputs": []
    },
    {
      "cell_type": "code",
      "metadata": {
        "id": "9JS4Hb3usLax",
        "colab_type": "code",
        "colab": {}
      },
      "source": [
        "max_review_length = 500\n",
        "X_train = sequence.pad_sequences(X_train, maxlen=max_review_length)\n",
        "X_test = sequence.pad_sequences(X_test, maxlen=max_review_length)"
      ],
      "execution_count": 0,
      "outputs": []
    },
    {
      "cell_type": "code",
      "metadata": {
        "id": "KjYlR8aysQPJ",
        "colab_type": "code",
        "colab": {
          "base_uri": "https://localhost:8080/",
          "height": 1000
        },
        "outputId": "4770d1a5-afe1-4740-b71b-94ba962a0b78"
      },
      "source": [
        "import tensorflow as tf\n",
        "from sklearn.model_selection import KFold\n",
        "from keras.models import Sequential\n",
        "from keras.layers import Embedding,Dropout,Conv1D,GlobalMaxPooling1D,Dense,Activation,LSTM\n",
        "max_features = 5000\n",
        "embedding_dims = 50\n",
        "maxlen = 500\n",
        "\n",
        "max_features = 5000\n",
        "maxlen = 500\n",
        "batch_size = 32\n",
        "embedding_dims = 50\n",
        "filters = 250\n",
        "kernel_size = 3\n",
        "hidden_dims = 250\n",
        "epochs = 2\n",
        "embedding_vecor_length = 32\n",
        "units = 128\n",
        "\n",
        "def fit_model_text_CNN(optimizer='adam'):\n",
        "  model_text_CNN = Sequential()\n",
        "\n",
        "\n",
        "  model_text_CNN.add(Embedding(max_features,\n",
        "                      embedding_dims,\n",
        "                      input_length=maxlen))\n",
        "  model_text_CNN.add(Dropout(0.2))\n",
        "\n",
        "  model_text_CNN.add(Conv1D(filters,\n",
        "                  kernel_size,\n",
        "                  padding='SAME',\n",
        "                  activation='relu',\n",
        "                  strides=1))\n",
        "  model_text_CNN.add(GlobalMaxPooling1D())\n",
        "\n",
        "  model_text_CNN.add(Dense(hidden_dims))\n",
        "  model_text_CNN.add(Dropout(0.2))\n",
        "  model_text_CNN.add(Activation('relu'))\n",
        "\n",
        "  model_text_CNN.add(Dense(1))\n",
        "  model_text_CNN.add(Activation('sigmoid'))\n",
        "\n",
        "  model_text_CNN.compile(loss='binary_crossentropy',\n",
        "                optimizer='adam',\n",
        "                metrics=['accuracy'])\n",
        "\n",
        "  return model_text_CNN\n",
        " \n",
        "n_split=3\n",
        "pr = []\n",
        "i = 0\n",
        "model=fit_model_text_CNN()\n",
        "for train_index,test_index in KFold(n_split).split(X_train):\n",
        "    \n",
        "    # x_train,x_test=X_train,X_test\n",
        "    # y_train,y_test=y_train,y_test\n",
        "  \n",
        "    \n",
        "    model.fit(X_train, y_train,epochs=20)\n",
        "    pr.append(model.evaluate(X_test,y_test))\n",
        "    print('Model Evaluate {} : {}'.format(i,pr[i]))\n",
        "    i = i + 1\n",
        "\n",
        "p1 = model.predict(X_test)"
      ],
      "execution_count": 49,
      "outputs": [
        {
          "output_type": "stream",
          "text": [
            "Epoch 1/20\n",
            "25000/25000 [==============================] - 9s 376us/step - loss: 0.4015 - acc: 0.7978\n",
            "Epoch 2/20\n",
            "25000/25000 [==============================] - 6s 245us/step - loss: 0.2261 - acc: 0.9105\n",
            "Epoch 3/20\n",
            "25000/25000 [==============================] - 6s 251us/step - loss: 0.1577 - acc: 0.9412\n",
            "Epoch 4/20\n",
            "25000/25000 [==============================] - 6s 253us/step - loss: 0.1132 - acc: 0.9595\n",
            "Epoch 5/20\n",
            "25000/25000 [==============================] - 6s 251us/step - loss: 0.0766 - acc: 0.9738\n",
            "Epoch 6/20\n",
            "25000/25000 [==============================] - 7s 260us/step - loss: 0.0583 - acc: 0.9784\n",
            "Epoch 7/20\n",
            "25000/25000 [==============================] - 6s 253us/step - loss: 0.0465 - acc: 0.9837\n",
            "Epoch 8/20\n",
            "25000/25000 [==============================] - 6s 254us/step - loss: 0.0396 - acc: 0.9863\n",
            "Epoch 9/20\n",
            "25000/25000 [==============================] - 6s 256us/step - loss: 0.0342 - acc: 0.9880\n",
            "Epoch 10/20\n",
            "25000/25000 [==============================] - 6s 238us/step - loss: 0.0291 - acc: 0.9886\n",
            "Epoch 11/20\n",
            "25000/25000 [==============================] - 6s 255us/step - loss: 0.0262 - acc: 0.9904\n",
            "Epoch 12/20\n",
            "25000/25000 [==============================] - 6s 246us/step - loss: 0.0295 - acc: 0.9894\n",
            "Epoch 13/20\n",
            "25000/25000 [==============================] - 6s 249us/step - loss: 0.0242 - acc: 0.9910\n",
            "Epoch 14/20\n",
            "25000/25000 [==============================] - 6s 256us/step - loss: 0.0222 - acc: 0.9914\n",
            "Epoch 15/20\n",
            "25000/25000 [==============================] - 6s 254us/step - loss: 0.0250 - acc: 0.9903\n",
            "Epoch 16/20\n",
            "25000/25000 [==============================] - 6s 244us/step - loss: 0.0203 - acc: 0.9928\n",
            "Epoch 17/20\n",
            "25000/25000 [==============================] - 6s 253us/step - loss: 0.0188 - acc: 0.9932\n",
            "Epoch 18/20\n",
            "25000/25000 [==============================] - 6s 258us/step - loss: 0.0184 - acc: 0.9934\n",
            "Epoch 19/20\n",
            "25000/25000 [==============================] - 6s 244us/step - loss: 0.0245 - acc: 0.9909\n",
            "Epoch 20/20\n",
            "25000/25000 [==============================] - 6s 241us/step - loss: 0.0146 - acc: 0.9950\n",
            "25000/25000 [==============================] - 3s 122us/step\n",
            "Model Evaluate 0 : [0.6311592518025637, 0.88524]\n",
            "Epoch 1/20\n",
            "25000/25000 [==============================] - 6s 251us/step - loss: 0.0167 - acc: 0.9940\n",
            "Epoch 2/20\n",
            "25000/25000 [==============================] - 6s 236us/step - loss: 0.0147 - acc: 0.9948\n",
            "Epoch 3/20\n",
            "25000/25000 [==============================] - 7s 264us/step - loss: 0.0151 - acc: 0.9948\n",
            "Epoch 4/20\n",
            "25000/25000 [==============================] - 7s 262us/step - loss: 0.0163 - acc: 0.9939\n",
            "Epoch 5/20\n",
            "25000/25000 [==============================] - 6s 244us/step - loss: 0.0158 - acc: 0.9947\n",
            "Epoch 6/20\n",
            "25000/25000 [==============================] - 7s 261us/step - loss: 0.0137 - acc: 0.9951\n",
            "Epoch 7/20\n",
            "25000/25000 [==============================] - 6s 255us/step - loss: 0.0137 - acc: 0.9952\n",
            "Epoch 8/20\n",
            "25000/25000 [==============================] - 6s 239us/step - loss: 0.0126 - acc: 0.9953\n",
            "Epoch 9/20\n",
            "25000/25000 [==============================] - 6s 256us/step - loss: 0.0134 - acc: 0.9948\n",
            "Epoch 10/20\n",
            "25000/25000 [==============================] - 6s 250us/step - loss: 0.0115 - acc: 0.9959\n",
            "Epoch 11/20\n",
            "25000/25000 [==============================] - 6s 245us/step - loss: 0.0104 - acc: 0.9962\n",
            "Epoch 12/20\n",
            "25000/25000 [==============================] - 6s 250us/step - loss: 0.0122 - acc: 0.9955\n",
            "Epoch 13/20\n",
            "25000/25000 [==============================] - 6s 253us/step - loss: 0.0130 - acc: 0.9953\n",
            "Epoch 14/20\n",
            "25000/25000 [==============================] - 6s 249us/step - loss: 0.0109 - acc: 0.9962\n",
            "Epoch 15/20\n",
            "25000/25000 [==============================] - 6s 247us/step - loss: 0.0130 - acc: 0.9954\n",
            "Epoch 16/20\n",
            "25000/25000 [==============================] - 7s 261us/step - loss: 0.0106 - acc: 0.9962\n",
            "Epoch 17/20\n",
            "25000/25000 [==============================] - 6s 259us/step - loss: 0.0089 - acc: 0.9969\n",
            "Epoch 18/20\n",
            "25000/25000 [==============================] - 6s 247us/step - loss: 0.0089 - acc: 0.9969\n",
            "Epoch 19/20\n",
            "25000/25000 [==============================] - 6s 251us/step - loss: 0.0109 - acc: 0.9967\n",
            "Epoch 20/20\n",
            "25000/25000 [==============================] - 6s 247us/step - loss: 0.0116 - acc: 0.9958\n",
            "25000/25000 [==============================] - 2s 65us/step\n",
            "Model Evaluate 1 : [0.6366496706831455, 0.88556]\n",
            "Epoch 1/20\n",
            "25000/25000 [==============================] - 6s 248us/step - loss: 0.0100 - acc: 0.9965\n",
            "Epoch 2/20\n",
            "25000/25000 [==============================] - 6s 251us/step - loss: 0.0109 - acc: 0.9967\n",
            "Epoch 3/20\n",
            "25000/25000 [==============================] - 6s 238us/step - loss: 0.0097 - acc: 0.9967\n",
            "Epoch 4/20\n",
            "25000/25000 [==============================] - 6s 253us/step - loss: 0.0090 - acc: 0.9969\n",
            "Epoch 5/20\n",
            "25000/25000 [==============================] - 6s 252us/step - loss: 0.0077 - acc: 0.9975\n",
            "Epoch 6/20\n",
            "25000/25000 [==============================] - 6s 249us/step - loss: 0.0064 - acc: 0.9977\n",
            "Epoch 7/20\n",
            "25000/25000 [==============================] - 6s 254us/step - loss: 0.0106 - acc: 0.9962\n",
            "Epoch 8/20\n",
            "25000/25000 [==============================] - 6s 251us/step - loss: 0.0095 - acc: 0.9970\n",
            "Epoch 9/20\n",
            "25000/25000 [==============================] - 6s 246us/step - loss: 0.0068 - acc: 0.9976\n",
            "Epoch 10/20\n",
            "25000/25000 [==============================] - 6s 258us/step - loss: 0.0091 - acc: 0.9966\n",
            "Epoch 11/20\n",
            "25000/25000 [==============================] - 6s 247us/step - loss: 0.0069 - acc: 0.9980\n",
            "Epoch 12/20\n",
            "25000/25000 [==============================] - 6s 240us/step - loss: 0.0052 - acc: 0.9981\n",
            "Epoch 13/20\n",
            "25000/25000 [==============================] - 6s 255us/step - loss: 0.0095 - acc: 0.9968\n",
            "Epoch 14/20\n",
            "25000/25000 [==============================] - 6s 256us/step - loss: 0.0067 - acc: 0.9976\n",
            "Epoch 15/20\n",
            "25000/25000 [==============================] - 6s 255us/step - loss: 0.0081 - acc: 0.9973\n",
            "Epoch 16/20\n",
            "25000/25000 [==============================] - 6s 259us/step - loss: 0.0067 - acc: 0.9978\n",
            "Epoch 17/20\n",
            "25000/25000 [==============================] - 7s 261us/step - loss: 0.0066 - acc: 0.9974\n",
            "Epoch 18/20\n",
            "25000/25000 [==============================] - 6s 256us/step - loss: 0.0059 - acc: 0.9981\n",
            "Epoch 19/20\n",
            "25000/25000 [==============================] - 6s 255us/step - loss: 0.0067 - acc: 0.9978\n",
            "Epoch 20/20\n",
            "25000/25000 [==============================] - 6s 257us/step - loss: 0.0054 - acc: 0.9980\n",
            "25000/25000 [==============================] - 2s 69us/step\n",
            "Model Evaluate 2 : [0.7326092628398352, 0.88568]\n"
          ],
          "name": "stdout"
        }
      ]
    },
    {
      "cell_type": "markdown",
      "metadata": {
        "id": "ov4GFlQ8mEYy",
        "colab_type": "text"
      },
      "source": [
        "![alt text](https://i0.wp.com/androidkt.com/wp-content/uploads/2019/08/k-fold-validation.png?resize=768%2C201&ssl=1)\n",
        "\n",
        "\n",
        "\n",
        "ref:https://androidkt.com/k-fold-cross-validation-with-tensorflow-keras/\n",
        "\n"
      ]
    },
    {
      "cell_type": "code",
      "metadata": {
        "id": "yT3Ld-PnskX1",
        "colab_type": "code",
        "colab": {
          "base_uri": "https://localhost:8080/",
          "height": 433
        },
        "outputId": "5140200b-761c-4e1b-ab43-8205ff56b5b2"
      },
      "source": [
        "import keras\n",
        "\n",
        "def fit_model_L(optimizer='adam'):\n",
        "  model_L = Sequential()\n",
        "  model_L.add(Embedding(top_words, embedding_vecor_length, input_length=max_review_length))\n",
        "  model_L.add(LSTM(100))\n",
        "  model_L.add(Dense(1, activation='sigmoid'))\n",
        "  model_L.compile(loss='binary_crossentropy', optimizer='adam', metrics=['accuracy'])\n",
        "\n",
        "  return model_L\n",
        "\n",
        "\n",
        "\n",
        "   \n",
        "n_split=3\n",
        "pr1 = []\n",
        "i = 0\n",
        "model_la=fit_model_L()\n",
        "for train_index,test_index in KFold(n_split).split(X_train):\n",
        "    \n",
        "    # x_train,x_test=X_train,X_test\n",
        "    # y_train,y_test=y_train,y_test\n",
        "  \n",
        "\n",
        "    model_la.fit(X_train, y_train,epochs=3,batch_size=256)\n",
        "    pr1.append(model_la.evaluate(X_test,y_test))\n",
        "    print('Model predict {} : {}'.format(i,pr1[i]))\n",
        "    i = i + 1\n",
        "\n",
        "p2 = model_la.predict(X_test)"
      ],
      "execution_count": 50,
      "outputs": [
        {
          "output_type": "stream",
          "text": [
            "Epoch 1/3\n",
            "25000/25000 [==============================] - 110s 4ms/step - loss: 0.5589 - acc: 0.7136\n",
            "Epoch 2/3\n",
            "25000/25000 [==============================] - 105s 4ms/step - loss: 0.3165 - acc: 0.8692\n",
            "Epoch 3/3\n",
            "25000/25000 [==============================] - 107s 4ms/step - loss: 0.2433 - acc: 0.9043\n",
            "25000/25000 [==============================] - 310s 12ms/step\n",
            "Model predict 0 : [0.2922314874458313, 0.88056]\n",
            "Epoch 1/3\n",
            "25000/25000 [==============================] - 109s 4ms/step - loss: 0.3036 - acc: 0.8745\n",
            "Epoch 2/3\n",
            "25000/25000 [==============================] - 110s 4ms/step - loss: 0.2096 - acc: 0.9229\n",
            "Epoch 3/3\n",
            "25000/25000 [==============================] - 110s 4ms/step - loss: 0.1918 - acc: 0.9281\n",
            "25000/25000 [==============================] - 311s 12ms/step\n",
            "Model predict 1 : [0.3117013213443756, 0.87436]\n",
            "Epoch 1/3\n",
            "25000/25000 [==============================] - 105s 4ms/step - loss: 0.1703 - acc: 0.9398\n",
            "Epoch 2/3\n",
            "25000/25000 [==============================] - 106s 4ms/step - loss: 0.1632 - acc: 0.9412\n",
            "Epoch 3/3\n",
            "25000/25000 [==============================] - 105s 4ms/step - loss: 0.1596 - acc: 0.9425\n",
            "25000/25000 [==============================] - 304s 12ms/step\n",
            "Model predict 2 : [0.355801907749176, 0.86364]\n"
          ],
          "name": "stdout"
        }
      ]
    },
    {
      "cell_type": "markdown",
      "metadata": {
        "id": "undDc6NXlndz",
        "colab_type": "text"
      },
      "source": [
        "![alt text](https://i0.wp.com/androidkt.com/wp-content/uploads/2019/08/k-fold-validation.png?resize=768%2C201&ssl=1)\n",
        "\n",
        "\n",
        "\n",
        "ref:https://androidkt.com/k-fold-cross-validation-with-tensorflow-keras/\n",
        "\n"
      ]
    },
    {
      "cell_type": "code",
      "metadata": {
        "id": "jXDUK6JQuL9h",
        "colab_type": "code",
        "colab": {}
      },
      "source": [
        "import numpy as np\n",
        "\n",
        "concatenate_train = np.concatenate((p1,p2),axis=1)\n"
      ],
      "execution_count": 0,
      "outputs": []
    },
    {
      "cell_type": "code",
      "metadata": {
        "id": "332UHovUJ8BZ",
        "colab_type": "code",
        "colab": {
          "base_uri": "https://localhost:8080/",
          "height": 72
        },
        "outputId": "f7486587-f6a8-4b97-df61-7a1f45abcb27"
      },
      "source": [
        "from sklearn.linear_model import LogisticRegression\n",
        "lr1 = LogisticRegression()\n",
        "\n",
        "lrp1 = lr.fit(concatenate_train, y_train)\n",
        "\n"
      ],
      "execution_count": 183,
      "outputs": [
        {
          "output_type": "stream",
          "text": [
            "/usr/local/lib/python3.6/dist-packages/sklearn/linear_model/logistic.py:432: FutureWarning: Default solver will be changed to 'lbfgs' in 0.22. Specify a solver to silence this warning.\n",
            "  FutureWarning)\n"
          ],
          "name": "stderr"
        }
      ]
    },
    {
      "cell_type": "code",
      "metadata": {
        "id": "qDX3oUzSeEWx",
        "colab_type": "code",
        "colab": {}
      },
      "source": [
        "pre1 = lrp2.predict(p1)\n",
        "pre2 = lrp2.predict(p2)\n"
      ],
      "execution_count": 0,
      "outputs": []
    },
    {
      "cell_type": "code",
      "metadata": {
        "id": "2bOVz3BeXlFg",
        "colab_type": "code",
        "colab": {
          "base_uri": "https://localhost:8080/",
          "height": 173
        },
        "outputId": "2d5d7c6f-4259-4b16-c6f1-45706506629a"
      },
      "source": [
        "from sklearn.metrics import classification_report\n",
        "print(classification_report(y_test,pre2))"
      ],
      "execution_count": 193,
      "outputs": [
        {
          "output_type": "stream",
          "text": [
            "              precision    recall  f1-score   support\n",
            "\n",
            "           0       0.12      0.12      0.12     12500\n",
            "           1       0.15      0.15      0.15     12500\n",
            "\n",
            "    accuracy                           0.14     25000\n",
            "   macro avg       0.14      0.14      0.14     25000\n",
            "weighted avg       0.14      0.14      0.14     25000\n",
            "\n"
          ],
          "name": "stdout"
        }
      ]
    }
  ]
}