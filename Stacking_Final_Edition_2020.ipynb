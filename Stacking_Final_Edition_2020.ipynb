{
  "nbformat": 4,
  "nbformat_minor": 0,
  "metadata": {
    "accelerator": "GPU",
    "colab": {
      "name": "Copy_of_Stacking_Final_Edition.ipynb",
      "provenance": [],
      "collapsed_sections": [],
      "include_colab_link": true
    },
    "kernelspec": {
      "display_name": "Python 3",
      "language": "python",
      "name": "python3"
    },
    "language_info": {
      "codemirror_mode": {
        "name": "ipython",
        "version": 3
      },
      "file_extension": ".py",
      "mimetype": "text/x-python",
      "name": "python",
      "nbconvert_exporter": "python",
      "pygments_lexer": "ipython3",
      "version": "3.7.3"
    }
  },
  "cells": [
    {
      "cell_type": "markdown",
      "metadata": {
        "id": "view-in-github",
        "colab_type": "text"
      },
      "source": [
        "<a href=\"https://colab.research.google.com/github/MehrdadJannesar/CNN_AdaBoost/blob/master/Stacking_Final_Edition_2020.ipynb\" target=\"_parent\"><img src=\"https://colab.research.google.com/assets/colab-badge.svg\" alt=\"Open In Colab\"/></a>"
      ]
    },
    {
      "cell_type": "code",
      "metadata": {
        "colab_type": "code",
        "id": "bvgnalaGsEsw",
        "outputId": "1c8c1bc8-7580-4b51-8b47-4b5635038c0b",
        "colab": {
          "base_uri": "https://localhost:8080/",
          "height": 79
        }
      },
      "source": [
        "import datetime\n",
        "import tensorflow as tf\n",
        "import keras\n",
        "import pandas as pd\n",
        "from keras.datasets import imdb\n",
        "from keras.models import Sequential\n",
        "from keras import callbacks\n",
        "from keras.models import Model\n",
        "from keras import backend as K \n",
        "from keras.utils import plot_model\n",
        "from keras.preprocessing import sequence\n",
        "from keras.layers import Embedding,Dropout,Conv1D,GlobalMaxPooling1D,Dense,Activation,LSTM,Bidirectional,GRU,SpatialDropout1D\n",
        "from sklearn.model_selection import KFold\n",
        "from sklearn.metrics import precision_recall_fscore_support\n",
        "from sklearn.metrics import classification_report\n",
        "from sklearn.model_selection import train_test_split\n",
        "from sklearn.metrics import accuracy_score\n",
        "import seaborn as sns\n",
        "import numpy as np  \n",
        "import matplotlib.pyplot as plt"
      ],
      "execution_count": 0,
      "outputs": [
        {
          "output_type": "stream",
          "text": [
            "Using TensorFlow backend.\n"
          ],
          "name": "stderr"
        }
      ]
    },
    {
      "cell_type": "markdown",
      "metadata": {
        "id": "y2Z1PGsUCkzZ",
        "colab_type": "text"
      },
      "source": [
        "### IMDB dataset\n",
        "Dataset of 25,000 movies reviews from IMDB, labeled by sentiment (positive/negative). Reviews have been preprocessed, and each review is encoded as a sequence of word indexes (integers). For convenience, words are indexed by overall frequency in the dataset, so that for instance the integer \"3\" encodes the 3rd most frequent word in the data. This allows for quick filtering operations such as: \"only consider the top 10,000 most common words, but eliminate the top 20 most common words\".\n",
        "\n",
        "As a convention, \"0\" does not stand for a specific word, but instead is used to encode any unknown word."
      ]
    },
    {
      "cell_type": "code",
      "metadata": {
        "colab_type": "code",
        "id": "-KvQm0eqsHpi",
        "colab": {}
      },
      "source": [
        "np_load_old = np.load\n",
        "\n",
        "np.load = lambda *a,**k: np_load_old(*a, allow_pickle=True, **k)\n",
        "\n",
        "top_words = 5000\n",
        "(X_train, y_train), (X_test, y_test) = imdb.load_data(num_words=top_words)\n",
        "np.load = np_load_old"
      ],
      "execution_count": 0,
      "outputs": []
    },
    {
      "cell_type": "code",
      "metadata": {
        "colab_type": "code",
        "id": "9JS4Hb3usLax",
        "colab": {}
      },
      "source": [
        "max_review_length = 500\n",
        "X_train = sequence.pad_sequences(X_train, maxlen=max_review_length)\n",
        "X_test = sequence.pad_sequences(X_test, maxlen=max_review_length)"
      ],
      "execution_count": 0,
      "outputs": []
    },
    {
      "cell_type": "markdown",
      "metadata": {
        "id": "XRKpZZPhCkze",
        "colab_type": "text"
      },
      "source": [
        "Lets take a look on item 0 of this data"
      ]
    },
    {
      "cell_type": "code",
      "metadata": {
        "id": "x2fuQWvqCkzf",
        "colab_type": "code",
        "colab": {},
        "outputId": "fe139afb-0959-44d8-a8ec-85bb148826dd"
      },
      "source": [
        "print(X_train[0])"
      ],
      "execution_count": 0,
      "outputs": [
        {
          "output_type": "stream",
          "text": [
            "[   0    0    0    0    0    0    0    0    0    0    0    0    0    0\n",
            "    0    0    0    0    0    0    0    0    0    0    0    0    0    0\n",
            "    0    0    0    0    0    0    0    0    0    0    0    0    0    0\n",
            "    0    0    0    0    0    0    0    0    0    0    0    0    0    0\n",
            "    0    0    0    0    0    0    0    0    0    0    0    0    0    0\n",
            "    0    0    0    0    0    0    0    0    0    0    0    0    0    0\n",
            "    0    0    0    0    0    0    0    0    0    0    0    0    0    0\n",
            "    0    0    0    0    0    0    0    0    0    0    0    0    0    0\n",
            "    0    0    0    0    0    0    0    0    0    0    0    0    0    0\n",
            "    0    0    0    0    0    0    0    0    0    0    0    0    0    0\n",
            "    0    0    0    0    0    0    0    0    0    0    0    0    0    0\n",
            "    0    0    0    0    0    0    0    0    0    0    0    0    0    0\n",
            "    0    0    0    0    0    0    0    0    0    0    0    0    0    0\n",
            "    0    0    0    0    0    0    0    0    0    0    0    0    0    0\n",
            "    0    0    0    0    0    0    0    0    0    0    0    0    0    0\n",
            "    0    0    0    0    0    0    0    0    0    0    0    0    0    0\n",
            "    0    0    0    0    0    0    0    0    0    0    0    0    0    0\n",
            "    0    0    0    0    0    0    0    0    0    0    0    0    0    0\n",
            "    0    0    0    0    0    0    0    0    0    0    0    0    0    0\n",
            "    0    0    0    0    0    0    0    0    0    0    0    0    0    0\n",
            "    0    0    1   14   22   16   43  530  973 1622 1385   65  458 4468\n",
            "   66 3941    4  173   36  256    5   25  100   43  838  112   50  670\n",
            "    2    9   35  480  284    5  150    4  172  112  167    2  336  385\n",
            "   39    4  172 4536 1111   17  546   38   13  447    4  192   50   16\n",
            "    6  147 2025   19   14   22    4 1920 4613  469    4   22   71   87\n",
            "   12   16   43  530   38   76   15   13 1247    4   22   17  515   17\n",
            "   12   16  626   18    2    5   62  386   12    8  316    8  106    5\n",
            "    4 2223    2   16  480   66 3785   33    4  130   12   16   38  619\n",
            "    5   25  124   51   36  135   48   25 1415   33    6   22   12  215\n",
            "   28   77   52    5   14  407   16   82    2    8    4  107  117    2\n",
            "   15  256    4    2    7 3766    5  723   36   71   43  530  476   26\n",
            "  400  317   46    7    4    2 1029   13  104   88    4  381   15  297\n",
            "   98   32 2071   56   26  141    6  194    2   18    4  226   22   21\n",
            "  134  476   26  480    5  144   30    2   18   51   36   28  224   92\n",
            "   25  104    4  226   65   16   38 1334   88   12   16  283    5   16\n",
            " 4472  113  103   32   15   16    2   19  178   32]\n"
          ],
          "name": "stdout"
        }
      ]
    },
    {
      "cell_type": "markdown",
      "metadata": {
        "id": "ykVPj-kiCkzh",
        "colab_type": "text"
      },
      "source": [
        "What we see is a list of integers. Each integer represents one word in a movie review. That is, our movie review has been converted to a list of integers. Each word in our movie review vocabulary has been indexed by a unique integer. Here is the text of an example review from our dataset:\n",
        "\n",
        "![alt text](https://doc-04-88-docs.googleusercontent.com/docs/securesc/v903qu5s530pc8ikhnbi48s9q8im2q6p/a6erdvhp4mldhk5sadsrog9htsr3ee4j/1578045600000/06997921430171725257/06997921430171725257/1I5goN4ysCg3tpRaFsD6kWXGWctc_eCa3?authuser=0&nonce=f9miihtf852ng&user=06997921430171725257&hash=u3ddgf6kbjosr7migquhiii1ijrqlp8u)\n",
        "\n",
        "A simple parsing and indexing can map each word in our movie review database to a unique integer like in this example:\n",
        "\n"
      ]
    },
    {
      "cell_type": "markdown",
      "metadata": {
        "id": "JDQSiX23Ckzi",
        "colab_type": "text"
      },
      "source": [
        "![alt text](https://doc-10-88-docs.googleusercontent.com/docs/securesc/v903qu5s530pc8ikhnbi48s9q8im2q6p/ae6pvisvlotc5o30u6i6kqj6jshub7hl/1578045600000/06997921430171725257/06997921430171725257/13TqT_hNI9YjsveBtCOy1rElefgarp4R7?authuser=0)\n",
        "It should be noted that only words with a minimal level of frequency are entering the vocabulary. Words with low frequency are simply ignored (and are masked by index 0). This process is described in Yoon Kim's paper above and also in this tutorial:\n",
        "http://www.wildml.com/2015/12/implementing-a-cnn-for-text-classification-in-tensorflow/\n",
        "\n",
        "#### ref: https://www.samyzaf.com/ML/imdb/imdb.html"
      ]
    },
    {
      "cell_type": "markdown",
      "metadata": {
        "id": "copsyDi9Ckzi",
        "colab_type": "text"
      },
      "source": [
        "### Stacking\n",
        "\n",
        "Stacking is an ensemble learning technique that combines multiple classification or regression models via a meta-classifier or a meta-regressor. The base level models are trained based on a complete training set, then the meta-model is trained on the outputs of the base level model as features.\n",
        "The base level often consists of different learning algorithms and therefore stacking ensembles are often heterogeneous. The algorithm below summarizes stacking.\n",
        "\n",
        "![alt text](https://doc-00-88-docs.googleusercontent.com/docs/securesc/v903qu5s530pc8ikhnbi48s9q8im2q6p/mme8k72mi5u80iiavntmu9e1gkp2vg5s/1578045600000/06997921430171725257/06997921430171725257/1IljNsOdNGSz4bdwH4l86CIHmLwO0JTpZ?authuser=0)\n",
        "\n",
        "The following accuracy is visualized in the top right plot of the figure above:\n",
        "Accuracy: 0.91 (+/- 0.01) [KNN]\n",
        "Accuracy: 0.91 (+/- 0.06) [Random Forest]\n",
        "Accuracy: 0.92 (+/- 0.03) [Naive Bayes]\n",
        "Accuracy: 0.95 (+/- 0.03) [Stacking Classifier]\n",
        "The stacking ensemble is illustrated in the figure above. It consists of k-NN, Random Forest, and Naive Bayes base classifiers whose predictions are combined by Logistic Regression as a meta-classifier. We can see the blending of decision boundaries achieved by the stacking classifier. The figure also shows that stacking achieves higher accuracy than individual classifiers and based on learning curves, it shows no signs of overfitting.\n",
        "Stacking is a commonly used technique for winning the Kaggle data science competition. For example, the first place for the Otto Group Product Classification challenge was won by a stacking ensemble of over 30 models whose output was used as features for three meta-classifiers: XGBoost, Neural Network, and Adaboost. See the following link for details."
      ]
    },
    {
      "cell_type": "markdown",
      "metadata": {
        "id": "qPw-vWJlCkzj",
        "colab_type": "text"
      },
      "source": [
        "## Define function for visualization metrics"
      ]
    },
    {
      "cell_type": "markdown",
      "metadata": {
        "id": "z5DBWvvBCkzj",
        "colab_type": "text"
      },
      "source": [
        "#### Build a text report showing the main classification metrics\n",
        "\n",
        "The reported averages include macro average (averaging the unweighted mean per label), weighted average (averaging the support-weighted mean per label), sample average (only for multilabel classification) and micro average (averaging the total true positives, false negatives and false positives) it is only shown for multi-label or multi-class with a subset of classes because it is accuracy otherwise. See also precision_recall_fscore_support for more details on averages.\n",
        "\n",
        "Note that in binary classification, recall of the positive class is also known as “sensitivity”; recall of the negative class is “specificity”.\n",
        "\n",
        "Read more in the User Guide:\n",
        "\n",
        "#### ref: https://scikit-learn.org/stable/modules/generated/sklearn.metrics.classification_report.html"
      ]
    },
    {
      "cell_type": "code",
      "metadata": {
        "id": "dHM10vb2Ckzk",
        "colab_type": "code",
        "colab": {}
      },
      "source": [
        "def plot_classification_report(y_tru, y_prd, figsize=(18, 10), ax=None, cmap = \"RdBu_r\"):\n",
        "\n",
        "    plt.figure(figsize=figsize)\n",
        "\n",
        "    xticks = ['precision', 'recall', 'f1-score', 'support']\n",
        "    yticks = list(np.unique(y_tru))\n",
        "    yticks += ['avg']\n",
        "\n",
        "    rep = np.array(precision_recall_fscore_support(y_tru, y_prd)).T\n",
        "    avg = np.mean(rep, axis=0)\n",
        "    avg[-1] = np.sum(rep[:, -1])\n",
        "    rep = np.insert(rep, rep.shape[0], avg, axis=0)\n",
        "\n",
        "    sns.heatmap(rep,\n",
        "                annot=True, \n",
        "                cbar=True, \n",
        "                xticklabels=xticks, \n",
        "                yticklabels=yticks,\n",
        "                 linewidths=.5,\n",
        "                 cmap=cmap,\n",
        "                ax=ax)"
      ],
      "execution_count": 0,
      "outputs": []
    },
    {
      "cell_type": "markdown",
      "metadata": {
        "id": "K0u3lRuWCkzm",
        "colab_type": "text"
      },
      "source": [
        "## MODELS"
      ]
    },
    {
      "cell_type": "markdown",
      "metadata": {
        "id": "ZUIqbwXBCkzn",
        "colab_type": "text"
      },
      "source": [
        "### Define default parameters"
      ]
    },
    {
      "cell_type": "code",
      "metadata": {
        "id": "ubOgT_aECkzn",
        "colab_type": "code",
        "colab": {}
      },
      "source": [
        "max_features = 5000\n",
        "embedding_dims = 50\n",
        "maxlen = 500\n",
        "batch_size = 32\n",
        "filters = 250\n",
        "kernel_size = 3\n",
        "hidden_dims = 250\n",
        "epochs = 2\n",
        "embedding_vecor_length = 32\n",
        "units = 128"
      ],
      "execution_count": 0,
      "outputs": []
    },
    {
      "cell_type": "markdown",
      "metadata": {
        "id": "vdAe1NZ0Ckzp",
        "colab_type": "text"
      },
      "source": [
        "### 1-D Convolutions over text\n",
        "Given a sequence of words w1:n=w1,…,wn, where each is associated with an embedding vector of dimension d. A 1D convolution of width-k is the result of moving a sliding-window of size k over the sentence, and applying the same convolution filter or kernel to each window in the sequence, i.e., a dot-product between the concatenation of the embedding vectors in a given window and a weight vector u, which is then often followed by a non-linear activation function g.\n",
        "\n",
        "Considering a window of words wi,…,wi+k the concatenated vector of the ith window is then:\n",
        "\n",
        "xi=[wi,wi+1,…,wi+k]∈R k × d\n",
        "The convolution filter is applied to each window, resulting in scalar values ri, each for the ith window:\n",
        "\n",
        "ri=g(xi⋅u)∈R\n",
        "In practice one typically applies more filters, u1,…,ul, which can then be represented as a vector multiplied by a matrix U and with an addition of a bias term b:\n",
        "\n",
        "ri=g(xi⋅U+b)\n",
        "\n",
        "with ri∈Rl,   xi∈R k × d,   U∈R k ⋅ d ×l   and   b∈Rl\n",
        "An example of a sentence convolution in a vector-concatenation notation:\n",
        "\n",
        "![alt text](https://doc-0o-88-docs.googleusercontent.com/docs/securesc/v903qu5s530pc8ikhnbi48s9q8im2q6p/qbaqeqgjm0r4o27mqjvb2ablm5eidrjr/1578045600000/06997921430171725257/06997921430171725257/1oD3TnI8j_3NIiKH-J3ng8n9J4Kb3Gd6j?authuser=0)\n",
        "\n",
        "Example of a sentence convolution with k=2 and dimensional output l=3.\n",
        "(Image adapted from Yoav Goldberg book \"Neural Network Methods for NLP\")"
      ]
    },
    {
      "cell_type": "markdown",
      "metadata": {
        "colab_type": "text",
        "id": "BKsye3G1vcos"
      },
      "source": [
        "### K-Fold\n",
        "We use the scikit-learn library to implementation of K-fold data. That will split a given data. It takes as arguments the number of splits(fold) and to shuffle the sample or not.\n",
        "\n",
        "The split() will return each group of the train and test sets. The returned array contains the indexes of the original data sample of observations to use for train and test sets on each iteration.\n",
        "![alt text](https://camo.githubusercontent.com/a802017ecb2ebd2aeeaa601a81ca921a1979fdd4/68747470733a2f2f69302e77702e636f6d2f616e64726f69646b742e636f6d2f77702d636f6e74656e742f75706c6f6164732f323031392f30382f6b2d666f6c642d76616c69646174696f6e2e706e673f726573697a653d3736382532433230312673736c3d31)\n",
        "\n",
        "Define sets like fold 1,2 3 and you conduct 3 experiments. In each of the experiments, the fold i is used for assessment and the other folds are merged together for training. For experiment 1, I hold out fold 1 for testing and train on 2 and 3, and I get a number.\n",
        "\n",
        "ref:https://androidkt.com/k-fold-cross-validation-with-tensorflow-keras/"
      ]
    },
    {
      "cell_type": "markdown",
      "metadata": {
        "id": "-JkJc55CCkzq",
        "colab_type": "text"
      },
      "source": [
        "#### ====================================\n",
        "## Text CNN Model\n",
        "#### ===================================="
      ]
    },
    {
      "cell_type": "markdown",
      "metadata": {
        "id": "zHm7TGbRCkzr",
        "colab_type": "text"
      },
      "source": [
        "###  Define Model"
      ]
    },
    {
      "cell_type": "code",
      "metadata": {
        "id": "MwFLocVDCkzr",
        "colab_type": "code",
        "colab": {}
      },
      "source": [
        "def fit_model_text_CNN(optimizer='adam'):\n",
        "    model_text_CNN = Sequential()\n",
        "\n",
        "\n",
        "    model_text_CNN.add(Embedding(max_features,\n",
        "                      embedding_dims,\n",
        "                      input_length=maxlen))\n",
        "    model_text_CNN.add(Dropout(0.2))\n",
        "\n",
        "    model_text_CNN.add(Conv1D(filters,\n",
        "                      kernel_size,\n",
        "                      padding='SAME',\n",
        "                      activation='relu',\n",
        "                      strides=1))\n",
        "    model_text_CNN.add(GlobalMaxPooling1D())\n",
        "    \n",
        "    model_text_CNN.add(Dense(hidden_dims))\n",
        "    model_text_CNN.add(Dropout(0.2))\n",
        "    model_text_CNN.add(Activation('relu'))\n",
        "    \n",
        "    model_text_CNN.add(Dense(1))\n",
        "    model_text_CNN.add(Activation('sigmoid'))\n",
        "    \n",
        "    model_text_CNN.compile(loss='binary_crossentropy',\n",
        "                    optimizer='adam',\n",
        "                    metrics=['accuracy'])\n",
        "    # Plot Model\n",
        "    plot_model(model_text_CNN, to_file = 'D:/TrainingModels/Model_text_CNN/model_text_CNN.png',show_shapes=True)\n",
        "    \n",
        "    return model_text_CNN"
      ],
      "execution_count": 0,
      "outputs": []
    },
    {
      "cell_type": "markdown",
      "metadata": {
        "id": "sNwPkSd8Ckzt",
        "colab_type": "text"
      },
      "source": [
        "## Text CNN Graph Model :\n",
        "![alt text](https://doc-14-88-docs.googleusercontent.com/docs/securesc/v903qu5s530pc8ikhnbi48s9q8im2q6p/rabre36tndmabkldpaac5dq6r60gj4bj/1578045600000/06997921430171725257/06997921430171725257/1rb0imiYiIhx5-M9WGR6o81y6OCbDdzUi?authuser=0)"
      ]
    },
    {
      "cell_type": "markdown",
      "metadata": {
        "id": "eeB4zpn2Ckzu",
        "colab_type": "text"
      },
      "source": [
        "### Fit Model"
      ]
    },
    {
      "cell_type": "code",
      "metadata": {
        "colab_type": "code",
        "id": "KjYlR8aysQPJ",
        "outputId": "bd1045cf-3f56-4de4-cad0-4cfd6f5491c3",
        "colab": {
          "base_uri": "https://localhost:8080/",
          "height": 1000
        }
      },
      "source": [
        "n_split=3\n",
        "pred_ls_model_1 = np.array([])\n",
        "Y_target = np.array([])\n",
        "i = 0\n",
        "\n",
        "# Callbacks Model\n",
        "model_checkpoint = callbacks.ModelCheckpoint('D:/TrainingModels/Model_text_CNN/model_checkpoint.{epoch}.h5')\n",
        "model_logger = callbacks.CSVLogger('D:/TrainingModels/Model_text_CNN/training_log.log')\n",
        "tensorboard = callbacks.TensorBoard(log_dir = 'D:/TrainingModels/Model_text_CNN/tensorboard')\n",
        "call_backs = [model_checkpoint,model_logger,tensorboard]\n",
        "\n",
        "model=fit_model_text_CNN()\n",
        "\n",
        "start = datetime.datetime.now()\n",
        "\n",
        "for train_index,test_index in KFold(n_split).split(X_train):\n",
        "\n",
        "    x_train, x_test, Y_train, Y_test = X_train[train_index], X_test[test_index], y_train[train_index], y_test[test_index]\n",
        "    Y_target = np.append(Y_target,Y_test)\n",
        "    model.fit(x_train, Y_train,epochs=20,batch_size=128,\n",
        "             callbacks=call_backs,\n",
        "             validation_data=(x_test, Y_test))\n",
        "    \n",
        "    pred_ls_model_1 = np.append(pred_ls_model_1,model.predict(x_test))\n",
        "    i = i + 1\n",
        "\n",
        "# predict probabilities for test set\n",
        "p1_probs = model.predict(X_test, verbose=0)\n",
        "# predict crisp classes for test set\n",
        "p1_classes = model.predict_classes(X_test, verbose=0)\n",
        "\n",
        "# reduce to 1d array\n",
        "p1_probs = p1_probs[:, 0]\n",
        "p1_classes = p1_classes[:, 0]\n",
        "\n",
        "# accuracy: (tp + tn) / (p + n)\n",
        "accuracy = accuracy_score(y_test, p1_classes)\n",
        "print('Accuracy of model : %f' % accuracy)\n",
        "\n",
        "\n",
        "end = datetime.datetime.now()\n",
        "\n",
        "elapsed = end-start\n",
        "# Save Model\n",
        "model.save('D:/TrainingModels/Model_text_CNN/Model_text_CNN.h5')\n",
        "model.save_weights('D:/TrainingModels/Model_text_CNN/Model_text_CNN_Weights.h5')\n",
        "\n",
        "print(25*\"=\")\n",
        "print(\"Total training time: \", str(elapsed))"
      ],
      "execution_count": 0,
      "outputs": [
        {
          "output_type": "stream",
          "text": [
            "WARNING:tensorflow:From C:\\Python\\Anaconda3\\lib\\site-packages\\keras\\backend\\tensorflow_backend.py:74: The name tf.get_default_graph is deprecated. Please use tf.compat.v1.get_default_graph instead.\n",
            "\n",
            "WARNING:tensorflow:From C:\\Python\\Anaconda3\\lib\\site-packages\\keras\\backend\\tensorflow_backend.py:517: The name tf.placeholder is deprecated. Please use tf.compat.v1.placeholder instead.\n",
            "\n",
            "WARNING:tensorflow:From C:\\Python\\Anaconda3\\lib\\site-packages\\keras\\backend\\tensorflow_backend.py:4138: The name tf.random_uniform is deprecated. Please use tf.random.uniform instead.\n",
            "\n",
            "WARNING:tensorflow:From C:\\Python\\Anaconda3\\lib\\site-packages\\keras\\backend\\tensorflow_backend.py:133: The name tf.placeholder_with_default is deprecated. Please use tf.compat.v1.placeholder_with_default instead.\n",
            "\n",
            "WARNING:tensorflow:From C:\\Python\\Anaconda3\\lib\\site-packages\\keras\\backend\\tensorflow_backend.py:3445: calling dropout (from tensorflow.python.ops.nn_ops) with keep_prob is deprecated and will be removed in a future version.\n",
            "Instructions for updating:\n",
            "Please use `rate` instead of `keep_prob`. Rate should be set to `rate = 1 - keep_prob`.\n",
            "WARNING:tensorflow:From C:\\Python\\Anaconda3\\lib\\site-packages\\keras\\optimizers.py:790: The name tf.train.Optimizer is deprecated. Please use tf.compat.v1.train.Optimizer instead.\n",
            "\n",
            "WARNING:tensorflow:From C:\\Python\\Anaconda3\\lib\\site-packages\\keras\\backend\\tensorflow_backend.py:3376: The name tf.log is deprecated. Please use tf.math.log instead.\n",
            "\n",
            "WARNING:tensorflow:From C:\\Python\\Anaconda3\\lib\\site-packages\\tensorflow\\python\\ops\\nn_impl.py:180: add_dispatch_support.<locals>.wrapper (from tensorflow.python.ops.array_ops) is deprecated and will be removed in a future version.\n",
            "Instructions for updating:\n",
            "Use tf.where in 2.0, which has the same broadcast rule as np.where\n",
            "Train on 16666 samples, validate on 8334 samples\n",
            "WARNING:tensorflow:From C:\\Python\\Anaconda3\\lib\\site-packages\\keras\\callbacks.py:850: The name tf.summary.merge_all is deprecated. Please use tf.compat.v1.summary.merge_all instead.\n",
            "\n",
            "WARNING:tensorflow:From C:\\Python\\Anaconda3\\lib\\site-packages\\keras\\callbacks.py:853: The name tf.summary.FileWriter is deprecated. Please use tf.compat.v1.summary.FileWriter instead.\n",
            "\n",
            "Epoch 1/20\n",
            "16666/16666 [==============================] - 10s 621us/step - loss: 0.5785 - acc: 0.6655 - val_loss: 0.3634 - val_acc: 0.8411\n",
            "Epoch 2/20\n",
            "16666/16666 [==============================] - 9s 523us/step - loss: 0.3035 - acc: 0.8742 - val_loss: 0.2887 - val_acc: 0.8792\n",
            "Epoch 3/20\n",
            "16666/16666 [==============================] - 9s 524us/step - loss: 0.2041 - acc: 0.9203 - val_loss: 0.2939 - val_acc: 0.8790\n",
            "Epoch 4/20\n",
            "16666/16666 [==============================] - 9s 524us/step - loss: 0.1481 - acc: 0.9444 - val_loss: 0.3309 - val_acc: 0.8686\n",
            "Epoch 5/20\n",
            "16666/16666 [==============================] - 9s 524us/step - loss: 0.1002 - acc: 0.9650 - val_loss: 0.3244 - val_acc: 0.8802\n",
            "Epoch 6/20\n",
            "16666/16666 [==============================] - 9s 525us/step - loss: 0.0626 - acc: 0.9806 - val_loss: 0.3666 - val_acc: 0.8786\n",
            "Epoch 7/20\n",
            "16666/16666 [==============================] - 9s 524us/step - loss: 0.0396 - acc: 0.9890 - val_loss: 0.4350 - val_acc: 0.8726\n",
            "Epoch 8/20\n",
            "16666/16666 [==============================] - 9s 524us/step - loss: 0.0255 - acc: 0.9931 - val_loss: 0.4523 - val_acc: 0.8727\n",
            "Epoch 9/20\n",
            "16666/16666 [==============================] - 9s 525us/step - loss: 0.0197 - acc: 0.9947 - val_loss: 0.4883 - val_acc: 0.8750\n",
            "Epoch 10/20\n",
            "16666/16666 [==============================] - 9s 524us/step - loss: 0.0179 - acc: 0.9948 - val_loss: 0.5154 - val_acc: 0.8766\n",
            "Epoch 11/20\n",
            "16666/16666 [==============================] - 9s 524us/step - loss: 0.0122 - acc: 0.9964 - val_loss: 0.5398 - val_acc: 0.8734\n",
            "Epoch 12/20\n",
            "16666/16666 [==============================] - 9s 525us/step - loss: 0.0088 - acc: 0.9980 - val_loss: 0.5662 - val_acc: 0.8723\n",
            "Epoch 13/20\n",
            "16666/16666 [==============================] - 9s 524us/step - loss: 0.0103 - acc: 0.9969 - val_loss: 0.6560 - val_acc: 0.8710\n",
            "Epoch 14/20\n",
            "16666/16666 [==============================] - 9s 532us/step - loss: 0.0097 - acc: 0.9968 - val_loss: 0.6854 - val_acc: 0.8702\n",
            "Epoch 15/20\n",
            "16666/16666 [==============================] - 10s 572us/step - loss: 0.0230 - acc: 0.9914 - val_loss: 0.7150 - val_acc: 0.8668\n",
            "Epoch 16/20\n",
            "16666/16666 [==============================] - 10s 572us/step - loss: 0.0158 - acc: 0.9936 - val_loss: 0.6242 - val_acc: 0.8687\n",
            "Epoch 17/20\n",
            "16666/16666 [==============================] - 10s 572us/step - loss: 0.0148 - acc: 0.9947 - val_loss: 0.6611 - val_acc: 0.8690\n",
            "Epoch 18/20\n",
            "16666/16666 [==============================] - 10s 573us/step - loss: 0.0147 - acc: 0.9947 - val_loss: 0.6651 - val_acc: 0.8709\n",
            "Epoch 19/20\n",
            "16666/16666 [==============================] - 10s 572us/step - loss: 0.0098 - acc: 0.9965 - val_loss: 0.7353 - val_acc: 0.8717\n",
            "Epoch 20/20\n",
            "16666/16666 [==============================] - 10s 572us/step - loss: 0.0181 - acc: 0.9932 - val_loss: 0.7243 - val_acc: 0.8687\n",
            "Train on 16667 samples, validate on 8333 samples\n",
            "Epoch 1/20\n",
            "16667/16667 [==============================] - 9s 562us/step - loss: 0.1983 - acc: 0.9335 - val_loss: 0.3085 - val_acc: 0.8733\n",
            "Epoch 2/20\n",
            "16667/16667 [==============================] - 10s 573us/step - loss: 0.1080 - acc: 0.9630 - val_loss: 0.3599 - val_acc: 0.8693\n",
            "Epoch 3/20\n",
            "16667/16667 [==============================] - 10s 573us/step - loss: 0.0636 - acc: 0.9799 - val_loss: 0.3502 - val_acc: 0.8793\n",
            "Epoch 4/20\n",
            "16667/16667 [==============================] - 10s 580us/step - loss: 0.0409 - acc: 0.9879 - val_loss: 0.4053 - val_acc: 0.8802\n",
            "Epoch 5/20\n",
            "16667/16667 [==============================] - 10s 581us/step - loss: 0.0242 - acc: 0.9939 - val_loss: 0.4161 - val_acc: 0.8810\n",
            "Epoch 6/20\n",
            "16667/16667 [==============================] - 10s 582us/step - loss: 0.0193 - acc: 0.9948 - val_loss: 0.4689 - val_acc: 0.8790\n",
            "Epoch 7/20\n",
            "16667/16667 [==============================] - 10s 595us/step - loss: 0.0127 - acc: 0.9962 - val_loss: 0.5079 - val_acc: 0.8772\n",
            "Epoch 8/20\n",
            "16667/16667 [==============================] - 10s 595us/step - loss: 0.0108 - acc: 0.9966 - val_loss: 0.5169 - val_acc: 0.8774\n",
            "Epoch 9/20\n",
            "16667/16667 [==============================] - 10s 595us/step - loss: 0.0088 - acc: 0.9975 - val_loss: 0.5297 - val_acc: 0.8770\n",
            "Epoch 10/20\n",
            "16667/16667 [==============================] - 10s 596us/step - loss: 0.0070 - acc: 0.9980 - val_loss: 0.5754 - val_acc: 0.8789\n",
            "Epoch 11/20\n",
            "16667/16667 [==============================] - 10s 595us/step - loss: 0.0056 - acc: 0.9985 - val_loss: 0.5711 - val_acc: 0.8758\n",
            "Epoch 12/20\n",
            "16667/16667 [==============================] - 10s 595us/step - loss: 0.0060 - acc: 0.9986 - val_loss: 0.5915 - val_acc: 0.8752\n",
            "Epoch 13/20\n",
            "16667/16667 [==============================] - 10s 595us/step - loss: 0.0052 - acc: 0.9983 - val_loss: 0.6099 - val_acc: 0.8763\n",
            "Epoch 14/20\n",
            "16667/16667 [==============================] - 10s 595us/step - loss: 0.0084 - acc: 0.9969 - val_loss: 0.6377 - val_acc: 0.8740\n",
            "Epoch 15/20\n",
            "16667/16667 [==============================] - 10s 595us/step - loss: 0.0115 - acc: 0.9962 - val_loss: 0.6343 - val_acc: 0.8781\n",
            "Epoch 16/20\n",
            "16667/16667 [==============================] - 10s 595us/step - loss: 0.0089 - acc: 0.9969 - val_loss: 0.6288 - val_acc: 0.8770\n",
            "Epoch 17/20\n",
            "16667/16667 [==============================] - 10s 620us/step - loss: 0.0089 - acc: 0.9966 - val_loss: 0.6456 - val_acc: 0.8780\n",
            "Epoch 18/20\n",
            "16667/16667 [==============================] - 10s 619us/step - loss: 0.0060 - acc: 0.9978 - val_loss: 0.6635 - val_acc: 0.8783\n",
            "Epoch 19/20\n",
            "16667/16667 [==============================] - 10s 619us/step - loss: 0.0102 - acc: 0.9965 - val_loss: 0.6725 - val_acc: 0.8757\n",
            "Epoch 20/20\n",
            "16667/16667 [==============================] - 10s 620us/step - loss: 0.0103 - acc: 0.9966 - val_loss: 0.6352 - val_acc: 0.8771\n",
            "Train on 16667 samples, validate on 8333 samples\n",
            "Epoch 1/20\n",
            "16667/16667 [==============================] - 10s 604us/step - loss: 0.0623 - acc: 0.9779 - val_loss: 0.4245 - val_acc: 0.8855\n",
            "Epoch 2/20\n",
            "16667/16667 [==============================] - 10s 604us/step - loss: 0.0244 - acc: 0.9921 - val_loss: 0.5226 - val_acc: 0.8840\n",
            "Epoch 3/20\n",
            "16667/16667 [==============================] - 10s 606us/step - loss: 0.0162 - acc: 0.9935 - val_loss: 0.5582 - val_acc: 0.8818\n",
            "Epoch 4/20\n",
            "16667/16667 [==============================] - 10s 603us/step - loss: 0.0137 - acc: 0.9949 - val_loss: 0.6196 - val_acc: 0.8844\n",
            "Epoch 5/20\n",
            "16667/16667 [==============================] - 10s 603us/step - loss: 0.0140 - acc: 0.9950 - val_loss: 0.5795 - val_acc: 0.8859\n",
            "Epoch 6/20\n",
            "16667/16667 [==============================] - 10s 603us/step - loss: 0.0147 - acc: 0.9947 - val_loss: 0.5543 - val_acc: 0.8882\n",
            "Epoch 7/20\n",
            "16667/16667 [==============================] - 10s 604us/step - loss: 0.0085 - acc: 0.9971 - val_loss: 0.6218 - val_acc: 0.8849\n",
            "Epoch 8/20\n",
            "16667/16667 [==============================] - 10s 619us/step - loss: 0.0075 - acc: 0.9972 - val_loss: 0.6665 - val_acc: 0.8840\n",
            "Epoch 9/20\n",
            "16667/16667 [==============================] - 10s 619us/step - loss: 0.0114 - acc: 0.9958 - val_loss: 0.5864 - val_acc: 0.8843\n",
            "Epoch 10/20\n",
            "16667/16667 [==============================] - 10s 619us/step - loss: 0.0113 - acc: 0.9964 - val_loss: 0.6288 - val_acc: 0.8832\n",
            "Epoch 11/20\n",
            "16667/16667 [==============================] - 10s 620us/step - loss: 0.0044 - acc: 0.9985 - val_loss: 0.6735 - val_acc: 0.8836\n",
            "Epoch 12/20\n",
            "16667/16667 [==============================] - 10s 619us/step - loss: 0.0076 - acc: 0.9971 - val_loss: 0.6727 - val_acc: 0.8807\n",
            "Epoch 13/20\n",
            "16667/16667 [==============================] - 10s 619us/step - loss: 0.0062 - acc: 0.9977 - val_loss: 0.6955 - val_acc: 0.8861\n",
            "Epoch 14/20\n",
            "16667/16667 [==============================] - 10s 620us/step - loss: 0.0058 - acc: 0.9978 - val_loss: 0.6840 - val_acc: 0.8816\n",
            "Epoch 15/20\n",
            "16667/16667 [==============================] - 10s 619us/step - loss: 0.0064 - acc: 0.9979 - val_loss: 0.7156 - val_acc: 0.8865\n",
            "Epoch 16/20\n",
            "16667/16667 [==============================] - 10s 619us/step - loss: 0.0083 - acc: 0.9972 - val_loss: 0.6814 - val_acc: 0.8834\n",
            "Epoch 17/20\n",
            "16667/16667 [==============================] - 10s 619us/step - loss: 0.0066 - acc: 0.9979 - val_loss: 0.7058 - val_acc: 0.8828\n",
            "Epoch 18/20\n",
            "16667/16667 [==============================] - 10s 619us/step - loss: 0.0050 - acc: 0.9983 - val_loss: 0.7372 - val_acc: 0.8805\n",
            "Epoch 19/20\n",
            "16667/16667 [==============================] - 10s 619us/step - loss: 0.0060 - acc: 0.9975 - val_loss: 0.7013 - val_acc: 0.8841\n",
            "Epoch 20/20\n",
            "16667/16667 [==============================] - 10s 619us/step - loss: 0.0064 - acc: 0.9979 - val_loss: 0.6724 - val_acc: 0.8853\n",
            "Accuracy of model : 0.880920\n",
            "=========================\n",
            "Total training time:  0:10:02.060746\n"
          ],
          "name": "stdout"
        }
      ]
    },
    {
      "cell_type": "markdown",
      "metadata": {
        "id": "x6PVhq6uCkzw",
        "colab_type": "text"
      },
      "source": [
        "## Loss and Accuracy for each epoch:\n",
        "\n",
        "![alt text](https://doc-0s-88-docs.googleusercontent.com/docs/securesc/v903qu5s530pc8ikhnbi48s9q8im2q6p/su30pa4t8b6sfrku5qmv5k0jeips5pbd/1578045600000/06997921430171725257/06997921430171725257/10EMUupNYFLaCXojBK-C6A2uq6zjqheBq?authuser=0)"
      ]
    },
    {
      "cell_type": "markdown",
      "metadata": {
        "id": "4oRvEvBlCkzx",
        "colab_type": "text"
      },
      "source": [
        "## Report metric model:"
      ]
    },
    {
      "cell_type": "code",
      "metadata": {
        "id": "3dAWB7ayCkzx",
        "colab_type": "code",
        "colab": {},
        "outputId": "6e318615-dd5a-412a-886b-649a9f63ed9a"
      },
      "source": [
        "plot_classification_report(y_test, p1_classes)"
      ],
      "execution_count": 0,
      "outputs": [
        {
          "output_type": "display_data",
          "data": {
            "image/png": "[encoded data removed]",
            "text/plain": [
              "<Figure size 1296x720 with 2 Axes>"
            ]
          },
          "metadata": {
            "tags": [],
            "needs_background": "light"
          }
        }
      ]
    },
    {
      "cell_type": "markdown",
      "metadata": {
        "id": "KzAnhd-TCkzz",
        "colab_type": "text"
      },
      "source": [
        "#### ====================================\n",
        "## LSTM Model\n",
        "#### ===================================="
      ]
    },
    {
      "cell_type": "markdown",
      "metadata": {
        "id": "HV4DTQM5Ckz0",
        "colab_type": "text"
      },
      "source": [
        "### Define Model"
      ]
    },
    {
      "cell_type": "code",
      "metadata": {
        "colab_type": "code",
        "id": "xvPKGSc4Elxd",
        "colab": {}
      },
      "source": [
        "def fit_model_L(optimizer='Adam'):\n",
        "\n",
        "    model_L = Sequential()\n",
        "    model_L.add(Embedding(top_words, embedding_vecor_length, input_length=max_review_length))\n",
        "    model_L.add(SpatialDropout1D(0.3))\n",
        "    model_L.add(LSTM(128, dropout = 0.3))\n",
        "    model_L.add(Dropout(0.3))\n",
        "    model_L.add(Dense(1, activation = 'sigmoid'))\n",
        "    model_L.compile(\n",
        "        loss='binary_crossentropy',\n",
        "        optimizer=optimizer,\n",
        "        metrics=['accuracy']\n",
        "    )\n",
        "    \n",
        "    # Plot Model\n",
        "    plot_model(model_L, to_file = 'D:/TrainingModels/Model_LSTM/Model_LSTM.png',show_shapes=True)\n",
        "    return model_L\n"
      ],
      "execution_count": 0,
      "outputs": []
    },
    {
      "cell_type": "markdown",
      "metadata": {
        "id": "Hxok7ybyCkz2",
        "colab_type": "text"
      },
      "source": [
        "## LSTM Graph Model:\n",
        "\n",
        "![alt text](https://doc-10-88-docs.googleusercontent.com/docs/securesc/v903qu5s530pc8ikhnbi48s9q8im2q6p/4qsci2ed50n3dnbov1epr3rcvnvbhnqm/1578045600000/06997921430171725257/06997921430171725257/1efMZNYSkb_703Zi82KDp6G4V57ogWQ6n?authuser=0)"
      ]
    },
    {
      "cell_type": "markdown",
      "metadata": {
        "id": "J5PXBrl8Ckz3",
        "colab_type": "text"
      },
      "source": [
        "### Fit Model"
      ]
    },
    {
      "cell_type": "code",
      "metadata": {
        "id": "D6j-IMSqCkz4",
        "colab_type": "code",
        "colab": {},
        "outputId": "1b6ff2cc-78ba-40bc-b435-f5a65377bde2"
      },
      "source": [
        "n_split=3\n",
        "pred_ls_model_2 = np.array([])\n",
        "i = 0\n",
        "\n",
        "\n",
        "# Callbacks Model\n",
        "model_checkpoint = callbacks.ModelCheckpoint('D:/TrainingModels/Model_LSTM/model_checkpoint.{epoch}.h5')\n",
        "model_logger = callbacks.CSVLogger('D:/TrainingModels/Model_LSTM/training_log.log')\n",
        "tensorboard = callbacks.TensorBoard(log_dir = 'D:/TrainingModels/Model_LSTM/tensorboard')\n",
        "call_backs = [model_checkpoint,model_logger,tensorboard]\n",
        "\n",
        "model=fit_model_L()\n",
        "\n",
        "start = datetime.datetime.now()\n",
        "for train_index,test_index in KFold(n_split).split(X_train):\n",
        "\n",
        "\n",
        "    x_train, x_test, Y_train, Y_test = X_train[train_index], X_test[test_index], y_train[train_index], y_test[test_index]\n",
        "    \n",
        "    model.fit(x_train, Y_train,epochs=20,batch_size=256,\n",
        "              callbacks=call_backs,\n",
        "             validation_data=(x_test, Y_test))\n",
        "    \n",
        "    pred_ls_model_2 = np.append(pred_ls_model_2,model.predict(x_test))\n",
        "    i = i + 1\n",
        "\n",
        "# predict probabilities for test set\n",
        "p2_probs = model.predict(X_test, verbose=0)\n",
        "# predict crisp classes for test set\n",
        "p2_classes = model.predict_classes(X_test, verbose=0)\n",
        "\n",
        "# reduce to 1d array\n",
        "p2_probs = p2_probs[:, 0]\n",
        "p2_classes = p2_classes[:, 0]\n",
        "\n",
        "# accuracy: (tp + tn) / (p + n)\n",
        "accuracy = accuracy_score(y_test, p2_classes)\n",
        "print('Accuracy of model : %f' % accuracy)\n",
        "\n",
        "\n",
        "end = datetime.datetime.now()\n",
        "\n",
        "elapsed = end-start\n",
        "\n",
        "# Save Model\n",
        "model.save('D:/TrainingModels/Model_LSTM/Model_LSTM.h5')\n",
        "model.save_weights('D:/TrainingModels/Model_LSTM/Model_LSTM_Weights.h5')\n",
        "\n",
        "print(25*\"=\")\n",
        "print(\"Total training time: \", str(elapsed))\n"
      ],
      "execution_count": 0,
      "outputs": [
        {
          "output_type": "stream",
          "text": [
            "Train on 16666 samples, validate on 8334 samples\n",
            "Epoch 1/20\n",
            "16666/16666 [==============================] - 78s 5ms/step - loss: 0.6754 - acc: 0.5698 - val_loss: 0.6527 - val_acc: 0.6313\n",
            "Epoch 2/20\n",
            "16666/16666 [==============================] - 77s 5ms/step - loss: 0.4891 - acc: 0.7724 - val_loss: 0.3711 - val_acc: 0.8419\n",
            "Epoch 3/20\n",
            "16666/16666 [==============================] - 77s 5ms/step - loss: 0.3274 - acc: 0.8637 - val_loss: 0.3013 - val_acc: 0.8762\n",
            "Epoch 4/20\n",
            "16666/16666 [==============================] - 77s 5ms/step - loss: 0.2549 - acc: 0.9000 - val_loss: 0.3034 - val_acc: 0.8789\n",
            "Epoch 5/20\n",
            "16666/16666 [==============================] - 77s 5ms/step - loss: 0.2341 - acc: 0.9078 - val_loss: 0.2995 - val_acc: 0.8753\n",
            "Epoch 6/20\n",
            "16666/16666 [==============================] - 77s 5ms/step - loss: 0.2183 - acc: 0.9159 - val_loss: 0.3333 - val_acc: 0.8608\n",
            "Epoch 7/20\n",
            "16666/16666 [==============================] - 77s 5ms/step - loss: 0.1987 - acc: 0.9237 - val_loss: 0.3381 - val_acc: 0.8768\n",
            "Epoch 8/20\n",
            "16666/16666 [==============================] - 77s 5ms/step - loss: 0.1771 - acc: 0.9336 - val_loss: 0.3251 - val_acc: 0.8690\n",
            "Epoch 9/20\n",
            "16666/16666 [==============================] - 77s 5ms/step - loss: 0.1669 - acc: 0.9362 - val_loss: 0.3544 - val_acc: 0.8647\n",
            "Epoch 10/20\n",
            "16666/16666 [==============================] - 77s 5ms/step - loss: 0.1625 - acc: 0.9408 - val_loss: 0.3615 - val_acc: 0.8697\n",
            "Epoch 11/20\n",
            "16666/16666 [==============================] - 77s 5ms/step - loss: 0.1366 - acc: 0.9504 - val_loss: 0.4176 - val_acc: 0.8625\n",
            "Epoch 12/20\n",
            "16666/16666 [==============================] - 77s 5ms/step - loss: 0.1358 - acc: 0.9492 - val_loss: 0.4616 - val_acc: 0.8614\n",
            "Epoch 13/20\n",
            "16666/16666 [==============================] - 77s 5ms/step - loss: 0.1268 - acc: 0.9547 - val_loss: 0.4746 - val_acc: 0.8607\n",
            "Epoch 14/20\n",
            "16666/16666 [==============================] - 77s 5ms/step - loss: 0.1439 - acc: 0.9473 - val_loss: 0.4079 - val_acc: 0.8607\n",
            "Epoch 15/20\n",
            "16666/16666 [==============================] - 77s 5ms/step - loss: 0.1139 - acc: 0.9587 - val_loss: 0.3938 - val_acc: 0.8499\n",
            "Epoch 16/20\n",
            "16666/16666 [==============================] - 76s 5ms/step - loss: 0.1116 - acc: 0.9606 - val_loss: 0.4314 - val_acc: 0.8581\n",
            "Epoch 17/20\n",
            "16666/16666 [==============================] - 77s 5ms/step - loss: 0.1058 - acc: 0.9618 - val_loss: 0.5348 - val_acc: 0.8524\n",
            "Epoch 18/20\n",
            "16666/16666 [==============================] - 77s 5ms/step - loss: 0.0916 - acc: 0.9668 - val_loss: 0.4922 - val_acc: 0.8493\n",
            "Epoch 19/20\n",
            "16666/16666 [==============================] - 77s 5ms/step - loss: 0.1089 - acc: 0.9626 - val_loss: 0.5005 - val_acc: 0.8471\n",
            "Epoch 20/20\n",
            "16666/16666 [==============================] - 77s 5ms/step - loss: 0.0901 - acc: 0.9685 - val_loss: 0.5167 - val_acc: 0.8563\n",
            "Train on 16667 samples, validate on 8333 samples\n",
            "Epoch 1/20\n",
            "16667/16667 [==============================] - 76s 5ms/step - loss: 0.2567 - acc: 0.9097 - val_loss: 0.3544 - val_acc: 0.8627\n",
            "Epoch 2/20\n",
            "16667/16667 [==============================] - 77s 5ms/step - loss: 0.2056 - acc: 0.9269 - val_loss: 0.3654 - val_acc: 0.8657\n",
            "Epoch 3/20\n",
            "16667/16667 [==============================] - 77s 5ms/step - loss: 0.1862 - acc: 0.9346 - val_loss: 0.3457 - val_acc: 0.8614\n",
            "Epoch 4/20\n",
            "16667/16667 [==============================] - 76s 5ms/step - loss: 0.1659 - acc: 0.9411 - val_loss: 0.3850 - val_acc: 0.8691\n",
            "Epoch 5/20\n",
            "16667/16667 [==============================] - 77s 5ms/step - loss: 0.1601 - acc: 0.9435 - val_loss: 0.4277 - val_acc: 0.8663\n",
            "Epoch 6/20\n",
            "16667/16667 [==============================] - 77s 5ms/step - loss: 0.1402 - acc: 0.9512 - val_loss: 0.3988 - val_acc: 0.8632\n",
            "Epoch 7/20\n",
            "16667/16667 [==============================] - 77s 5ms/step - loss: 0.1312 - acc: 0.9539 - val_loss: 0.4104 - val_acc: 0.8696\n",
            "Epoch 8/20\n",
            "16667/16667 [==============================] - 77s 5ms/step - loss: 0.1301 - acc: 0.9548 - val_loss: 0.4055 - val_acc: 0.8663\n",
            "Epoch 9/20\n",
            "16667/16667 [==============================] - 77s 5ms/step - loss: 0.1089 - acc: 0.9627 - val_loss: 0.4115 - val_acc: 0.8655\n",
            "Epoch 10/20\n",
            "16667/16667 [==============================] - 77s 5ms/step - loss: 0.1023 - acc: 0.9656 - val_loss: 0.4349 - val_acc: 0.8619\n",
            "Epoch 11/20\n",
            "16667/16667 [==============================] - 78s 5ms/step - loss: 0.0994 - acc: 0.9651 - val_loss: 0.4905 - val_acc: 0.8638\n",
            "Epoch 12/20\n",
            "16667/16667 [==============================] - 76s 5ms/step - loss: 0.1013 - acc: 0.9663 - val_loss: 0.5157 - val_acc: 0.8625\n",
            "Epoch 13/20\n",
            "16667/16667 [==============================] - 76s 5ms/step - loss: 0.1106 - acc: 0.9629 - val_loss: 0.5392 - val_acc: 0.8584\n",
            "Epoch 14/20\n",
            "16667/16667 [==============================] - 77s 5ms/step - loss: 0.0830 - acc: 0.9718 - val_loss: 0.4883 - val_acc: 0.8625\n",
            "Epoch 15/20\n",
            "16667/16667 [==============================] - 77s 5ms/step - loss: 0.0989 - acc: 0.9647 - val_loss: 0.4742 - val_acc: 0.8596\n",
            "Epoch 16/20\n",
            "16667/16667 [==============================] - 77s 5ms/step - loss: 0.0813 - acc: 0.9724 - val_loss: 0.5002 - val_acc: 0.8609\n",
            "Epoch 17/20\n",
            "16667/16667 [==============================] - 77s 5ms/step - loss: 0.0698 - acc: 0.9774 - val_loss: 0.5792 - val_acc: 0.8604\n",
            "Epoch 18/20\n",
            "16667/16667 [==============================] - 77s 5ms/step - loss: 0.0698 - acc: 0.9768 - val_loss: 0.5457 - val_acc: 0.8583\n",
            "Epoch 19/20\n",
            "16667/16667 [==============================] - 77s 5ms/step - loss: 0.0659 - acc: 0.9782 - val_loss: 0.6095 - val_acc: 0.8577\n",
            "Epoch 20/20\n",
            "16667/16667 [==============================] - 77s 5ms/step - loss: 0.0865 - acc: 0.9701 - val_loss: 0.5616 - val_acc: 0.8561\n",
            "Train on 16667 samples, validate on 8333 samples\n",
            "Epoch 1/20\n",
            "16667/16667 [==============================] - 76s 5ms/step - loss: 0.1655 - acc: 0.9442 - val_loss: 0.4321 - val_acc: 0.8704\n",
            "Epoch 2/20\n",
            "16667/16667 [==============================] - 77s 5ms/step - loss: 0.1318 - acc: 0.9522 - val_loss: 0.4083 - val_acc: 0.8730\n",
            "Epoch 3/20\n",
            "16667/16667 [==============================] - 78s 5ms/step - loss: 0.1137 - acc: 0.9588 - val_loss: 0.4353 - val_acc: 0.8675\n",
            "Epoch 4/20\n",
            "16667/16667 [==============================] - 77s 5ms/step - loss: 0.1063 - acc: 0.9629 - val_loss: 0.4738 - val_acc: 0.8642\n",
            "Epoch 5/20\n",
            "16667/16667 [==============================] - 79s 5ms/step - loss: 0.0911 - acc: 0.9689 - val_loss: 0.4598 - val_acc: 0.8672\n",
            "Epoch 6/20\n",
            "16667/16667 [==============================] - 77s 5ms/step - loss: 0.0879 - acc: 0.9687 - val_loss: 0.4484 - val_acc: 0.8688\n",
            "Epoch 7/20\n",
            "16667/16667 [==============================] - 79s 5ms/step - loss: 0.0979 - acc: 0.9654 - val_loss: 0.5537 - val_acc: 0.8654\n",
            "Epoch 8/20\n",
            "16667/16667 [==============================] - 79s 5ms/step - loss: 0.1870 - acc: 0.9268 - val_loss: 0.5175 - val_acc: 0.8540\n",
            "Epoch 9/20\n",
            "16667/16667 [==============================] - 77s 5ms/step - loss: 0.0971 - acc: 0.9663 - val_loss: 0.5040 - val_acc: 0.8645\n",
            "Epoch 10/20\n",
            "16667/16667 [==============================] - 77s 5ms/step - loss: 0.0739 - acc: 0.9746 - val_loss: 0.5198 - val_acc: 0.8643\n",
            "Epoch 11/20\n",
            "16667/16667 [==============================] - 77s 5ms/step - loss: 0.0865 - acc: 0.9708 - val_loss: 0.5164 - val_acc: 0.8639\n",
            "Epoch 12/20\n",
            "16667/16667 [==============================] - 78s 5ms/step - loss: 0.0862 - acc: 0.9704 - val_loss: 0.5471 - val_acc: 0.8630\n",
            "Epoch 13/20\n",
            "16667/16667 [==============================] - 76s 5ms/step - loss: 0.0758 - acc: 0.9744 - val_loss: 0.4984 - val_acc: 0.8643\n",
            "Epoch 14/20\n",
            "16667/16667 [==============================] - 77s 5ms/step - loss: 0.0650 - acc: 0.9785 - val_loss: 0.6473 - val_acc: 0.8628\n",
            "Epoch 15/20\n",
            "16667/16667 [==============================] - 77s 5ms/step - loss: 0.0611 - acc: 0.9790 - val_loss: 0.5429 - val_acc: 0.8620\n",
            "Epoch 16/20\n",
            "16667/16667 [==============================] - 77s 5ms/step - loss: 0.1043 - acc: 0.9636 - val_loss: 0.4948 - val_acc: 0.8584\n",
            "Epoch 17/20\n",
            "16667/16667 [==============================] - 76s 5ms/step - loss: 0.0604 - acc: 0.9794 - val_loss: 0.5641 - val_acc: 0.8637\n",
            "Epoch 18/20\n",
            "16667/16667 [==============================] - 77s 5ms/step - loss: 0.0556 - acc: 0.9819 - val_loss: 0.5378 - val_acc: 0.8590\n",
            "Epoch 19/20\n",
            "16667/16667 [==============================] - 76s 5ms/step - loss: 0.0477 - acc: 0.9839 - val_loss: 0.7538 - val_acc: 0.8588\n",
            "Epoch 20/20\n",
            "16667/16667 [==============================] - 76s 5ms/step - loss: 0.0984 - acc: 0.9658 - val_loss: 0.5575 - val_acc: 0.8585\n",
            "Accuracy of model : 0.856680\n",
            "=========================\n",
            "Total training time:  1:29:53.914282\n"
          ],
          "name": "stdout"
        }
      ]
    },
    {
      "cell_type": "markdown",
      "metadata": {
        "id": "r3YEePgjCkz5",
        "colab_type": "text"
      },
      "source": [
        "## Loss and Accuracy for each epoch:\n",
        "\n",
        "![alt text](https://doc-0o-88-docs.googleusercontent.com/docs/securesc/v903qu5s530pc8ikhnbi48s9q8im2q6p/61smkk5vus70lc0j481kj7cvgl88sl1t/1578045600000/06997921430171725257/06997921430171725257/1iMr2S2krJqH5BE4PxymS7JpkmusuWloK?authuser=0)"
      ]
    },
    {
      "cell_type": "markdown",
      "metadata": {
        "id": "UQUMBmt9Ckz6",
        "colab_type": "text"
      },
      "source": [
        "## Report metric model:"
      ]
    },
    {
      "cell_type": "code",
      "metadata": {
        "id": "b2QKz18zCkz7",
        "colab_type": "code",
        "colab": {},
        "outputId": "82495d26-f996-499d-9a9e-d1a887f659c6"
      },
      "source": [
        "plot_classification_report(y_test, p2_classes)"
      ],
      "execution_count": 0,
      "outputs": [
        {
          "output_type": "display_data",
          "data": {
            "image/png": "[encoded data removed]",
            "text/plain": [
              "<Figure size 1296x720 with 2 Axes>"
            ]
          },
          "metadata": {
            "tags": [],
            "needs_background": "light"
          }
        }
      ]
    },
    {
      "cell_type": "markdown",
      "metadata": {
        "id": "lVNs3ZJ-Ckz9",
        "colab_type": "text"
      },
      "source": [
        "#### ====================================\n",
        "##  LSTM Attention Model\n",
        "#### ===================================="
      ]
    },
    {
      "cell_type": "markdown",
      "metadata": {
        "id": "OVyjmtPXCkz9",
        "colab_type": "text"
      },
      "source": [
        "### Define Model"
      ]
    },
    {
      "cell_type": "code",
      "metadata": {
        "id": "19NsiWGOCkz_",
        "colab_type": "code",
        "colab": {}
      },
      "source": [
        "def fit_model_L_A(optimizer='adam'):\n",
        "    input_ = keras.layers.Input(shape=[max_review_length], dtype='int32')\n",
        "\n",
        "  # get the embedding layer\n",
        "    embedded = Embedding(\n",
        "          input_dim=top_words,\n",
        "          output_dim=32,\n",
        "          input_length=max_review_length,\n",
        "          trainable=False,\n",
        "          mask_zero=False\n",
        "      )(input_)\n",
        "\n",
        "    activations = LSTM(units, return_sequences=True)(embedded)\n",
        "\n",
        "  # compute importance for each step\n",
        "    attention = Dense(1, activation='tanh')(activations)\n",
        "    attention = keras.layers.Flatten()(attention)\n",
        "    attention = keras.layers.Activation('softmax')(attention)\n",
        "    attention = keras.layers.RepeatVector(units)(attention)\n",
        "    attention = keras.layers.Permute([2, 1])(attention)\n",
        "\n",
        "    multiply_layer = keras.layers.Multiply()\n",
        "    sent_representation = multiply_layer([activations, attention])\n",
        "    # sent_representation = keras.layers.Multiply([activations, attention])\n",
        "    sent_representation = keras.layers.Lambda(lambda xin: K.sum(xin, axis=-2), output_shape=(units,))(sent_representation)\n",
        "\n",
        "    probabilities = Dense(1, activation='sigmoid')(sent_representation)\n",
        "    model_L_A = Model(input=input_, output=probabilities)\n",
        "    model_L_A.compile(loss='binary_crossentropy', optimizer='adam', metrics=['accuracy']) \n",
        "    return model_L_A\n"
      ],
      "execution_count": 0,
      "outputs": []
    },
    {
      "cell_type": "markdown",
      "metadata": {
        "id": "keEZG_qTCk0B",
        "colab_type": "text"
      },
      "source": [
        "\n",
        "###  LSTM Attention Graph Model:\n"
      ]
    },
    {
      "cell_type": "markdown",
      "metadata": {
        "id": "_4fv1zP1Ck0D",
        "colab_type": "text"
      },
      "source": [
        "![alt text](https://doc-10-88-docs.googleusercontent.com/docs/securesc/v903qu5s530pc8ikhnbi48s9q8im2q6p/t98h692ps4str2pff180ue7d2vdtrkp1/1578045600000/06997921430171725257/06997921430171725257/1ZZhwd6c_04uRnnLEUpxzL-ikyNhfKgfZ?authuser=0)"
      ]
    },
    {
      "cell_type": "markdown",
      "metadata": {
        "id": "3TjaL9GFCk0D",
        "colab_type": "text"
      },
      "source": [
        "### Fit Model"
      ]
    },
    {
      "cell_type": "code",
      "metadata": {
        "id": "Xyr_5824Ck0E",
        "colab_type": "code",
        "colab": {},
        "outputId": "af0ebc79-ee28-484f-cb26-c8513d476d47"
      },
      "source": [
        "n_split=3\n",
        "pred_lsA_model = np.array([])\n",
        "i = 0\n",
        "\n",
        "\n",
        "# Callbacks Model\n",
        "model_checkpoint = callbacks.ModelCheckpoint('D:/TrainingModels/Model_LSTM_Attention/model_checkpoint.{epoch}.h5')\n",
        "model_logger = callbacks.CSVLogger('D:/TrainingModels/Model_LSTM_Attention/training_log.log')\n",
        "tensorboard = callbacks.TensorBoard(log_dir = 'D:/TrainingModels/Model_LSTM_Attention/tensorboard')\n",
        "call_backs = [model_checkpoint,model_logger,tensorboard]\n",
        "\n",
        "model = fit_model_L_A()\n",
        "start = datetime.datetime.now()\n",
        "for train_index,test_index in KFold(n_split).split(X_train):\n",
        "\n",
        "\n",
        "    x_train, x_test, Y_train, Y_test = X_train[train_index], X_test[test_index], y_train[train_index], y_test[test_index]\n",
        "    \n",
        "    model.fit(x_train, Y_train,epochs=20,batch_size=128,\n",
        "              callbacks=call_backs,\n",
        "             validation_data=(x_test, Y_test))\n",
        "    \n",
        "    pred_lsA_model = np.append(pred_lsA_model,model.predict(x_test))\n",
        "    i = i + 1\n",
        "    \n",
        "    \n",
        "# predict probabilities for test set\n",
        "p3_probs = model.predict(X_test, verbose=0)\n",
        "# predict crisp classes for test set\n",
        "p3_classes =[0 if i<0.5 else 1 for i in p3_probs]\n",
        "\n",
        "# reduce to 1d array\n",
        "p3_probs = p3_probs[:, 0]\n",
        "\n",
        "# accuracy: (tp + tn) / (p + n)\n",
        "accuracy = accuracy_score(y_test, p3_classes)\n",
        "print('Accuracy of model : %f' % accuracy)\n",
        "\n",
        "\n",
        "end = datetime.datetime.now()\n",
        "\n",
        "elapsed = end-start\n",
        "\n",
        "\n",
        "# Save Model\n",
        "model.save('D:/TrainingModels/Model_LSTM/Model_LSTM_Attention.h5')\n",
        "model.save_weights('D:/TrainingModels/Model_LSTM/Model_LSTM_Attention_Weights.h5')\n",
        "\n",
        "print(25*\"=\")\n",
        "print(\"Total training time: \", str(elapsed))\n",
        "\n",
        "\n"
      ],
      "execution_count": 0,
      "outputs": [
        {
          "output_type": "stream",
          "text": [
            "C:\\Python\\Anaconda3\\lib\\site-packages\\ipykernel_launcher.py:28: UserWarning: Update your `Model` call to the Keras 2 API: `Model(inputs=Tensor(\"in..., outputs=Tensor(\"de...)`\n"
          ],
          "name": "stderr"
        },
        {
          "output_type": "stream",
          "text": [
            "Train on 16666 samples, validate on 8334 samples\n",
            "Epoch 1/20\n",
            "16666/16666 [==============================] - 135s 8ms/step - loss: 0.6932 - acc: 0.5044 - val_loss: 0.6931 - val_acc: 0.4924\n",
            "Epoch 2/20\n",
            "16666/16666 [==============================] - 134s 8ms/step - loss: 0.6931 - acc: 0.5059 - val_loss: 0.6932 - val_acc: 0.5076\n",
            "Epoch 3/20\n",
            "16666/16666 [==============================] - 133s 8ms/step - loss: 0.6929 - acc: 0.5062 - val_loss: 0.6929 - val_acc: 0.5164\n",
            "Epoch 4/20\n",
            "16666/16666 [==============================] - 134s 8ms/step - loss: 0.6929 - acc: 0.5137 - val_loss: 0.6940 - val_acc: 0.4924\n",
            "Epoch 5/20\n",
            "16666/16666 [==============================] - 134s 8ms/step - loss: 0.6951 - acc: 0.5123 - val_loss: 0.6929 - val_acc: 0.4950\n",
            "Epoch 6/20\n",
            "16666/16666 [==============================] - 133s 8ms/step - loss: 0.6926 - acc: 0.5154 - val_loss: 0.6920 - val_acc: 0.5401\n",
            "Epoch 7/20\n",
            "16666/16666 [==============================] - 135s 8ms/step - loss: 0.6928 - acc: 0.5143 - val_loss: 0.6927 - val_acc: 0.5428\n",
            "Epoch 8/20\n",
            "16666/16666 [==============================] - 141s 8ms/step - loss: 0.6927 - acc: 0.5105 - val_loss: 0.6927 - val_acc: 0.5028\n",
            "Epoch 9/20\n",
            "16666/16666 [==============================] - 142s 9ms/step - loss: 0.6925 - acc: 0.5221 - val_loss: 0.6922 - val_acc: 0.5467\n",
            "Epoch 10/20\n",
            "16666/16666 [==============================] - 141s 8ms/step - loss: 0.6925 - acc: 0.5195 - val_loss: 0.6921 - val_acc: 0.5290\n",
            "Epoch 11/20\n",
            "16666/16666 [==============================] - 142s 9ms/step - loss: 0.6931 - acc: 0.5188 - val_loss: 0.6926 - val_acc: 0.5020\n",
            "Epoch 12/20\n",
            "16666/16666 [==============================] - 142s 9ms/step - loss: 0.6925 - acc: 0.5265 - val_loss: 0.6922 - val_acc: 0.5388\n",
            "Epoch 13/20\n",
            "16666/16666 [==============================] - 142s 9ms/step - loss: 0.6914 - acc: 0.5268 - val_loss: 0.6920 - val_acc: 0.5082\n",
            "Epoch 14/20\n",
            "16666/16666 [==============================] - 141s 8ms/step - loss: 0.6915 - acc: 0.5196 - val_loss: 0.6912 - val_acc: 0.5150\n",
            "Epoch 15/20\n",
            "16666/16666 [==============================] - 147s 9ms/step - loss: 0.6973 - acc: 0.5247 - val_loss: 0.6929 - val_acc: 0.4924\n",
            "Epoch 16/20\n",
            "16666/16666 [==============================] - 143s 9ms/step - loss: 0.6931 - acc: 0.5032 - val_loss: 0.6933 - val_acc: 0.4924\n",
            "Epoch 17/20\n",
            "16666/16666 [==============================] - 135s 8ms/step - loss: 0.6928 - acc: 0.5152 - val_loss: 0.6926 - val_acc: 0.5222\n",
            "Epoch 18/20\n",
            "16666/16666 [==============================] - 133s 8ms/step - loss: 0.6926 - acc: 0.5095 - val_loss: 0.6925 - val_acc: 0.5106\n",
            "Epoch 19/20\n",
            "16666/16666 [==============================] - 133s 8ms/step - loss: 0.6924 - acc: 0.5152 - val_loss: 0.6923 - val_acc: 0.5311\n",
            "Epoch 20/20\n",
            "16666/16666 [==============================] - 133s 8ms/step - loss: 0.6922 - acc: 0.5205 - val_loss: 0.6922 - val_acc: 0.5236\n",
            "Train on 16667 samples, validate on 8333 samples\n",
            "Epoch 1/20\n",
            "16667/16667 [==============================] - 132s 8ms/step - loss: 0.6922 - acc: 0.5144 - val_loss: 0.6921 - val_acc: 0.5239\n",
            "Epoch 2/20\n",
            "16667/16667 [==============================] - 132s 8ms/step - loss: 0.6922 - acc: 0.5163 - val_loss: 0.6925 - val_acc: 0.5145\n",
            "Epoch 3/20\n",
            "16667/16667 [==============================] - 133s 8ms/step - loss: 0.6921 - acc: 0.5175 - val_loss: 0.6918 - val_acc: 0.5248\n",
            "Epoch 4/20\n",
            "16667/16667 [==============================] - 132s 8ms/step - loss: 0.6916 - acc: 0.5192 - val_loss: 0.6914 - val_acc: 0.5289\n",
            "Epoch 5/20\n",
            "16667/16667 [==============================] - 132s 8ms/step - loss: 0.6906 - acc: 0.5266 - val_loss: 0.6897 - val_acc: 0.5244\n",
            "Epoch 6/20\n",
            "16667/16667 [==============================] - 132s 8ms/step - loss: 0.6895 - acc: 0.5321 - val_loss: 0.6911 - val_acc: 0.5253\n",
            "Epoch 7/20\n",
            "16667/16667 [==============================] - 133s 8ms/step - loss: 0.6908 - acc: 0.5309 - val_loss: 0.6937 - val_acc: 0.4995\n",
            "Epoch 8/20\n",
            "16667/16667 [==============================] - 132s 8ms/step - loss: 0.6915 - acc: 0.5292 - val_loss: 0.6920 - val_acc: 0.5110\n",
            "Epoch 9/20\n",
            "16667/16667 [==============================] - 133s 8ms/step - loss: 0.6909 - acc: 0.5373 - val_loss: 0.6919 - val_acc: 0.5100\n",
            "Epoch 10/20\n",
            "16667/16667 [==============================] - 133s 8ms/step - loss: 0.6880 - acc: 0.5399 - val_loss: 0.6860 - val_acc: 0.5473\n",
            "Epoch 11/20\n",
            "16667/16667 [==============================] - 133s 8ms/step - loss: 0.6858 - acc: 0.5535 - val_loss: 0.6873 - val_acc: 0.5449\n",
            "Epoch 12/20\n",
            "16667/16667 [==============================] - 132s 8ms/step - loss: 0.6870 - acc: 0.5427 - val_loss: 0.6932 - val_acc: 0.5352\n",
            "Epoch 13/20\n",
            "16667/16667 [==============================] - 132s 8ms/step - loss: 0.6818 - acc: 0.5628 - val_loss: 0.6831 - val_acc: 0.5518\n",
            "Epoch 14/20\n",
            "16667/16667 [==============================] - 133s 8ms/step - loss: 0.6817 - acc: 0.5665 - val_loss: 0.6786 - val_acc: 0.5687\n",
            "Epoch 15/20\n",
            "16667/16667 [==============================] - 134s 8ms/step - loss: 0.6782 - acc: 0.5739 - val_loss: 0.6776 - val_acc: 0.5712\n",
            "Epoch 16/20\n",
            "16667/16667 [==============================] - 133s 8ms/step - loss: 0.6765 - acc: 0.5787 - val_loss: 0.6732 - val_acc: 0.5724\n",
            "Epoch 17/20\n",
            "16667/16667 [==============================] - 133s 8ms/step - loss: 0.6771 - acc: 0.5771 - val_loss: 0.6758 - val_acc: 0.5741\n",
            "Epoch 18/20\n",
            "16667/16667 [==============================] - 133s 8ms/step - loss: 0.6707 - acc: 0.5901 - val_loss: 0.6699 - val_acc: 0.5934\n",
            "Epoch 19/20\n",
            "16667/16667 [==============================] - 133s 8ms/step - loss: 0.6673 - acc: 0.5986 - val_loss: 0.6747 - val_acc: 0.5862\n",
            "Epoch 20/20\n",
            "16667/16667 [==============================] - 134s 8ms/step - loss: 0.6682 - acc: 0.5943 - val_loss: 0.6762 - val_acc: 0.5926\n",
            "Train on 16667 samples, validate on 8333 samples\n",
            "Epoch 1/20\n",
            "16667/16667 [==============================] - 133s 8ms/step - loss: 0.6637 - acc: 0.6038 - val_loss: 0.6686 - val_acc: 0.5911\n",
            "Epoch 2/20\n",
            "16667/16667 [==============================] - 133s 8ms/step - loss: 0.6629 - acc: 0.6069 - val_loss: 0.6667 - val_acc: 0.5968\n",
            "Epoch 3/20\n",
            "16667/16667 [==============================] - 133s 8ms/step - loss: 0.6587 - acc: 0.6090 - val_loss: 0.6699 - val_acc: 0.5917\n",
            "Epoch 4/20\n",
            "16667/16667 [==============================] - 133s 8ms/step - loss: 0.6597 - acc: 0.6096 - val_loss: 0.6569 - val_acc: 0.6130\n",
            "Epoch 5/20\n",
            "16667/16667 [==============================] - 134s 8ms/step - loss: 0.6567 - acc: 0.6120 - val_loss: 0.6562 - val_acc: 0.6131\n",
            "Epoch 6/20\n",
            "16667/16667 [==============================] - 134s 8ms/step - loss: 0.6541 - acc: 0.6141 - val_loss: 0.6533 - val_acc: 0.6216\n",
            "Epoch 7/20\n",
            "16667/16667 [==============================] - 133s 8ms/step - loss: 0.6487 - acc: 0.6215 - val_loss: 0.6541 - val_acc: 0.6304\n",
            "Epoch 8/20\n",
            "16667/16667 [==============================] - 134s 8ms/step - loss: 0.6470 - acc: 0.6281 - val_loss: 0.6495 - val_acc: 0.6268\n",
            "Epoch 9/20\n",
            "16667/16667 [==============================] - 134s 8ms/step - loss: 0.6474 - acc: 0.6218 - val_loss: 0.6442 - val_acc: 0.6311\n",
            "Epoch 10/20\n",
            "16667/16667 [==============================] - 133s 8ms/step - loss: 0.6443 - acc: 0.6280 - val_loss: 0.6490 - val_acc: 0.6253\n",
            "Epoch 11/20\n",
            "16667/16667 [==============================] - 133s 8ms/step - loss: 0.6470 - acc: 0.6278 - val_loss: 0.6568 - val_acc: 0.6053\n",
            "Epoch 12/20\n",
            "16667/16667 [==============================] - 133s 8ms/step - loss: 0.6428 - acc: 0.6318 - val_loss: 0.6437 - val_acc: 0.6323\n",
            "Epoch 13/20\n",
            "16667/16667 [==============================] - 134s 8ms/step - loss: 0.6413 - acc: 0.6305 - val_loss: 0.6543 - val_acc: 0.6141\n",
            "Epoch 14/20\n",
            "16667/16667 [==============================] - 132s 8ms/step - loss: 0.6387 - acc: 0.6347 - val_loss: 0.6569 - val_acc: 0.6155\n",
            "Epoch 15/20\n",
            "16667/16667 [==============================] - 132s 8ms/step - loss: 0.6381 - acc: 0.6398 - val_loss: 0.6390 - val_acc: 0.6405\n",
            "Epoch 16/20\n",
            "16667/16667 [==============================] - 132s 8ms/step - loss: 0.6347 - acc: 0.6392 - val_loss: 0.6387 - val_acc: 0.6397\n",
            "Epoch 17/20\n",
            "16667/16667 [==============================] - 132s 8ms/step - loss: 0.6320 - acc: 0.6435 - val_loss: 0.6358 - val_acc: 0.6431\n",
            "Epoch 18/20\n",
            "16667/16667 [==============================] - 133s 8ms/step - loss: 0.6268 - acc: 0.6466 - val_loss: 0.6444 - val_acc: 0.6318\n",
            "Epoch 19/20\n",
            "16667/16667 [==============================] - 132s 8ms/step - loss: 0.6283 - acc: 0.6490 - val_loss: 0.6310 - val_acc: 0.6429\n",
            "Epoch 20/20\n",
            "16667/16667 [==============================] - 133s 8ms/step - loss: 0.6302 - acc: 0.6501 - val_loss: 0.6327 - val_acc: 0.6430\n",
            "Accuracy of model : 0.641200\n",
            "=========================\n",
            "Total training time:  2:23:00.002295\n"
          ],
          "name": "stdout"
        }
      ]
    },
    {
      "cell_type": "markdown",
      "metadata": {
        "id": "h-brn6fdCk0G",
        "colab_type": "text"
      },
      "source": [
        "## Loss and Accuracy for each epoch\n",
        "![alt text](https://doc-0k-88-docs.googleusercontent.com/docs/securesc/v903qu5s530pc8ikhnbi48s9q8im2q6p/3t2sv75vto3pgoova6r62qigne390hk6/1578045600000/06997921430171725257/06997921430171725257/1ZmyU1loJQuLReb4t3NASIiip8cfIKYsj?authuser=0)"
      ]
    },
    {
      "cell_type": "markdown",
      "metadata": {
        "id": "0A8KY_s6Ck0G",
        "colab_type": "text"
      },
      "source": [
        "## Report metric model:"
      ]
    },
    {
      "cell_type": "code",
      "metadata": {
        "id": "pOuFZfqtCk0H",
        "colab_type": "code",
        "colab": {},
        "outputId": "e4db4a86-cac0-4049-c1a0-d3c34c556f61"
      },
      "source": [
        "plot_classification_report(y_test, p3_classes)"
      ],
      "execution_count": 0,
      "outputs": [
        {
          "output_type": "display_data",
          "data": {
            "image/png": "[encoded data removed]",
            "text/plain": [
              "<Figure size 1296x720 with 2 Axes>"
            ]
          },
          "metadata": {
            "tags": [],
            "needs_background": "light"
          }
        }
      ]
    },
    {
      "cell_type": "markdown",
      "metadata": {
        "id": "LH80YmKhCk0J",
        "colab_type": "text"
      },
      "source": [
        "### Vstack outputs"
      ]
    },
    {
      "cell_type": "markdown",
      "metadata": {
        "id": "_SNCa2LsCk0J",
        "colab_type": "text"
      },
      "source": [
        "The vstack() function is used to stack arrays in sequence vertically (row wise).\n",
        "This is equivalent to concatenation along the first axis after 1-D arrays of shape (N,) have been reshaped to (1,N).\n",
        "\n",
        "![alt text](https://doc-0g-88-docs.googleusercontent.com/docs/securesc/v903qu5s530pc8ikhnbi48s9q8im2q6p/8403bus6cg8e6j2kkh3902lpca0th0n4/1578045600000/06997921430171725257/06997921430171725257/1FmktZYVa9-jdWonnie-3zlpJYqk6O1Kn?authuser=0)"
      ]
    },
    {
      "cell_type": "code",
      "metadata": {
        "colab_type": "code",
        "id": "AMSfgfDeNACe",
        "colab": {}
      },
      "source": [
        "concatenate_train = np.vstack([pred_ls_model_1,pred_ls_model_2,pred_lsA_model])"
      ],
      "execution_count": 0,
      "outputs": []
    },
    {
      "cell_type": "markdown",
      "metadata": {
        "id": "cjo7nW5SCk0M",
        "colab_type": "text"
      },
      "source": [
        "#### Logistic Regression (aka logit, MaxEnt) classifier.\n",
        "\n",
        "In the multiclass case, the training algorithm uses the one-vs-rest (OvR) scheme if the ‘multi_class’ option is set to ‘ovr’, and uses the cross-entropy loss if the ‘multi_class’ option is set to ‘multinomial’. (Currently the ‘multinomial’ option is supported only by the ‘lbfgs’, ‘sag’, ‘saga’ and ‘newton-cg’ solvers.)\n",
        "\n",
        "This class implements regularized logistic regression using the ‘liblinear’ library, ‘newton-cg’, ‘sag’, ‘saga’ and ‘lbfgs’ solvers. Note that regularization is applied by default. It can handle both dense and sparse input. Use C-ordered arrays or CSR matrices containing 64-bit floats for optimal performance; any other input format will be converted (and copied).\n",
        "\n",
        "The ‘newton-cg’, ‘sag’, and ‘lbfgs’ solvers support only L2 regularization with primal formulation, or no regularization. The ‘liblinear’ solver supports both L1 and L2 regularization, with a dual formulation only for the L2 penalty. The Elastic-Net regularization is only supported by the ‘saga’ solver.\n",
        "\n",
        "Read more in the User Guide:\n",
        "    \n",
        "#### ref: https://scikit-learn.org/stable/modules/generated/sklearn.linear_model.LogisticRegression.html"
      ]
    },
    {
      "cell_type": "markdown",
      "metadata": {
        "id": "gwmZnrPACk0M",
        "colab_type": "text"
      },
      "source": [
        "## Impelementation Stacking"
      ]
    },
    {
      "cell_type": "code",
      "metadata": {
        "colab_type": "code",
        "id": "Cfs5Ti61M_kI",
        "outputId": "05324386-8919-4626-9465-6dedb7f44222",
        "colab": {
          "base_uri": "https://localhost:8080/",
          "height": 106
        }
      },
      "source": [
        "from sklearn.linear_model import LogisticRegression\n",
        "lr = LogisticRegression()\n",
        "\n",
        "lr_model = lr.fit(concatenate_train.T,Y_target.reshape(-1,1))"
      ],
      "execution_count": 0,
      "outputs": [
        {
          "output_type": "stream",
          "text": [
            "C:\\Python\\Anaconda3\\lib\\site-packages\\sklearn\\linear_model\\logistic.py:432: FutureWarning: Default solver will be changed to 'lbfgs' in 0.22. Specify a solver to silence this warning.\n",
            "  FutureWarning)\n",
            "C:\\Python\\Anaconda3\\lib\\site-packages\\sklearn\\utils\\validation.py:724: DataConversionWarning: A column-vector y was passed when a 1d array was expected. Please change the shape of y to (n_samples, ), for example using ravel().\n",
            "  y = column_or_1d(y, warn=True)\n"
          ],
          "name": "stderr"
        }
      ]
    },
    {
      "cell_type": "code",
      "metadata": {
        "colab_type": "code",
        "id": "ERUkI0zW-Fh9",
        "colab": {}
      },
      "source": [
        "p1p2p3=np.vstack([p1_probs.T,p2_probs.T,p3_probs.T]).T"
      ],
      "execution_count": 0,
      "outputs": []
    },
    {
      "cell_type": "code",
      "metadata": {
        "colab_type": "code",
        "id": "ZeaDSInH-nnP",
        "colab": {}
      },
      "source": [
        "pred_test=lr_model.predict(p1p2p3)"
      ],
      "execution_count": 0,
      "outputs": []
    },
    {
      "cell_type": "code",
      "metadata": {
        "colab_type": "code",
        "id": "hM9Ib5nMQroB",
        "outputId": "ab1e0a0e-a26e-4d5f-def8-3673bea7182a",
        "colab": {
          "base_uri": "https://localhost:8080/",
          "height": 190
        }
      },
      "source": [
        "plot_classification_report(y_test,pred_test,cmap='coolwarm')"
      ],
      "execution_count": 0,
      "outputs": [
        {
          "output_type": "display_data",
          "data": {
            "image/png": "[encoded data removed]",
            "text/plain": [
              "<Figure size 1296x720 with 2 Axes>"
            ]
          },
          "metadata": {
            "tags": [],
            "needs_background": "light"
          }
        }
      ]
    },
    {
      "cell_type": "markdown",
      "metadata": {
        "id": "fIWJkj_CCk0T",
        "colab_type": "text"
      },
      "source": [
        "### Calculate Accuracy Stacking"
      ]
    },
    {
      "cell_type": "code",
      "metadata": {
        "id": "-Gi6hmsfIudP",
        "colab_type": "code",
        "colab": {}
      },
      "source": [
        "# accuracy: (tp + tn) / (p + n)\n",
        "accuracy = accuracy_score(y_test,pred_test)\n",
        "print('Accuracy of Stacking : %f' % accuracy)"
      ],
      "execution_count": 0,
      "outputs": []
    },
    {
      "cell_type": "markdown",
      "metadata": {
        "id": "9HbnscHkCk0W",
        "colab_type": "text"
      },
      "source": [
        "## Final check accuracy all model"
      ]
    },
    {
      "cell_type": "code",
      "metadata": {
        "id": "P6rxXEM8Ck0W",
        "colab_type": "code",
        "colab": {}
      },
      "source": [
        "accuracy_p1_classes = accuracy_score(y_test, p1_classes)\n",
        "accuracy_p2_classes = accuracy_score(y_test, p2_classes)\n",
        "accuracy_p3_classes = accuracy_score(y_test, p3_classes)\n",
        "accuracy_Stack = accuracy_score(y_test,pred_test)"
      ],
      "execution_count": 0,
      "outputs": []
    },
    {
      "cell_type": "code",
      "metadata": {
        "id": "OYtz1YZlCk0Y",
        "colab_type": "code",
        "colab": {},
        "outputId": "6dc91bc3-823c-4693-8bae-9a1252371c21"
      },
      "source": [
        "dic = {'Model' : ['Stacking','Text_CNN','LSTM','LSTM_Attention'],\n",
        "      'Accuracy': [accuracy_Stack,accuracy_p1_classes,accuracy_p2_classes,accuracy_p3_classes]}\n",
        "\n",
        "df = pd.DataFrame(dic)\n",
        "df.head()"
      ],
      "execution_count": 0,
      "outputs": [
        {
          "output_type": "execute_result",
          "data": {
            "text/html": [
              "<div>\n",
              "<style scoped>\n",
              "    .dataframe tbody tr th:only-of-type {\n",
              "        vertical-align: middle;\n",
              "    }\n",
              "\n",
              "    .dataframe tbody tr th {\n",
              "        vertical-align: top;\n",
              "    }\n",
              "\n",
              "    .dataframe thead th {\n",
              "        text-align: right;\n",
              "    }\n",
              "</style>\n",
              "<table border=\"1\" class=\"dataframe\">\n",
              "  <thead>\n",
              "    <tr style=\"text-align: right;\">\n",
              "      <th></th>\n",
              "      <th>Model</th>\n",
              "      <th>Accuracy</th>\n",
              "    </tr>\n",
              "  </thead>\n",
              "  <tbody>\n",
              "    <tr>\n",
              "      <th>0</th>\n",
              "      <td>Stacking</td>\n",
              "      <td>0.88908</td>\n",
              "    </tr>\n",
              "    <tr>\n",
              "      <th>1</th>\n",
              "      <td>Text_CNN</td>\n",
              "      <td>0.88092</td>\n",
              "    </tr>\n",
              "    <tr>\n",
              "      <th>2</th>\n",
              "      <td>LSTM</td>\n",
              "      <td>0.85668</td>\n",
              "    </tr>\n",
              "    <tr>\n",
              "      <th>3</th>\n",
              "      <td>LSTM_Attention</td>\n",
              "      <td>0.64120</td>\n",
              "    </tr>\n",
              "  </tbody>\n",
              "</table>\n",
              "</div>"
            ],
            "text/plain": [
              "            Model  Accuracy\n",
              "0        Stacking   0.88908\n",
              "1        Text_CNN   0.88092\n",
              "2            LSTM   0.85668\n",
              "3  LSTM_Attention   0.64120"
            ]
          },
          "metadata": {
            "tags": []
          },
          "execution_count": 68
        }
      ]
    },
    {
      "cell_type": "code",
      "metadata": {
        "id": "OCDZATxCCk0Z",
        "colab_type": "code",
        "colab": {},
        "outputId": "d456dacc-d556-4995-ade2-804d65a97178"
      },
      "source": [
        "xticks = ['Stacking','Text CNN', 'LSTM', 'LSTM Attention']\n",
        "yticks = [accuracy_Stack,accuracy_p1_classes,accuracy_p2_classes,\n",
        "accuracy_p3_classes]\n",
        "\n",
        "sns.set(style=\"whitegrid\")\n",
        "ax = sns.barplot(x=xticks, y=yticks,palette=\"RdBu\")"
      ],
      "execution_count": 0,
      "outputs": [
        {
          "output_type": "display_data",
          "data": {
            "image/png": "[encoded data removed]",
            "text/plain": [
              "<Figure size 432x288 with 1 Axes>"
            ]
          },
          "metadata": {
            "tags": []
          }
        }
      ]
    },
    {
      "cell_type": "code",
      "metadata": {
        "id": "c5V9ad1MCk0b",
        "colab_type": "code",
        "colab": {}
      },
      "source": [
        ""
      ],
      "execution_count": 0,
      "outputs": []
    }
  ]
}