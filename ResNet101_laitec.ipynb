{
  "nbformat": 4,
  "nbformat_minor": 0,
  "metadata": {
    "colab": {
      "name": "ResNet101.ipynb",
      "provenance": [],
      "include_colab_link": true
    },
    "kernelspec": {
      "name": "python3",
      "display_name": "Python 3"
    },
    "accelerator": "GPU"
  },
  "cells": [
    {
      "cell_type": "markdown",
      "metadata": {
        "id": "view-in-github",
        "colab_type": "text"
      },
      "source": [
        "<a href=\"https://colab.research.google.com/github/MehrdadJannesar/CNN_AdaBoost/blob/master/ResNet101_laitec.ipynb\" target=\"_parent\"><img src=\"https://colab.research.google.com/assets/colab-badge.svg\" alt=\"Open In Colab\"/></a>"
      ]
    },
    {
      "cell_type": "code",
      "metadata": {
        "id": "UczYE_bvSKYm",
        "colab_type": "code",
        "colab": {}
      },
      "source": [
        "import keras\n",
        "from keras.datasets import cifar100\n",
        "from keras.models import Model\n",
        "from keras.layers import Dense,Input\n",
        "from keras.applications.resnet import ResNet101\n",
        "import numpy as np"
      ],
      "execution_count": 0,
      "outputs": []
    },
    {
      "cell_type": "code",
      "metadata": {
        "id": "AwAl97hmSug2",
        "colab_type": "code",
        "colab": {}
      },
      "source": [
        "(train_images,train_labels),(test_images,test_labels) = cifar10.load_data()\n",
        "\n",
        "X_train = train_images.astype('float32')\n",
        "X_test = test_images.astype('float32')\n",
        "\n",
        "X_train /=255\n",
        "X_test /=255\n",
        "N_classes = 10\n",
        "Y_train = keras.utils.to_categorical(train_labels,N_classes)\n",
        "Y_test = keras.utils.to_categorical(test_labels,N_classes)"
      ],
      "execution_count": 0,
      "outputs": []
    },
    {
      "cell_type": "code",
      "metadata": {
        "id": "XNHRBbW1Uop8",
        "colab_type": "code",
        "colab": {}
      },
      "source": [
        "input_layer = Input(shape=(32,32,3))\n",
        "resnet = ResNet101(include_top = False, pooling = 'avg',weights=None)(input_layer)\n",
        "dense = Dense(10,activation='softmax')(resnet)\n",
        "\n",
        "mymodel = Model(input_layer, dense)"
      ],
      "execution_count": 0,
      "outputs": []
    },
    {
      "cell_type": "code",
      "metadata": {
        "id": "XAjl6t4SVJ6_",
        "colab_type": "code",
        "colab": {}
      },
      "source": [
        "sgd = keras.optimizers.SGD(lr=0.01, decay = 1e-6,momentum=0.9,nesterov=True)\n",
        "mymodel.compile(optimizer=sgd ,loss = keras.losses.categorical_crossentropy, metrics=['accuracy'])"
      ],
      "execution_count": 0,
      "outputs": []
    },
    {
      "cell_type": "code",
      "metadata": {
        "id": "48oQIJ0AVp1N",
        "colab_type": "code",
        "colab": {
          "base_uri": "https://localhost:8080/",
          "height": 351
        },
        "outputId": "b2390cce-a677-465f-c85a-c09667e39a08"
      },
      "source": [
        "net = mymodel.fit(X_train,Y_train, batch_size=128,epochs=10)"
      ],
      "execution_count": 30,
      "outputs": [
        {
          "output_type": "stream",
          "text": [
            "Epoch 1/10\n",
            "50000/50000 [==============================] - 50s 1ms/step - loss: 1.2668 - acc: 0.5734\n",
            "Epoch 2/10\n",
            "50000/50000 [==============================] - 50s 1ms/step - loss: 1.1264 - acc: 0.6235\n",
            "Epoch 3/10\n",
            "50000/50000 [==============================] - 50s 1ms/step - loss: 1.0216 - acc: 0.6632\n",
            "Epoch 4/10\n",
            "50000/50000 [==============================] - 50s 1ms/step - loss: 0.9323 - acc: 0.6959\n",
            "Epoch 5/10\n",
            "50000/50000 [==============================] - 50s 1ms/step - loss: 0.8649 - acc: 0.7198\n",
            "Epoch 6/10\n",
            "50000/50000 [==============================] - 51s 1ms/step - loss: 0.8009 - acc: 0.7423\n",
            "Epoch 7/10\n",
            "50000/50000 [==============================] - 51s 1ms/step - loss: 0.7708 - acc: 0.7527\n",
            "Epoch 8/10\n",
            "50000/50000 [==============================] - 51s 1ms/step - loss: 0.7027 - acc: 0.7770\n",
            "Epoch 9/10\n",
            "50000/50000 [==============================] - 51s 1ms/step - loss: 0.6416 - acc: 0.7990\n",
            "Epoch 10/10\n",
            "50000/50000 [==============================] - 51s 1ms/step - loss: 0.6000 - acc: 0.8139\n"
          ],
          "name": "stdout"
        }
      ]
    }
  ]
}