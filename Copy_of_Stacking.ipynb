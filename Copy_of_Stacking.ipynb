{
  "nbformat": 4,
  "nbformat_minor": 0,
  "metadata": {
    "colab": {
      "name": "Copy of Stacking.ipynb",
      "provenance": [],
      "collapsed_sections": [],
      "include_colab_link": true
    },
    "kernelspec": {
      "name": "python3",
      "display_name": "Python 3"
    },
    "accelerator": "GPU"
  },
  "cells": [
    {
      "cell_type": "markdown",
      "metadata": {
        "id": "view-in-github",
        "colab_type": "text"
      },
      "source": [
        "<a href=\"https://colab.research.google.com/github/MehrdadJannesar/CNN_AdaBoost/blob/master/Copy_of_Stacking.ipynb\" target=\"_parent\"><img src=\"https://colab.research.google.com/assets/colab-badge.svg\" alt=\"Open In Colab\"/></a>"
      ]
    },
    {
      "cell_type": "code",
      "metadata": {
        "id": "bvgnalaGsEsw",
        "colab_type": "code",
        "outputId": "93dff58c-3f53-4ced-dea2-3355418aeb57",
        "colab": {
          "base_uri": "https://localhost:8080/",
          "height": 97
        }
      },
      "source": [
        "from keras.datasets import imdb\n",
        "from sklearn.model_selection import train_test_split\n",
        "from keras.preprocessing import sequence\n",
        "from keras.layers import Embedding,Dropout,Conv1D,GlobalMaxPooling1D,Dense,Activation,LSTM,Bidirectional,GRU\n",
        "from keras import backend as K \n",
        "from keras.models import Model\n",
        "import numpy as np"
      ],
      "execution_count": 0,
      "outputs": [
        {
          "output_type": "stream",
          "text": [
            "Using TensorFlow backend.\n"
          ],
          "name": "stderr"
        },
        {
          "output_type": "display_data",
          "data": {
            "text/html": [
              "<p style=\"color: red;\">\n",
              "The default version of TensorFlow in Colab will soon switch to TensorFlow 2.x.<br>\n",
              "We recommend you <a href=\"https://www.tensorflow.org/guide/migrate\" target=\"_blank\">upgrade</a> now \n",
              "or ensure your notebook will continue to use TensorFlow 1.x via the <code>%tensorflow_version 1.x</code> magic:\n",
              "<a href=\"https://colab.research.google.com/notebooks/tensorflow_version.ipynb\" target=\"_blank\">more info</a>.</p>\n"
            ],
            "text/plain": [
              "<IPython.core.display.HTML object>"
            ]
          },
          "metadata": {
            "tags": []
          }
        }
      ]
    },
    {
      "cell_type": "code",
      "metadata": {
        "id": "-KvQm0eqsHpi",
        "colab_type": "code",
        "colab": {}
      },
      "source": [
        "top_words = 5000\n",
        "(X_train, y_train), (X_test, y_test) = imdb.load_data(num_words=top_words)\n"
      ],
      "execution_count": 0,
      "outputs": []
    },
    {
      "cell_type": "code",
      "metadata": {
        "id": "9JS4Hb3usLax",
        "colab_type": "code",
        "colab": {}
      },
      "source": [
        "max_review_length = 500\n",
        "X_train = sequence.pad_sequences(X_train, maxlen=max_review_length)\n",
        "X_test = sequence.pad_sequences(X_test, maxlen=max_review_length)"
      ],
      "execution_count": 0,
      "outputs": []
    },
    {
      "cell_type": "code",
      "metadata": {
        "id": "KjYlR8aysQPJ",
        "colab_type": "code",
        "outputId": "bd1045cf-3f56-4de4-cad0-4cfd6f5491c3",
        "colab": {
          "base_uri": "https://localhost:8080/",
          "height": 1000
        }
      },
      "source": [
        "import tensorflow as tf\n",
        "from sklearn.model_selection import KFold\n",
        "from keras.models import Sequential\n",
        "from keras.layers import Embedding,Dropout,Conv1D,GlobalMaxPooling1D,Dense,Activation,LSTM\n",
        "max_features = 5000\n",
        "embedding_dims = 50\n",
        "maxlen = 500\n",
        "\n",
        "max_features = 5000\n",
        "maxlen = 500\n",
        "batch_size = 32\n",
        "embedding_dims = 50\n",
        "filters = 250\n",
        "kernel_size = 3\n",
        "hidden_dims = 250\n",
        "epochs = 2\n",
        "embedding_vecor_length = 32\n",
        "units = 128\n",
        "\n",
        "def fit_model_text_CNN(optimizer='adam'):\n",
        "  model_text_CNN = Sequential()\n",
        "\n",
        "\n",
        "  model_text_CNN.add(Embedding(max_features,\n",
        "                      embedding_dims,\n",
        "                      input_length=maxlen))\n",
        "  model_text_CNN.add(Dropout(0.2))\n",
        "\n",
        "  model_text_CNN.add(Conv1D(filters,\n",
        "                  kernel_size,\n",
        "                  padding='SAME',\n",
        "                  activation='relu',\n",
        "                  strides=1))\n",
        "  model_text_CNN.add(GlobalMaxPooling1D())\n",
        "\n",
        "  model_text_CNN.add(Dense(hidden_dims))\n",
        "  model_text_CNN.add(Dropout(0.2))\n",
        "  model_text_CNN.add(Activation('relu'))\n",
        "\n",
        "  model_text_CNN.add(Dense(1))\n",
        "  model_text_CNN.add(Activation('sigmoid'))\n",
        "\n",
        "  model_text_CNN.compile(loss='binary_crossentropy',\n",
        "                optimizer='adam',\n",
        "                metrics=['accuracy'])\n",
        "\n",
        "  return model_text_CNN\n",
        "n_split=3\n",
        "pred_ls_model_1 = np.array([])\n",
        "Y_target = np.array([])\n",
        "i = 0\n",
        "model=fit_model_text_CNN()\n",
        "for train_index,test_index in KFold(n_split).split(X_train):\n",
        "\n",
        "\n",
        "    x_train, x_test, Y_train, Y_test = X_train[train_index], X_test[test_index], y_train[train_index], y_test[test_index]\n",
        "    Y_target = np.append(Y_target,Y_test)\n",
        "    model.fit(x_train, Y_train,epochs=3)\n",
        "    print(model.predict(x_test).shape)\n",
        "    pred_ls_model_1 = np.append(pred_ls_model_1,model.predict(x_test))\n",
        "    print('Model Predict {} : {}'.format(i,pred_ls_model_1[i]))\n",
        "    i = i + 1\n",
        "\n",
        "p1 = model.predict(X_test)"
      ],
      "execution_count": 0,
      "outputs": [
        {
          "output_type": "stream",
          "text": [
            "WARNING:tensorflow:From /usr/local/lib/python3.6/dist-packages/keras/backend/tensorflow_backend.py:66: The name tf.get_default_graph is deprecated. Please use tf.compat.v1.get_default_graph instead.\n",
            "\n",
            "WARNING:tensorflow:From /usr/local/lib/python3.6/dist-packages/keras/backend/tensorflow_backend.py:541: The name tf.placeholder is deprecated. Please use tf.compat.v1.placeholder instead.\n",
            "\n",
            "WARNING:tensorflow:From /usr/local/lib/python3.6/dist-packages/keras/backend/tensorflow_backend.py:4432: The name tf.random_uniform is deprecated. Please use tf.random.uniform instead.\n",
            "\n",
            "WARNING:tensorflow:From /usr/local/lib/python3.6/dist-packages/keras/backend/tensorflow_backend.py:148: The name tf.placeholder_with_default is deprecated. Please use tf.compat.v1.placeholder_with_default instead.\n",
            "\n",
            "WARNING:tensorflow:From /usr/local/lib/python3.6/dist-packages/keras/backend/tensorflow_backend.py:3733: calling dropout (from tensorflow.python.ops.nn_ops) with keep_prob is deprecated and will be removed in a future version.\n",
            "Instructions for updating:\n",
            "Please use `rate` instead of `keep_prob`. Rate should be set to `rate = 1 - keep_prob`.\n",
            "WARNING:tensorflow:From /usr/local/lib/python3.6/dist-packages/keras/optimizers.py:793: The name tf.train.Optimizer is deprecated. Please use tf.compat.v1.train.Optimizer instead.\n",
            "\n",
            "WARNING:tensorflow:From /usr/local/lib/python3.6/dist-packages/keras/backend/tensorflow_backend.py:3657: The name tf.log is deprecated. Please use tf.math.log instead.\n",
            "\n",
            "WARNING:tensorflow:From /usr/local/lib/python3.6/dist-packages/tensorflow_core/python/ops/nn_impl.py:183: where (from tensorflow.python.ops.array_ops) is deprecated and will be removed in a future version.\n",
            "Instructions for updating:\n",
            "Use tf.where in 2.0, which has the same broadcast rule as np.where\n",
            "WARNING:tensorflow:From /usr/local/lib/python3.6/dist-packages/keras/backend/tensorflow_backend.py:1033: The name tf.assign_add is deprecated. Please use tf.compat.v1.assign_add instead.\n",
            "\n",
            "WARNING:tensorflow:From /usr/local/lib/python3.6/dist-packages/keras/backend/tensorflow_backend.py:1020: The name tf.assign is deprecated. Please use tf.compat.v1.assign instead.\n",
            "\n",
            "WARNING:tensorflow:From /usr/local/lib/python3.6/dist-packages/keras/backend/tensorflow_backend.py:3005: The name tf.Session is deprecated. Please use tf.compat.v1.Session instead.\n",
            "\n",
            "Epoch 1/3\n",
            "WARNING:tensorflow:From /usr/local/lib/python3.6/dist-packages/keras/backend/tensorflow_backend.py:190: The name tf.get_default_session is deprecated. Please use tf.compat.v1.get_default_session instead.\n",
            "\n",
            "WARNING:tensorflow:From /usr/local/lib/python3.6/dist-packages/keras/backend/tensorflow_backend.py:197: The name tf.ConfigProto is deprecated. Please use tf.compat.v1.ConfigProto instead.\n",
            "\n",
            "WARNING:tensorflow:From /usr/local/lib/python3.6/dist-packages/keras/backend/tensorflow_backend.py:207: The name tf.global_variables is deprecated. Please use tf.compat.v1.global_variables instead.\n",
            "\n",
            "WARNING:tensorflow:From /usr/local/lib/python3.6/dist-packages/keras/backend/tensorflow_backend.py:216: The name tf.is_variable_initialized is deprecated. Please use tf.compat.v1.is_variable_initialized instead.\n",
            "\n",
            "WARNING:tensorflow:From /usr/local/lib/python3.6/dist-packages/keras/backend/tensorflow_backend.py:223: The name tf.variables_initializer is deprecated. Please use tf.compat.v1.variables_initializer instead.\n",
            "\n",
            "16666/16666 [==============================] - 13s 774us/step - loss: 0.4538 - acc: 0.7607\n",
            "Epoch 2/3\n",
            "16666/16666 [==============================] - 3s 186us/step - loss: 0.2412 - acc: 0.9045\n",
            "Epoch 3/3\n",
            "16666/16666 [==============================] - 3s 185us/step - loss: 0.1578 - acc: 0.9427\n",
            "(8334, 1)\n",
            "Model Predict 0 : 0.05676400661468506\n",
            "Epoch 1/3\n",
            "16667/16667 [==============================] - 3s 195us/step - loss: 0.2001 - acc: 0.9248\n",
            "Epoch 2/3\n",
            "16667/16667 [==============================] - 3s 186us/step - loss: 0.1181 - acc: 0.9588\n",
            "Epoch 3/3\n",
            "16667/16667 [==============================] - 3s 190us/step - loss: 0.0751 - acc: 0.9748\n",
            "(8333, 1)\n",
            "Model Predict 1 : 0.9988381862640381\n",
            "Epoch 1/3\n",
            "16667/16667 [==============================] - 3s 185us/step - loss: 0.1227 - acc: 0.9529\n",
            "Epoch 2/3\n",
            "16667/16667 [==============================] - 3s 183us/step - loss: 0.0596 - acc: 0.9795\n",
            "Epoch 3/3\n",
            "16667/16667 [==============================] - 3s 185us/step - loss: 0.0432 - acc: 0.9851\n",
            "(8333, 1)\n",
            "Model Predict 2 : 0.983957827091217\n"
          ],
          "name": "stdout"
        }
      ]
    },
    {
      "cell_type": "markdown",
      "metadata": {
        "id": "BKsye3G1vcos",
        "colab_type": "text"
      },
      "source": [
        "![alt text](https://camo.githubusercontent.com/a802017ecb2ebd2aeeaa601a81ca921a1979fdd4/68747470733a2f2f69302e77702e636f6d2f616e64726f69646b742e636f6d2f77702d636f6e74656e742f75706c6f6164732f323031392f30382f6b2d666f6c642d76616c69646174696f6e2e706e673f726573697a653d3736382532433230312673736c3d31)\n",
        "\n",
        "ref:https://androidkt.com/k-fold-cross-validation-with-tensorflow-keras/"
      ]
    },
    {
      "cell_type": "code",
      "metadata": {
        "id": "xvPKGSc4Elxd",
        "colab_type": "code",
        "outputId": "3a6b8154-e848-43d6-9ad6-db323800828b",
        "colab": {
          "base_uri": "https://localhost:8080/",
          "height": 381
        }
      },
      "source": [
        "import keras\n",
        "\n",
        "def fit_model_L(optimizer='adam'):\n",
        "  model_L = Sequential()\n",
        "  model_L.add(Embedding(top_words, embedding_vecor_length, input_length=max_review_length))\n",
        "  model_L.add(LSTM(100))\n",
        "  model_L.add(Dense(1, activation='sigmoid'))\n",
        "  model_L.compile(loss='binary_crossentropy', optimizer='adam', metrics=['accuracy'])\n",
        "\n",
        "  return model_L\n",
        "\n",
        "n_split=3\n",
        "pred_ls_model_2 = np.array([])\n",
        "i = 0\n",
        "model=fit_model_L()\n",
        "for train_index,test_index in KFold(n_split).split(X_train):\n",
        "\n",
        "\n",
        "    x_train, x_test, Y_train, Y_test = X_train[train_index], X_test[test_index], y_train[train_index], y_test[test_index]\n",
        "    \n",
        "    model.fit(x_train, Y_train,epochs=3,batch_size=128)\n",
        "    pred_ls_model_2 = np.append(pred_ls_model_2,model.predict(x_test))\n",
        "    print('Model Predict {} : {}'.format(i,pred_ls_model_2[i]))\n",
        "    i = i + 1\n",
        "\n",
        "p2 = model.predict(X_test)"
      ],
      "execution_count": 0,
      "outputs": [
        {
          "output_type": "stream",
          "text": [
            "Epoch 1/3\n",
            "16666/16666 [==============================] - 98s 6ms/step - loss: 0.6178 - acc: 0.6622\n",
            "Epoch 2/3\n",
            "16666/16666 [==============================] - 96s 6ms/step - loss: 0.3406 - acc: 0.8566\n",
            "Epoch 3/3\n",
            "16666/16666 [==============================] - 95s 6ms/step - loss: 0.2439 - acc: 0.9050\n",
            "Model Predict 0 : 0.24650287628173828\n",
            "Epoch 1/3\n",
            "16667/16667 [==============================] - 96s 6ms/step - loss: 0.2601 - acc: 0.8984\n",
            "Epoch 2/3\n",
            "16667/16667 [==============================] - 96s 6ms/step - loss: 0.2096 - acc: 0.9208\n",
            "Epoch 3/3\n",
            "16667/16667 [==============================] - 95s 6ms/step - loss: 0.1833 - acc: 0.9321\n",
            "Model Predict 1 : 0.9834648370742798\n",
            "Epoch 1/3\n",
            "16667/16667 [==============================] - 95s 6ms/step - loss: 0.2156 - acc: 0.9195\n",
            "Epoch 2/3\n",
            "16667/16667 [==============================] - 95s 6ms/step - loss: 0.1804 - acc: 0.9330\n",
            "Epoch 3/3\n",
            "16667/16667 [==============================] - 94s 6ms/step - loss: 0.1625 - acc: 0.9416\n",
            "Model Predict 2 : 0.8839119672775269\n"
          ],
          "name": "stdout"
        }
      ]
    },
    {
      "cell_type": "markdown",
      "metadata": {
        "id": "Qwmk-5cJvSyh",
        "colab_type": "text"
      },
      "source": [
        "![alt text](https://camo.githubusercontent.com/a802017ecb2ebd2aeeaa601a81ca921a1979fdd4/68747470733a2f2f69302e77702e636f6d2f616e64726f69646b742e636f6d2f77702d636f6e74656e742f75706c6f6164732f323031392f30382f6b2d666f6c642d76616c69646174696f6e2e706e673f726573697a653d3736382532433230312673736c3d31)\n",
        "\n",
        "ref:https://androidkt.com/k-fold-cross-validation-with-tensorflow-keras/"
      ]
    },
    {
      "cell_type": "code",
      "metadata": {
        "colab_type": "code",
        "id": "AMSfgfDeNACe",
        "colab": {}
      },
      "source": [
        "import numpy as np\n",
        "\n",
        "concatenate_train = np.vstack([pred_ls_model_1,pred_ls_model_2])"
      ],
      "execution_count": 0,
      "outputs": []
    },
    {
      "cell_type": "code",
      "metadata": {
        "id": "qA2PDSIV8frw",
        "colab_type": "code",
        "outputId": "dfbfb041-bf18-42f2-a851-b1e080334c01",
        "colab": {
          "base_uri": "https://localhost:8080/",
          "height": 34
        }
      },
      "source": [
        "Y_target.shape"
      ],
      "execution_count": 0,
      "outputs": [
        {
          "output_type": "execute_result",
          "data": {
            "text/plain": [
              "(25000,)"
            ]
          },
          "metadata": {
            "tags": []
          },
          "execution_count": 23
        }
      ]
    },
    {
      "cell_type": "code",
      "metadata": {
        "colab_type": "code",
        "outputId": "05324386-8919-4626-9465-6dedb7f44222",
        "id": "Cfs5Ti61M_kI",
        "colab": {
          "base_uri": "https://localhost:8080/",
          "height": 106
        }
      },
      "source": [
        "from sklearn.linear_model import LogisticRegression\n",
        "lr = LogisticRegression()\n",
        "\n",
        "\n",
        "lr_model = lr.fit(concatenate_train.T,Y_target.reshape(-1,1))"
      ],
      "execution_count": 0,
      "outputs": [
        {
          "output_type": "stream",
          "text": [
            "/usr/local/lib/python3.6/dist-packages/sklearn/linear_model/logistic.py:432: FutureWarning: Default solver will be changed to 'lbfgs' in 0.22. Specify a solver to silence this warning.\n",
            "  FutureWarning)\n",
            "/usr/local/lib/python3.6/dist-packages/sklearn/utils/validation.py:724: DataConversionWarning: A column-vector y was passed when a 1d array was expected. Please change the shape of y to (n_samples, ), for example using ravel().\n",
            "  y = column_or_1d(y, warn=True)\n"
          ],
          "name": "stderr"
        }
      ]
    },
    {
      "cell_type": "code",
      "metadata": {
        "id": "ERUkI0zW-Fh9",
        "colab_type": "code",
        "outputId": "34c5aa1e-85d9-40b6-d008-6b93c53ecc9d",
        "colab": {
          "base_uri": "https://localhost:8080/",
          "height": 34
        }
      },
      "source": [
        "p1p2=np.vstack([p1.T,p2.T]).T\n",
        "p1p2.shape"
      ],
      "execution_count": 0,
      "outputs": [
        {
          "output_type": "execute_result",
          "data": {
            "text/plain": [
              "(25000, 2)"
            ]
          },
          "metadata": {
            "tags": []
          },
          "execution_count": 31
        }
      ]
    },
    {
      "cell_type": "code",
      "metadata": {
        "id": "ZeaDSInH-nnP",
        "colab_type": "code",
        "colab": {}
      },
      "source": [
        "pred_test=lr_model.predict(p1p2)\n"
      ],
      "execution_count": 0,
      "outputs": []
    },
    {
      "cell_type": "code",
      "metadata": {
        "id": "hM9Ib5nMQroB",
        "colab_type": "code",
        "outputId": "ab1e0a0e-a26e-4d5f-def8-3673bea7182a",
        "colab": {
          "base_uri": "https://localhost:8080/",
          "height": 190
        }
      },
      "source": [
        "from sklearn.metrics import classification_report\n",
        "print(classification_report(y_test,pred_test))\n",
        "print(\"=\"*25)\n"
      ],
      "execution_count": 0,
      "outputs": [
        {
          "output_type": "stream",
          "text": [
            "              precision    recall  f1-score   support\n",
            "\n",
            "           0       0.85      0.94      0.89     12500\n",
            "           1       0.93      0.83      0.88     12500\n",
            "\n",
            "    accuracy                           0.89     25000\n",
            "   macro avg       0.89      0.89      0.88     25000\n",
            "weighted avg       0.89      0.89      0.88     25000\n",
            "\n",
            "=========================\n"
          ],
          "name": "stdout"
        }
      ]
    },
    {
      "cell_type": "code",
      "metadata": {
        "id": "vbslr3PzAVyE",
        "colab_type": "code",
        "outputId": "06d9504e-ecd9-4ece-e5bf-148b0f117475",
        "colab": {
          "base_uri": "https://localhost:8080/",
          "height": 104
        }
      },
      "source": [
        "p2[:5]"
      ],
      "execution_count": 0,
      "outputs": [
        {
          "output_type": "execute_result",
          "data": {
            "text/plain": [
              "array([[0.03683808],\n",
              "       [0.9949735 ],\n",
              "       [0.653527  ],\n",
              "       [0.0925127 ],\n",
              "       [0.99826247]], dtype=float32)"
            ]
          },
          "metadata": {
            "tags": []
          },
          "execution_count": 40
        }
      ]
    },
    {
      "cell_type": "code",
      "metadata": {
        "id": "9pV_zcI01tZy",
        "colab_type": "code",
        "outputId": "c6a3774d-1a32-4453-f5de-88aff742147a",
        "colab": {
          "base_uri": "https://localhost:8080/",
          "height": 190
        }
      },
      "source": [
        "binary_p2=[0 if i<0.5 else 1 for i in p2]\n",
        "print(classification_report(y_test.reshape(-1,1),binary_p2))\n",
        "print(\"=\"*25)"
      ],
      "execution_count": 0,
      "outputs": [
        {
          "output_type": "stream",
          "text": [
            "              precision    recall  f1-score   support\n",
            "\n",
            "           0       0.85      0.90      0.87     12500\n",
            "           1       0.89      0.84      0.87     12500\n",
            "\n",
            "    accuracy                           0.87     25000\n",
            "   macro avg       0.87      0.87      0.87     25000\n",
            "weighted avg       0.87      0.87      0.87     25000\n",
            "\n",
            "=========================\n"
          ],
          "name": "stdout"
        }
      ]
    },
    {
      "cell_type": "code",
      "metadata": {
        "id": "1Ujmh1zrAE9T",
        "colab_type": "code",
        "outputId": "633b51f3-a8ea-4418-c0f8-1456c492235d",
        "colab": {
          "base_uri": "https://localhost:8080/",
          "height": 190
        }
      },
      "source": [
        "binary_p1=[0 if i<0.5 else 1 for i in p1]\n",
        "print(classification_report(y_test.reshape(-1,1),binary_p1))\n",
        "print(\"=\"*25)"
      ],
      "execution_count": 0,
      "outputs": [
        {
          "output_type": "stream",
          "text": [
            "              precision    recall  f1-score   support\n",
            "\n",
            "           0       0.84      0.93      0.88     12500\n",
            "           1       0.92      0.82      0.87     12500\n",
            "\n",
            "    accuracy                           0.88     25000\n",
            "   macro avg       0.88      0.88      0.88     25000\n",
            "weighted avg       0.88      0.88      0.88     25000\n",
            "\n",
            "=========================\n"
          ],
          "name": "stdout"
        }
      ]
    },
    {
      "cell_type": "code",
      "metadata": {
        "id": "SqBBsll1BV_B",
        "colab_type": "code",
        "colab": {}
      },
      "source": [
        ""
      ],
      "execution_count": 0,
      "outputs": []
    }
  ]
}